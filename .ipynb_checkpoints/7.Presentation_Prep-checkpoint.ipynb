{
 "cells": [
  {
   "cell_type": "markdown",
   "metadata": {},
   "source": [
    "<center>\n",
    "<img style=\"float: center;\" src=\"images/CI_horizontal.png\" width=\"400\">\n",
    "</center>\n",
    "<center>\n",
    "    <span style=\"font-size: 1.5em;\">\n",
    "        <a href='https://www.coleridgeinitiative.org'>Website</a>\n",
    "    </span>\n",
    "</center>\n"
   ]
  },
  {
   "cell_type": "markdown",
   "metadata": {},
   "source": [
    "<center> Benjamin Feder, Nathan Barrett </center>\n",
    "<a href=\"https://doi.org/10.5281/zenodo.6412967\"><img src=\"https://zenodo.org/badge/DOI/10.5281/zenodo.6412967.svg\" alt=\"DOI\"></a>\n",
    "\n"
   ]
  },
  {
   "cell_type": "markdown",
   "metadata": {},
   "source": [
    "# **Presentation Preparation**"
   ]
  },
  {
   "cell_type": "markdown",
   "metadata": {},
   "source": [
    "At a certain point in your project work, you will begin thinking about how you might want to convey your results to an external audience. Additionally, you might be concerned that some of your results may not align with the regulations imposed by the data providers. This notebook provides information on how to prepare research output for the export process - both from disclosure control and production  viewpoints. \n",
    "\n",
    "In Module 2, we explored different earnings outcomes for a cohort of bachelor's degree recipients in Texas. Here, we will prepare different types of some previously-generated outputs for use in final presentations and reports. Additionally, we will ensure that each figure or table contains the information required to be accepted through the export review process."
   ]
  },
  {
   "cell_type": "markdown",
   "metadata": {},
   "source": [
    "## **Class-Specific Export Review Guidelines**\n",
    "\n",
    "- Each team will be able to export up to 10 files - Teams are permitted to export summary data tables and figures\n",
    "\n",
    "- Every statistic for export should be based on at least 10 individuals\n",
    "\n",
    "- If wage records are used to generate a file, each statistic must also be based on at least 3 employers\n",
    "\n",
    "- Counts must be rounded - 0-999 to the nearest 10 and above 999 to the nearest 100\n",
    "\n",
    "- Percentages, proportions and ratios need to be rounded - First must apply the rounding rules to both the numerator and denominator, before calculating percentages that must be rounded to the nearest percent and proportions to the nearest hundredth (.01)\n",
    "\n",
    "-  Wages must be rounded to the nearest 100\n",
    "\n",
    "- Exact percentiles can not be exported - Instead, for example, you may calculate a “fuzzy median” by averaging the true 45th and 55th percentiles\n",
    "\n",
    "- Exact maxima and minima can not be exported - You may replace an exact maximum or minimum with a top-coded value\n",
    "\n",
    "- Complementary suppression - If your files include values that are dependent on a separate file, you may need to take into account complementary disclosure risks—that is, whether the file’s values, or a combination of files when read together, might disclose information about less than 10 individuals in the data in a way that a single, simpler table would not. Team facilitators and export reviewers will work with you by offering guidance on implementing any necessary complementary suppression techniques."
   ]
  },
  {
   "cell_type": "markdown",
   "metadata": {},
   "source": [
    "### **Supporting documentation for exports**\n",
    "\n",
    "For each exported file, you will need to provide a table with **unrounded underlying counts** of individuals and employers (if using wage records) for each cell/statistic, as well as one with **unrounded values of any other reported statistics**.\n",
    "\n",
    "- If percentages or proportions are to be exported, you must report both the rounded and the unrounded counts of individuals for the numerator and denominator. You must also report the counts of employers for both the numerator and the denominator if wage records were used.\n",
    "   \n",
    "- Please provide the code used to generate each file. It is important for the ADRF staff to have the code to better understand the creation method. Clearly-commented code files will decrease review time.\n",
    "\n",
    "A more detailed description of the rules for exporting results can be found in the [export documentation](https://coleridgeinitiative.org/adrf/documentation/using-the-adrf/exporting-results/). Before preparing an export submission, please read through the export documentation. Your team lead is expected to spearhead the export submission process."
   ]
  },
  {
   "cell_type": "markdown",
   "metadata": {},
   "source": [
    "## **Learning Objectives**"
   ]
  },
  {
   "cell_type": "markdown",
   "metadata": {},
   "source": [
    "We will prepare both tables and visualizations for potential export in answering the following question:\n",
    "\n",
    "- Do the average/median quarterly earnings and number of individuals employed by quarter in our cohort vary by major?\n",
    "\n",
    "After completing this notebook, you should know how to disclosure-proof both tables and figures and how to optimize visualizations for final products."
   ]
  },
  {
   "cell_type": "markdown",
   "metadata": {},
   "source": [
    "## **Import Packages and Set Up**"
   ]
  },
  {
   "cell_type": "code",
   "execution_count": null,
   "metadata": {},
   "outputs": [],
   "source": [
    "# insert ADRF username Firstname.Lastname.UserID\n",
    "username <- \"____\""
   ]
  },
  {
   "cell_type": "code",
   "execution_count": null,
   "metadata": {},
   "outputs": [],
   "source": [
    "# Database interaction imports\n",
    "library(odbc, warn.conflicts=F, quietly=T)\n",
    "\n",
    "# For data manipulation/visualization\n",
    "library(tidyverse, warn.conflicts=F, quietly=T)\n",
    "\n",
    "# For faster date conversions\n",
    "library(lubridate, warn.conflicts=F, quietly=T)\n",
    "\n",
    "# Use percent() function\n",
    "library(scales, warn.conflicts=F, quietly=T)\n",
    "\n",
    "# to better view images\n",
    "# For easier viewing of graphs\n",
    "# Adjust repr.plot.width and repr.plot.height to change the size of graphs\n",
    "theme_set(theme_gray(base_size = 24))\n",
    "options(repr.plot.width = 20, repr.plot.height = 12)\n",
    "options(warn=0)"
   ]
  },
  {
   "cell_type": "code",
   "execution_count": null,
   "metadata": {},
   "outputs": [],
   "source": [
    "# Connect to the database\n",
    "con <- DBI::dbConnect(odbc::odbc(),\n",
    "                     Driver = \"SQL Server\",\n",
    "                     Server = \"msssql01.c7bdq4o2yhxo.us-gov-west-1.rds.amazonaws.com\",\n",
    "                     Trusted_Connection = \"True\")"
   ]
  },
  {
   "cell_type": "markdown",
   "metadata": {},
   "source": [
    "We will also load in our cohort and cohort's employment information tables."
   ]
  },
  {
   "cell_type": "code",
   "execution_count": null,
   "metadata": {},
   "outputs": [],
   "source": [
    "# load in cohort\n",
    "qry <- \n",
    "\"\n",
    "SELECT * \n",
    "FROM tr_tx_2021.dbo.grads15\n",
    "\"\n",
    "\n",
    "df_cohort <- dbGetQuery(con, qry)"
   ]
  },
  {
   "cell_type": "code",
   "execution_count": null,
   "metadata": {},
   "outputs": [],
   "source": [
    "# read in linked wage records\n",
    "qry <- \"\n",
    "SELECT *\n",
    "FROM tr_tx_2021.dbo.nb_cohort_wages_link\n",
    "\"\n",
    "df_wages_undup <- dbGetQuery(con, qry)"
   ]
  },
  {
   "cell_type": "markdown",
   "metadata": {},
   "source": [
    "## **Do the average quarterly earnings and number of individuals employed by quarter in our cohort vary by major?**\n",
    "\n",
    "Recall the question from both the Data Exploration: Wages and Data Visualization notebooks, as the two notebooks provided answers as a table and an image, respectively.  Here, we will walk through preparing both for production and export review."
   ]
  },
  {
   "cell_type": "markdown",
   "metadata": {},
   "source": [
    "### **Creating the Unrounded Table**"
   ]
  },
  {
   "cell_type": "markdown",
   "metadata": {},
   "source": [
    "Recall the code from the Data Exploration: Wages notebook that produces the unrounded table. **You will always need to provide an unrounded table as part of the export submission.**\n",
    "\n",
    "> Note: Whenever pulling information from the wage records, remember to include individual and employer information, as they will be required to check if the statistics in question pass the disclosure thresholds. Our previously-generated table `nb_cohort_wages_link` already contains employer information in the variable `empr_no`."
   ]
  },
  {
   "cell_type": "code",
   "execution_count": null,
   "metadata": {},
   "outputs": [],
   "source": [
    "# get quarter from graduation\n",
    "df_wages_undup <- df_wages_undup %>%\n",
    "    mutate(\n",
    "        quarter_number = round(as.double(difftime(as.Date(job_date), as.Date(grad_date), units = \"weeks\")/13), 0)\n",
    "    )\n",
    "\n",
    "# ignore quarters 0 and 13\n",
    "df_wages_undup <- df_wages_undup %>%\n",
    "    filter(!(quarter_number %in% c(0, 13)))"
   ]
  },
  {
   "cell_type": "code",
   "execution_count": null,
   "metadata": {},
   "outputs": [],
   "source": [
    "# df_cohort: Create a 2 digit CIP program code from the full CIP code in `gradmaj`\n",
    "df_cohort <- df_cohort %>%\n",
    "    mutate(\n",
    "        CIP_Program = substring(gradmaj, 1, 2)\n",
    "    )\n",
    "\n",
    "# df_wages_undup: Create a 2 digit CIP program code from the full CIP code in `gradmaj`\n",
    "df_wages_undup <- df_wages_undup %>%\n",
    "    mutate(\n",
    "        CIP_Program = substring(gradmaj, 1, 2)\n",
    "    )\n",
    "    \n",
    "# load CIP crosswalk into R\n",
    "qry <- \"\n",
    "SELECT *\n",
    "FROM ds_public_1.dbo.cip_lookup\n",
    "\"\n",
    "cip_lookup <- dbGetQuery(con, qry)\n",
    "\n",
    "# only select 2010 columns\n",
    "cip_lookup <- cip_lookup %>%\n",
    "    select(ends_with(\"2010\"))\n",
    "\n",
    "\n",
    "# 5 most common majors\n",
    "com_majors <- df_cohort %>%\n",
    "    count(CIP_Program) %>%\n",
    "    arrange(desc(n)) %>%\n",
    "    mutate(\n",
    "        prop = n/sum(n)\n",
    "    ) %>%\n",
    "    head(5) %>%\n",
    "    inner_join(cip_lookup, by = c(\"CIP_Program\" = \"CIPCode2010\"))"
   ]
  },
  {
   "cell_type": "code",
   "execution_count": null,
   "metadata": {},
   "outputs": [],
   "source": [
    "# earnings and number employed for most common majors\n",
    "# first find quarterly wages for each person while including major\n",
    "# then find average wages within groups\n",
    "avg_and_num_major <- df_wages_undup %>%\n",
    "    filter(CIP_Program %in% com_majors$CIP_Program) %>%\n",
    "    group_by(gradid, quarter_number, CIP_Program) %>%\n",
    "    summarize(\n",
    "        total_wages = sum(wage)\n",
    "    ) %>%\n",
    "    ungroup() %>%\n",
    "    group_by(CIP_Program, quarter_number) %>%\n",
    "    summarize(\n",
    "            mean_wage = mean(total_wages),\n",
    "            n_employed = n_distinct(gradid)\n",
    "        )  %>%\n",
    "    inner_join(cip_lookup, by = c(\"CIP_Program\" = \"CIPCode2010\")) %>%\n",
    "    ungroup()\n",
    "\n",
    "\n",
    "avg_and_num_major"
   ]
  },
  {
   "cell_type": "markdown",
   "metadata": {},
   "source": [
    "### **Finding Individual Counts**"
   ]
  },
  {
   "cell_type": "markdown",
   "metadata": {},
   "source": [
    "From the table above, we can observe that not only did we produce the indvidual counts per grouping, but also that all categories satisfy the individual count criteria."
   ]
  },
  {
   "cell_type": "markdown",
   "metadata": {},
   "source": [
    "### **Finding Employer Counts**"
   ]
  },
  {
   "cell_type": "markdown",
   "metadata": {},
   "source": [
    "Since we are working with wage records, we also need to make sure each row meets the employer count requirement.\n",
    "\n",
    "> Note: If you are exporting a table that does not contain information from wage records, you do not need to report underlying employer counts."
   ]
  },
  {
   "cell_type": "code",
   "execution_count": null,
   "metadata": {},
   "outputs": [],
   "source": [
    "# find number of unique employers within each major/quarter \n",
    "avg_and_num_major_employers <- df_wages_undup %>%\n",
    "    filter(CIP_Program %in% com_majors$CIP_Program) %>%\n",
    "    group_by(CIP_Program, quarter_number) %>%\n",
    "    summarize(\n",
    "        number_employers = n_distinct(empr_no)\n",
    "    ) %>% \n",
    "    inner_join(cip_lookup, by = c(\"CIP_Program\" = \"CIPCode2010\")) %>%\n",
    "    ungroup()\n",
    "\n",
    "avg_and_num_major_employers"
   ]
  },
  {
   "cell_type": "markdown",
   "metadata": {},
   "source": [
    "We can confirm that all groups also satisfy the employer count requirement. Let's save both the underlying employer counts as well as the original table that contains the unrounded individual counts and additional statistics.\n",
    "\n",
    "> If a subgroup did not meet a requirement, we could either drop the category or further aggregate (i.e. combine with another major) it."
   ]
  },
  {
   "cell_type": "markdown",
   "metadata": {},
   "source": [
    "### **Saving Unrounded and Underlying Counts Tables**"
   ]
  },
  {
   "cell_type": "code",
   "execution_count": null,
   "metadata": {},
   "outputs": [],
   "source": [
    "# Save the unrounded table for export that also has individual counts\n",
    "avg_and_num_major %>% \n",
    "    write_csv(sprintf(\"U:\\\\%s\\\\TX Training\\\\Output\\\\avg_and_num_major_unrounded.csv\", username))"
   ]
  },
  {
   "cell_type": "code",
   "execution_count": null,
   "metadata": {},
   "outputs": [],
   "source": [
    "# Save the underlying employer counts\n",
    "avg_and_num_major_employers %>%\n",
    "    write_csv(sprintf(\"U:\\\\%s\\\\TX Training\\\\Output\\\\employer_counts_for_avg_and_num_major.csv\", username))"
   ]
  },
  {
   "cell_type": "markdown",
   "metadata": {},
   "source": [
    "### **Applying Primary Suppression**"
   ]
  },
  {
   "cell_type": "markdown",
   "metadata": {},
   "source": [
    "We already verified that all cells met the export conditions based on their individual and employer counts. However, If we were working with a table that either did not meet certain standards and/or was too long to view each row in the notebook, we could implement the following code to suppress necessary cells.\n",
    "\n",
    "> Note: We have purposely included this step after saving the unrounded and underlying counts tables because even if suppression is required, the ADRF staff will need the complete unsuppressed and unrounded counts."
   ]
  },
  {
   "cell_type": "code",
   "execution_count": null,
   "metadata": {},
   "outputs": [],
   "source": [
    "# set all cells that must be suppressed because of indivdual counts to NA\n",
    "# note: don't need to set the groupings (major and quarter) to NA because they are the natural groupings, not what we are reporting\n",
    "avg_and_num_major <- avg_and_num_major %>% \n",
    "    mutate(\n",
    "        mean_wage = ifelse(n_employed < 10, NA, mean_wage),\n",
    "        n_employed = ifelse(n_employed < 10, NA, n_employed)\n",
    "    )\n",
    "\n",
    "# see that no cells were suppressed based on individual counts\n",
    "avg_and_num_major %>%\n",
    "    filter(is.na(mean_wage))"
   ]
  },
  {
   "cell_type": "code",
   "execution_count": null,
   "metadata": {},
   "outputs": [],
   "source": [
    "# set all cells that must be suppressed because of employer counts to NA\n",
    "# first find all rows that don't satisfy employer counts\n",
    "# then join that to original data frame and preserve all rows from original data frame\n",
    "# set all rows that employer counts joined for to NA\n",
    "avg_and_num_major <- avg_and_num_major_employers %>% \n",
    "    filter(number_employers < 3) %>%\n",
    "    right_join(avg_and_num_major, by = c(\"CIP_Program\",\"quarter_number\", \"CIPTitle2010\")) %>%\n",
    "    mutate(\n",
    "        mean_wage = ifelse(is.na(number_employers), mean_wage, NA),\n",
    "        n_employed = ifelse(is.na(number_employers), n_employed, NA)\n",
    "    ) %>% \n",
    "    select(-number_employers)\n",
    "\n",
    "# see that no cells were suppressed based on employer counts\n",
    "avg_and_num_major %>%\n",
    "    filter(is.na(mean_wage))"
   ]
  },
  {
   "cell_type": "markdown",
   "metadata": {},
   "source": [
    "### **Applying Complementary Suppression**"
   ]
  },
  {
   "cell_type": "markdown",
   "metadata": {},
   "source": [
    "You will not be able to properly evaluate a single file for any potential complementary disclosure issues until all of your files requested for export are created. Your team lead will help you with the process, but you can begin to look for complementary disclosure by comparing totals reported within subgroups across files."
   ]
  },
  {
   "cell_type": "markdown",
   "metadata": {},
   "source": [
    "### **Rounding Table**"
   ]
  },
  {
   "cell_type": "markdown",
   "metadata": {},
   "source": [
    "As a final step in preparing this table for export, we must apply the rounding rules required by the export guidelines. Recall that all counts less than 1000 must be rounded to the nearest 10, counts of at least 1000 must be rounded to the nearest 100, and wages must be reported to the nearest 100. "
   ]
  },
  {
   "cell_type": "code",
   "execution_count": null,
   "metadata": {},
   "outputs": [],
   "source": [
    "# apply proper rounding rules\n",
    "avg_and_num_major_rounded <- avg_and_num_major %>%\n",
    "    mutate(\n",
    "        mean_wage = round(mean_wage, digits = -2),\n",
    "        n_employed = ifelse(n_employed < 1000, round(n_employed, digits = -1), round(n_employed, digits = -2))\n",
    "    )"
   ]
  },
  {
   "cell_type": "markdown",
   "metadata": {},
   "source": [
    "Now we can save our suppressed and rounded table that is ready for export."
   ]
  },
  {
   "cell_type": "code",
   "execution_count": null,
   "metadata": {},
   "outputs": [],
   "source": [
    "# Save final table for export\n",
    "avg_and_num_major_rounded %>% \n",
    "    write_csv(sprintf(\"U:\\\\%s\\\\TX Training\\\\Output\\\\avg_and_num_major_rounded.csv\", username))"
   ]
  },
  {
   "cell_type": "markdown",
   "metadata": {},
   "source": [
    "## **Plotting**\n",
    "\n",
    "Prior to creating any potentially presentation-ready visualization, we *highly recommend* that you check to make sure your underlying tables satisfy the disclosure requirements, as you may have to  manipulate the underlying data to avoid or apply suppression. The approach for disclosure-proofing visualizations follows is similar relative to the one with proofing tables - it all pertains to the underlying data used to create the visualization.\n",
    "\n",
    "Please refer to the [user documentation](https://coleridgeinitiative.org/adrf/documentation/using-the-adrf/exporting-results/) on approaching preparing other visualizations for disclosure review.\n",
    "\n",
    "> The most common type of visualization that may require more non-obvious underlying data manipulation to satisfy export constraints is a *histogram*, as each bar in the histogram is technically a separate grouping. Therefore, each bar in the histogram, in this case, must contain information from at least 10 individuals and 3 employers, if wage records are used."
   ]
  },
  {
   "cell_type": "markdown",
   "metadata": {},
   "source": [
    "### **Line Plot**\n",
    "\n",
    "We will work on presenting the information previously saved as a table (`avg_and_num_major_rounded`) as a line plot, just as we did in the Data Visualization notebook. With a line plot, each point constituting each line must pass the export criteria."
   ]
  },
  {
   "cell_type": "code",
   "execution_count": null,
   "metadata": {},
   "outputs": [],
   "source": [
    "# code from data viz notebook\n",
    "\n",
    "#Specify source dataset and x, y, and color variables\n",
    "# only take first word in title because it makes graph harder to read\n",
    "# you can also use all words but make the legend font smaller\n",
    "avg_wages_major_plot <- ggplot(avg_and_num_major_rounded, aes(x = quarter_number, y = mean_wage, color = word(CIPTitle2010, 1))) + \n",
    "\n",
    "#Plots a line on the graph\n",
    "geom_line(size=1) +\n",
    "\n",
    "# Adjust the y scale to assign start and end points as well\n",
    "# as the interval for tick marks\n",
    "scale_y_continuous(\n",
    "    labels = scales::comma,\n",
    "    breaks = seq(4000, 20000, 2000),\n",
    "    limits = c(4000,20000)) + \n",
    "\n",
    "# Adjust the x scale to assign start and end points as well\n",
    "# as the interval for tick marks\n",
    "scale_x_continuous(\n",
    "    breaks = seq(1, 12, 1),\n",
    "    limits = c(1,12)) + \n",
    "\n",
    "#Use the scale_colour_brewer function to use colors that are \n",
    "#easier to distinguish for those who are color blind\n",
    "scale_colour_brewer(\n",
    "  type = \"qual\",\n",
    "  palette = 1,\n",
    "  direction = 1,\n",
    "  aesthetics = \"colour\"\n",
    ") +\n",
    "\n",
    "#Add a title, labels for the x and y axes, color legend, and data source\n",
    "labs(title = \"TX Graduates majoring in Engineering experienced REDACTED earnings after graduation\",\n",
    "    x = \"Quarter after Graduation\", y = \"Average Quarterly Wages\",\n",
    "    caption = \"Data Sources: TWC & THECB\",\n",
    "    color = \"Major\") +\n",
    "\n",
    "# shift labels over slightly to clean up appearance\n",
    "theme(axis.text.x = element_text(vjust=.5)) \n",
    "\n",
    "#Display the graph that we just created\n",
    "print(avg_wages_major_plot)"
   ]
  },
  {
   "cell_type": "markdown",
   "metadata": {},
   "source": [
    "### **Adjusting Font Sizes**"
   ]
  },
  {
   "cell_type": "markdown",
   "metadata": {},
   "source": [
    "In order to make the plot presentation ready, we advise using readable font sizes, as the image will be added to either a presentation or report. We use the following code to implement this:"
   ]
  },
  {
   "cell_type": "code",
   "execution_count": null,
   "metadata": {},
   "outputs": [],
   "source": [
    "avg_wages_major_plot <- avg_wages_major_plot + \n",
    "    theme(\n",
    "        legend.text = element_text(size=24), # legend text font size\n",
    "        legend.title = element_text(size=24), # legend title font size\n",
    "        axis.text.x = element_text(size=24), # x axis label font size\n",
    "        axis.title.x = element_text(size=24), # x axis title font size\n",
    "        axis.text.y = element_text(size=24), # y axis label font size\n",
    "        axis.title.y = element_text(size=24) # y axis title font size\n",
    "    )\n",
    "\n",
    "avg_wages_major_plot"
   ]
  },
  {
   "cell_type": "markdown",
   "metadata": {},
   "source": [
    "Please keep in mind that any statistics (e.g. for counts of subpopulations) have to comply with the export thresholds -  not only the **counts of individuals** (**at least 10**), but also the **counts of employers** (**at least 3**)."
   ]
  },
  {
   "cell_type": "markdown",
   "metadata": {},
   "source": [
    "## Fuzzy percentiles"
   ]
  },
  {
   "cell_type": "markdown",
   "metadata": {},
   "source": [
    "Instead of finding the average quarterly earnings for those who graduated with the most common majors, let's say we wanted to report the median quarterly earnings to avoid any potential outlier influence. Since the median describes the 50th percentile, exporting any tables or visualizations based on medians is not permitted. To get a sense of percentiles in the data, fuzzy percentiles can be exported, which can be created by finding the average of two true percentiles. For example, a fuzzy median can be created by finding the average of the true 45th and 55th percentiles. This section will provide a template for creating fuzzy percentiles so that they can pass the disclosure review process. "
   ]
  },
  {
   "cell_type": "code",
   "execution_count": null,
   "metadata": {},
   "outputs": [],
   "source": [
    "# find true median earnings and number employed for most common majors\n",
    "# first find quarterly wages for each person while including major\n",
    "# then find median wages within groups\n",
    "avg_and_num_major_median <- df_wages_undup %>%\n",
    "    filter(CIP_Program %in% com_majors$CIP_Program) %>%\n",
    "    group_by(gradid, quarter_number, CIP_Program) %>%\n",
    "    summarize(\n",
    "        total_wages = sum(wage)\n",
    "    ) %>%\n",
    "    ungroup() %>%\n",
    "    group_by(CIP_Program, quarter_number) %>%\n",
    "    summarize(\n",
    "            median_wage = median(total_wages),\n",
    "            n_employed = n_distinct(gradid)\n",
    "        )  %>%\n",
    "    inner_join(cip_lookup, by = c(\"CIP_Program\" = \"CIPCode2010\")) %>%\n",
    "    ungroup()\n",
    "\n",
    "\n",
    "avg_and_num_major_median"
   ]
  },
  {
   "cell_type": "markdown",
   "metadata": {},
   "source": [
    "As mentioned above, to export the median wages (50th percentile), the medians need to be transformed into fuzzy percentiles by averaging close-by percentiles. For a fuzzy median, we will take the average of the true 45th and 55th percentiles."
   ]
  },
  {
   "cell_type": "code",
   "execution_count": null,
   "metadata": {},
   "outputs": [],
   "source": [
    "# find true median earnings and number employed for most common majors\n",
    "# first find quarterly wages for each person while including major\n",
    "# then find median wages within groups\n",
    "avg_and_num_major_fuzzy_median <- df_wages_undup %>%\n",
    "    filter(CIP_Program %in% com_majors$CIP_Program) %>%\n",
    "    group_by(gradid, quarter_number, CIP_Program) %>%\n",
    "    summarize(\n",
    "        total_wages = sum(wage)\n",
    "    ) %>%\n",
    "    ungroup() %>%\n",
    "    group_by(CIP_Program, quarter_number) %>%\n",
    "    summarize(\n",
    "            fuzzy_median_wage = (quantile(total_wages, .45) + quantile(total_wages, .55))/2,\n",
    "            n_employed = n_distinct(gradid)\n",
    "        )  %>%\n",
    "    inner_join(cip_lookup, by = c(\"CIP_Program\" = \"CIPCode2010\")) %>%\n",
    "    ungroup()\n",
    "\n",
    "\n",
    "avg_and_num_major_fuzzy_median"
   ]
  },
  {
   "cell_type": "markdown",
   "metadata": {},
   "source": [
    "Based on a quick glance, we can see that the reported fuzzy median wages do not deviate much from the true medians in this example. Since we have already found the underlying individual and employer counts, and have applied primary suppression (found nothing to suppress), we can finalize this table by rounding the fuzzy median and number employed values."
   ]
  },
  {
   "cell_type": "code",
   "execution_count": null,
   "metadata": {},
   "outputs": [],
   "source": [
    "# apply proper rounding rules\n",
    "avg_and_num_major_fuzzy_median_rounded <- avg_and_num_major_fuzzy_median %>%\n",
    "    mutate(\n",
    "        fuzzy_median_wage = round(fuzzy_median_wage, digits = -2),\n",
    "        n_employed = ifelse(n_employed < 1000, round(n_employed, digits = -1), round(n_employed, digits = -2))\n",
    "    )\n",
    "\n",
    "head(avg_and_num_major_fuzzy_median_rounded)"
   ]
  },
  {
   "cell_type": "markdown",
   "metadata": {},
   "source": [
    "Now we can save our suppressed and rounded table that is ready for export."
   ]
  },
  {
   "cell_type": "code",
   "execution_count": null,
   "metadata": {},
   "outputs": [],
   "source": [
    "# Save final table for export\n",
    "avg_and_num_major_fuzzy_median_rounded %>% \n",
    "    write_csv(sprintf(\"U:\\\\%s\\\\TX Training\\\\Output\\\\avg_and_num_major_fuzzy_median_rounded.csv\", username))"
   ]
  },
  {
   "cell_type": "markdown",
   "metadata": {},
   "source": [
    "Do not forget to also saved the unsuppressed and unrounded version as well."
   ]
  },
  {
   "cell_type": "code",
   "execution_count": null,
   "metadata": {},
   "outputs": [],
   "source": [
    "# Save unsuppressed, unrounded table for export\n",
    "avg_and_num_major_fuzzy_median %>% \n",
    "    write_csv(sprintf(\"U:\\\\%s\\\\TX Training\\\\Output\\\\avg_and_num_major_fuzzy_median_unrounded.csv\", username))"
   ]
  },
  {
   "cell_type": "markdown",
   "metadata": {},
   "source": [
    "## **Proportions/Percentages/Ratios**\n",
    "\n",
    "When working with percentages (both numerically and visually), you must show the underlying numerator and denominator counts. The following are the rules for calculating any percentages/proportions/ratios:\n",
    "- You must provide unrounded counts for both the numerator and denominator. They must both meet the threshold for each group, bar, or point on a line specified in the disclosure review (in this class, at least 10 individuals and potentially at least 3 employers, depending on the data source).\n",
    "- Round the numerator and denominator before calculating any percentage, proportion, or ratio. Then a percentage, proportion, or ratio can be calculated and must be rounded afterwards.\n",
    "- Do not report 0 and 100%."
   ]
  },
  {
   "cell_type": "markdown",
   "metadata": {},
   "source": [
    "## **Unsupervised Machine Learning**\n",
    "\n",
    "Exporting clusters must be treated as any other grouping variable, as each cluster must satisfy a minimum number of individuals and (when applicable) employers to pass disclosure control."
   ]
  },
  {
   "cell_type": "markdown",
   "metadata": {},
   "source": [
    "## **Supervised Machine Learning**\n",
    "\n",
    "\n",
    "Whenever you are creating your training and test datasets, after creating them, you must include the counts of each variable, and please do not alter the datasets after doing so. If you use any dummy variables, you need to provide the counts of 0s and 1s for each dummy variable.\n",
    "\n",
    "Remember that if you are plotting y-scores, it is still a histogram, and each estimate represents an individual data point, therefore, it needs to comply with the disclosure threshold described above, that each bin must consist of at least 10 individuals. Please refer to the disclosure review documentation for more information about exporting histograms."
   ]
  },
  {
   "cell_type": "markdown",
   "metadata": {},
   "source": [
    "## **Saving Visuals**"
   ]
  },
  {
   "cell_type": "markdown",
   "metadata": {},
   "source": [
    "In this section, we look at the best ways to export our presentation-ready plot. We use ``ggsave`` to save our plot in a png, jpeg and pdf format without losing quality. "
   ]
  },
  {
   "cell_type": "markdown",
   "metadata": {},
   "source": [
    "### **PNG**\n",
    "\n",
    "First, we provide an example of using ``ggsave`` with two parameters: `filename` and `plot`."
   ]
  },
  {
   "cell_type": "code",
   "execution_count": null,
   "metadata": {},
   "outputs": [],
   "source": [
    "ggsave(\n",
    "    filename = sprintf(\"U:\\\\%s\\\\TX Training\\\\Output\\\\avg_wages_major_plot.png\", username), # saving path\n",
    "    plot = avg_wages_major_plot # plot name\n",
    ")"
   ]
  },
  {
   "cell_type": "markdown",
   "metadata": {},
   "source": [
    "This might not be the preferred way of saving a plot since the dimensions of the plot default to 6.67 x 6.67. We suggest looking at this file we just saved in its respective path. You will see how all the labels are cluttered and the graph can not be interpretted. Thus, we recommend using the `width` and `height` parameters in addition to `filename` and `plot`."
   ]
  },
  {
   "cell_type": "code",
   "execution_count": null,
   "metadata": {},
   "outputs": [],
   "source": [
    "ggsave(\n",
    "    filename = sprintf(\"U:\\\\%s\\\\TX Training\\\\Output\\\\avg_wages_major_plot.png\", username), # saving path\n",
    "    plot = avg_wages_major_plot,  # plot name\n",
    "    width = 20, # width\n",
    "    height = 12 # height\n",
    ")"
   ]
  },
  {
   "cell_type": "markdown",
   "metadata": {},
   "source": [
    "The code above saves the plots in a format that can be interpretted conveniently. We reuse this code to save in a JPEG and PDF format below:"
   ]
  },
  {
   "cell_type": "markdown",
   "metadata": {},
   "source": [
    "### **JPEG**"
   ]
  },
  {
   "cell_type": "code",
   "execution_count": null,
   "metadata": {},
   "outputs": [],
   "source": [
    "ggsave(\n",
    "    filename = sprintf(\"U:\\\\%s\\\\TX Training\\\\Output\\\\avg_wages_major_plot.jpeg\", username), # saving path\n",
    "    plot = avg_wages_major_plot,  # plot name\n",
    "    width = 20, # width\n",
    "    height = 12 # height\n",
    ")"
   ]
  },
  {
   "cell_type": "markdown",
   "metadata": {},
   "source": [
    "### **PDF**"
   ]
  },
  {
   "cell_type": "code",
   "execution_count": null,
   "metadata": {},
   "outputs": [],
   "source": [
    "ggsave(\n",
    "    filename = sprintf(\"U:\\\\%s\\\\TX Training\\\\Output\\\\avg_wages_major_plot.pdf\", username), # saving path\n",
    "    plot = avg_wages_major_plot,  # plot name\n",
    "    width = 20, # width\n",
    "    height = 12 # height\n",
    ")"
   ]
  },
  {
   "cell_type": "markdown",
   "metadata": {},
   "source": [
    "## **Reminder**\n",
    "Every single item for export, regardless of whether it is a .csv, .pdf, .png, or something else, must have corresponding proof in the input file to show that every group used to create the statistic followed the disclosure review rules."
   ]
  },
  {
   "cell_type": "markdown",
   "metadata": {},
   "source": [
    "> Note: After the end of the course, it is possible to export the code that have been used during the class. In order to do that, make your team lead aware of your group's interest and they will handle it from there."
   ]
  },
  {
   "cell_type": "code",
   "execution_count": null,
   "metadata": {},
   "outputs": [],
   "source": [
    "# Close the database connection\n",
    "dbDisconnect(con)"
   ]
  },
  {
   "cell_type": "markdown",
   "metadata": {},
   "source": [
    "## References\n",
    "\n",
    "Edelmann, Joshua, Mian, Rukhshan, & Feder, Benjamin. (2022, April 1). Preparing Safe Outputs using Tennessee Education and Employment Data. Zenodo. https://doi.org/10.5281/zenodo.6407279\n",
    "\n"
   ]
  },
  {
   "cell_type": "code",
   "execution_count": null,
   "metadata": {},
   "outputs": [],
   "source": []
  }
 ],
 "metadata": {
  "kernelspec": {
   "display_name": "R",
   "language": "R",
   "name": "ir"
  },
  "language_info": {
   "codemirror_mode": "r",
   "file_extension": ".r",
   "mimetype": "text/x-r-source",
   "name": "R",
   "pygments_lexer": "r",
   "version": "3.6.3"
  },
  "toc": {
   "nav_menu": {},
   "number_sections": false,
   "sideBar": true,
   "skip_h1_title": false,
   "toc_cell": false,
   "toc_position": {},
   "toc_section_display": "block",
   "toc_window_display": false
  }
 },
 "nbformat": 4,
 "nbformat_minor": 4
}
