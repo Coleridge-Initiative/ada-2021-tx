{
 "cells": [
  {
   "cell_type": "markdown",
   "metadata": {},
   "source": [
    "<center> <img style=\"float: center;\" src=\"images/CI_horizontal.png\" width=\"450\">\n",
    "<center>\n",
    "    <span style=\"font-size: 1.5em;\">\n",
    "        <a href='https://www.coleridgeinitiative.org'>Website</a>\n",
    "    </span> \n",
    "    <br>\n",
    "    Greg Cumpton, Benjamin Feder, Nathan Barrett, Rukhshan Mian </center>\n",
    "    <a href=\"https://doi.org/10.5281/zenodo.6412617\"><img src=\"https://zenodo.org/badge/DOI/10.5281/zenodo.6412617.svg\" alt=\"DOI\"></a>\n"
   ]
  },
  {
   "cell_type": "markdown",
   "metadata": {},
   "source": [
    "# <center> **Data Exploration: Texas Colleges and Universities** </center>"
   ]
  },
  {
   "cell_type": "markdown",
   "metadata": {},
   "source": [
    "## **1. Introduction**\n",
    "This notebook introduces you to the concept of creating a group, or \"cohort\", that will be used for future analysis. We will construct measures to understand who we are including and excluding (coverage) from the cohort and walk you through the decisions that need to be made when devising the cohort using filters such as award level, gender, major, and others. Cohorts define the primary population of interest in much research; once created, cohorts may then be used to link to other data sources.\n",
    "\n",
    "Most of the Tri-Agency research questions (and their *data sources*) rely on the construction of cohorts, some examples of which could include:\n",
    "\n",
    "   + Title 1 program completers (*PIRL*) \n",
    "   + Higher education completers (*THECB graduations file*) \n",
    "   + High school graduates (*TEA graduation data*) \n",
    "\n",
    "We begin by introducing you to data analytics tools to access the data, including connecting R to the server and using SQL queries to pull the data. We will then leverage these tools to explore the graduations file from the Texas Higher Education Coordinating Board (THECB). To train you in creating a cohort, we will create a dataset (called a \"data frame\") and investigate trends in Texas college graduates. At the end of this notebook, we will save the summary statistics to csv files so that we can use them in subsequent notebooks."
   ]
  },
  {
   "cell_type": "markdown",
   "metadata": {},
   "source": [
    "## **2. Learning Objectives**\n",
    "\n",
    "You will implement techniques using SQL and R to explore and better understand the data that are available to you, and to address the feasibility of your team's potential research question. This will form the basis for all future analyses you will do in this training class and is a crucial first step for any data analysis workflow. As you work through the notebook, we will have checkpoints for you to practice writing code by making small adjustments, but you are also encouraged to think about how you might apply any of the techniques and code presented to other datasets to address your assigned research question. \n",
    "\n",
    "You can access hints and solutions to the checkpoints by running the code cell below."
   ]
  },
  {
   "cell_type": "code",
   "execution_count": null,
   "metadata": {},
   "outputs": [],
   "source": [
    "# Import the file with hints and solutions\n",
    "source(\"nb1_hints_and_solutions.txt\")"
   ]
  },
  {
   "cell_type": "markdown",
   "metadata": {},
   "source": [
    "The guiding research questions we will use for this series of notebooks are quite general: \n",
    "\n",
    ">**What are the employment outcomes of the 2015 college graduates? How do these outcomes vary by cohort characteristics?**\n",
    "\n",
    "This will allow the code we use to have the most versatility. We will analyze these questions through a variety of different lenses and will start in this notebook by defining a specific cohort of Texas degree recipients in the 2015 calendar year. We will then track their earnings and employment outcomes over time in the following notebook. The exploration of the supply side of the labor market will be later supplemented by an analysis of the demand side to enhance our understanding of the overall labor market.\n",
    "\n",
    ">**The key benefit to working with Texas administrative records in the ADRF is the ability to integrate data across sources, including K-12, higher education, training, and employment data.**\n",
    "\n",
    "At the end of this notebook, you should test your skills by performing the following tasks:\n",
    "\n",
    "+ (1) Construct one or more cohorts related to your specific research question \n",
    "+ (2) Examine the demographic characteristics of your cohort\n",
    "\n",
    "We are going to show just a portion of what you might be interested in investigating to answer these overarching questions, so don't feel restricted by the questions we've decided to answer."
   ]
  },
  {
   "cell_type": "markdown",
   "metadata": {},
   "source": [
    "#### **Notebook Questions and Goals** \n",
    "In this notebook, we focus on seeking answers to the following questions: \n",
    "- How many students graduated from Texas colleges during the 2015 calendar year?\n",
    "- What filters can be used to define the cohort (e.g., demographics, institutions, enrollment type, college type, etc.)?\n",
    "- How many students graduated from Texas colleges by subgroup (e.g. demographics, institutions, enrollment type, college type, etc.)?"
   ]
  },
  {
   "cell_type": "markdown",
   "metadata": {},
   "source": [
    "After completing this notebook you should be able to perform the following analytical tasks:\n",
    "- load R libraries and establish a connection to the server\n",
    "- create a cohort sample by using the THECB graduates file\n",
    "- calculate descriptive statistics to understand who is in the population\n",
    "- create new tables from the larger tables in a database (sometimes called the \"analytical frame\")\n",
    "- explore different variables of interest\n",
    "- clean the data\n",
    "- create aggregate metrics"
   ]
  },
  {
   "cell_type": "markdown",
   "metadata": {},
   "source": [
    "The specific techniques include, but are not limited to:\n",
    "\n",
    "**SQL statements/keywords**:\n",
    " - `SELECT ... FROM`: select data from a table in the database\n",
    " - `WHERE`: select subset of tables from the database\n",
    " - `GROUP BY`: aggregate data over the variables of interest\n",
    " - `ORDER BY`: sort data based on the variables of interest\n",
    " - `DISTINCT`: look at distinct values of a variable\n",
    "**R code**:\n",
    " - `group_by` and `summarize` to find group-based measures\n",
    " - `mutate` to create new variables\n",
    " - `arrange` and `desc` to sort values"
   ]
  },
  {
   "cell_type": "markdown",
   "metadata": {},
   "source": [
    "#### **Datasets** ####\n",
    "We will explore and understand the Texas Higher Education Coordinating Board (THECB) tables in this notebook:\n",
    "- **College Graduates**: The graduations table is provided by the THECB. The data include graduations at all Texas colleges and universities and covers the time period of January 2011 through December 2020.\n",
    "- **College Enrollments**:  Also provided by THECB and contains all enrollment data at all Texas colleges and universities from fall 2010 through winter 2020."
   ]
  },
  {
   "cell_type": "markdown",
   "metadata": {},
   "source": [
    "#### **Directory Structure**\n",
    "\n",
    "We will constantly read and write csv files to load crosswalks and to save results in all the notebooks. Let's create a few folders in your U drive first so it is eaiser for you to organize all the files. \n",
    "\n",
    "- Open Windows File Explorer\n",
    "- On the left hand side, find U drive (U:) and click into it\n",
    "- On the right hand side, open your user folder: FirstName.LastName.UserID *Your name may be truncated*\n",
    "- In your user folder, create a new folder: TX Training\n",
    "- In the \"TX Training\" folder, create three subfolders: \"Notebooks\", \"Results\", \"Output\"\n",
    "- You can copy and paste the class notebooks to the \"Notebook\" folder, save summary statistics to the \"Results\" folder, and save visualizations (in the third notebook) to the \"Output\" folder.\n",
    "\n",
    "At the end of this notebook, **we save summary statistics with the path \"U:\\\\FirstName.LastName.UserID\\TX Training\\Results\\filename.csv\". Note that Firstname.Lastname.UserID may be referred to as your username.**\n",
    "\n",
    "To make your life easier, please insert your ADRF username to replace the ____ inside the quotations in the following cell."
   ]
  },
  {
   "cell_type": "code",
   "execution_count": null,
   "metadata": {},
   "outputs": [],
   "source": [
    "# insert ADRF username Firstname.Lastname.UserID\n",
    "username <- \"___\""
   ]
  },
  {
   "cell_type": "markdown",
   "metadata": {},
   "source": [
    "## **3. Load the Data**\n",
    "\n",
    "In this section, we will demonstrate how to use R to read data from a relational database. First, we need to load libraries in R that provide certain functionalities we will leverage in this notebook."
   ]
  },
  {
   "cell_type": "markdown",
   "metadata": {},
   "source": [
    "#### **R Setup**\n",
    "\n",
    "We will use several R functions that are not immediately available in base R. Therefore, we need to load them using the built-in function `library()`. For example, running `library(tidyverse)` loads the `tidyverse` suite of packages. It is a collection of packages designed for data science.\n",
    "\n",
    "> When you run the following code cell, you will see an output cell in red. Though in future coding this red colored cell may be cause for concern and reflect a need to adjust your code, don't worry about this particular warning message. If you are unsure of the meaning of a particular warning message, you can always paste that message into a search engine to see if anyone has run into a similar problem in the past."
   ]
  },
  {
   "cell_type": "code",
   "execution_count": null,
   "metadata": {},
   "outputs": [],
   "source": [
    "# Database interaction imports\n",
    "library(odbc)\n",
    "\n",
    "# For data manipulation/visualization\n",
    "library(tidyverse)\n",
    "\n",
    "# For faster date conversions\n",
    "library(lubridate)"
   ]
  },
  {
   "cell_type": "markdown",
   "metadata": {},
   "source": [
    "__When in doubt, full documentation for a method can be printed with `?<package/function_name>`, e.g. `?tidyverse/ggplot` or `?sprintf`.__ Do not worry about memorizing the information in the help documentation - you can always run this command when you are unsure of how to use a function.\n",
    "\n",
    "> Certain functions exist across multiple packages (e.g. the function `lag` exists in both the `dplyr` and `stats` package - also noted in the message yielded from `library(tidyverse)`. When calling a function, you can put the package name first to ensure that you are using the right one. For example, `dplyr::lag` or `stats::lag` calls the `lag` function from `dplyr` or `stats`, respectively. "
   ]
  },
  {
   "cell_type": "code",
   "execution_count": null,
   "metadata": {
    "tags": []
   },
   "outputs": [],
   "source": [
    "# See help documentation for head:\n",
    "# a function we will use frequently to check the contents of a data frame\n",
    "# It returns the first few rows\n",
    "?head"
   ]
  },
  {
   "cell_type": "markdown",
   "metadata": {},
   "source": [
    "#### **Establish a Connection to the Server**"
   ]
  },
  {
   "cell_type": "markdown",
   "metadata": {},
   "source": [
    "Now that we have loaded the necessary libraries, we are ready to connect to the server. We will create the connection using the `DBI` and `ODBC` libraries. \n",
    "\n",
    "> **Loading R libraries** and **establishing connection** should always be the first step in your Jupyter Notebooks. **Make sure you copy these code chunks when you create a new notebook.** "
   ]
  },
  {
   "cell_type": "code",
   "execution_count": null,
   "metadata": {},
   "outputs": [],
   "source": [
    "# Connect to the server\n",
    "con <- DBI::dbConnect(odbc::odbc(),\n",
    "                     Driver = \"SQL Server\",\n",
    "                     Server = \"msssql01.c7bdq4o2yhxo.us-gov-west-1.rds.amazonaws.com\",\n",
    "                     Trusted_Connection = \"True\")"
   ]
  },
  {
   "cell_type": "markdown",
   "metadata": {},
   "source": [
    "<font color = \"purple\"> <h3> Practice Creating a Jupyter Notebook [Optional] </h3> </font>\n",
    "\n",
    "Choose New from the File menu on the upper left of your screen and select Notebook. Select R as the Kernel. Copy and paste the code cells in the **R Setup** and the **Establishing a Connection to the Server** sections from this notebook to your new Jupyter notebook. You may choose to rename your notebook by right-clicking on your new file in the File Browser on the left-hand side bar and selecting rename. Save your new notebook, as it may serve as a future programming space for your project.\n",
    "\n",
    "> **NOTE:** Ctrl+C and Ctrl+V can be used to copy and paste text within the ADRF. However, when copying specific cells within JupyterLab, the shortcuts are just C and V, respectively."
   ]
  },
  {
   "cell_type": "markdown",
   "metadata": {},
   "source": [
    "#### **Formulate Data Query**\n",
    "\n",
    "Next, we need to dictate what we want to pull in from the server. This part is similar to writing a SQL query in DBeaver. In this example, we will pull in 5 rows of Texas college graduates information, which is stored in the `graduations` table inside the `ds_tx_thecb` database. Before running the code below, test in DBeaver the inital query you will use to bring in your first data frame to make sure it successfully runs:\n",
    "\n",
    "    SELECT TOP 5 *\n",
    "    FROM ds_tx_thecb.dbo.graduations ;\n",
    "\n",
    "We can create the same query as a character object in R.\n",
    "\n",
    "> The `.dbo` schema will always be the schema that contains the tables we will be using throughout this training program, even across the different databases."
   ]
  },
  {
   "cell_type": "code",
   "execution_count": null,
   "metadata": {
    "tags": []
   },
   "outputs": [],
   "source": [
    "# Create qry character object\n",
    "# Database name: ds_tx_thecb\n",
    "# Schema name: dbo\n",
    "# Table name: graduations\n",
    "qry <- \"\n",
    "SELECT TOP 5 *\n",
    "FROM ds_tx_thecb.dbo.graduations;\n",
    "\""
   ]
  },
  {
   "cell_type": "markdown",
   "metadata": {},
   "source": [
    "We use `TOP` to read in only the first 5 rows because we're just looking to preview the data and we don't want to eat up memory by reading a huge data frame into R. \n",
    "\n",
    "> `TOP` provides one simple way to get a \"sample\" of data. You may get different samples of data from others using just the `TOP` clause. However, `TOP` is not returning a random selection of the data, it is just returning the results that can be pulled the fastest."
   ]
  },
  {
   "cell_type": "markdown",
   "metadata": {},
   "source": [
    "#### **Read in the Data** \n",
    "\n",
    "We can use `con` and `qry` as arguments `dbGetQuery()` to read the data into R. Compare the results below with the test query you ran in DBeaver. To run the code without saving it to a data frame for later reference, you can simply include `dbGetQuery(con,qry)`, as shown below.\n",
    "\n",
    "> Effectively,`dbGetQuery()` provides a bridge from R (and JupyterLab) to the server to access the table. In contrast, you can run a query without `dbGetQuery()` in DBeaver because the connection to the server has already been established."
   ]
  },
  {
   "cell_type": "code",
   "execution_count": null,
   "metadata": {},
   "outputs": [],
   "source": [
    "# Read in data frame \n",
    "dbGetQuery(con,qry)"
   ]
  },
  {
   "cell_type": "code",
   "execution_count": null,
   "metadata": {},
   "outputs": [],
   "source": [
    "# See column names\n",
    "dbGetQuery(con, qry) %>%\n",
    "    names()"
   ]
  },
  {
   "cell_type": "markdown",
   "metadata": {},
   "source": [
    "> Note: There are other methods you can use to explore the data. Two of these functions are `glimpse()` and `head()`."
   ]
  },
  {
   "cell_type": "markdown",
   "metadata": {},
   "source": [
    "<font color=orange> <h3> **Checkpoint 1: Explore Columns** </h3> </font>\n",
    "\n",
    "Take a look at the columns in the `graduations` table. Which variables might be useful for your project?  Let's explore another table.  Try to query another higher education data table to see five rows and the names of the columns. For example, explore the `enrollments` table in the `ds_tx_thecb` database.  **Note: For the purposes of extracting data from the server in the ADRF using R, the location will always be ds_tx_SOURCE.dbo.FILE, where the SOURCE is thecb, tea, or twc and the FILE refers to the tables of data within those sources.**\n",
    "\n",
    "> Refer to the data dictionary on the class website to get a better understanding of the variables."
   ]
  },
  {
   "cell_type": "code",
   "execution_count": null,
   "metadata": {},
   "outputs": [],
   "source": [
    "# Replace ____ with the table database, schema, and table name\n",
    "qry <- \"\n",
    "SELECT TOP 5 *\n",
    "FROM ds_tx_thecb.dbo.__;\n",
    "\"\n",
    "\n",
    "# Read in data frame\n",
    "dbGetQuery(con,qry)\n",
    "\n",
    "# Can write additional code to explore the data frame\n",
    "dbGetQuery(con, qry) %>%\n",
    "    ____()"
   ]
  },
  {
   "cell_type": "markdown",
   "metadata": {},
   "source": [
    "Uncomment the lines below if you would like to see a hint or a solution."
   ]
  },
  {
   "cell_type": "code",
   "execution_count": null,
   "metadata": {},
   "outputs": [],
   "source": [
    "#checkpoint_1.hint()"
   ]
  },
  {
   "cell_type": "code",
   "execution_count": null,
   "metadata": {},
   "outputs": [],
   "source": [
    "#checkpoint_1.solution()"
   ]
  },
  {
   "cell_type": "markdown",
   "metadata": {},
   "source": [
    "-----"
   ]
  },
  {
   "cell_type": "markdown",
   "metadata": {},
   "source": [
    "## **4. Explore the table and understand the data**\n",
    "\n",
    "Before building a cohort, it is important to understand the quality and characteristics of the data. Since we will be creating a cohort of graduates, it is important to note that the `graduations` table lists awards, not people. Each row represents a person-degree/credential. The data are not always clean, and it is useful to understand missing values, changes in trends, and inconsistent data before furthering any analysis. \n",
    "\n",
    "Since we hope to create a cohort of graduates that graduated within a specific time period (2015 calendar year) so that we can track their future employment outcomes as a group, let's take a look at the distribution of the number of graduates by fiscal year, or `gradyear` in the data.\n",
    "\n",
    "Try running the following query in DBeaver to understand the kinds of information you will be bringing into your data frame:\n",
    "\n",
    "    SELECT gradyear, count(DISTINCT(gradid)) as num_individuals\n",
    "    FROM ds_tx_thecb.dbo.graduations\n",
    "    GROUP BY gradyear\n",
    "    ORDER BY gradyear desc;\n",
    "\n",
    "Now run the query in R and review the results.\n",
    "\n",
    "> **REMINDER:** Ctrl+C and Ctrl+V can be used to copy and paste text within the ADRF. "
   ]
  },
  {
   "cell_type": "code",
   "execution_count": null,
   "metadata": {},
   "outputs": [],
   "source": [
    "# Exploration query on fiscal year earned\n",
    "qry <- \"\n",
    "SELECT gradyear, count(DISTINCT(gradid)) as num_individuals\n",
    "FROM ds_tx_thecb.dbo.graduations\n",
    "GROUP BY gradyear\n",
    "ORDER BY gradyear desc;\n",
    "\"\n",
    "\n",
    "# Read in data frame but don't save the results\n",
    "dbGetQuery(con,qry)"
   ]
  },
  {
   "cell_type": "markdown",
   "metadata": {},
   "source": [
    "As you can see, we have quite a large number of potential graduates to pull from within each *fiscal year*. The source of graduates also varies by the type of institution, as the graduations file includes both two and four year college graduations. To get a better sense of our potential sample size across year and college type, let's look at the number of individuals that graduated in the 2015 *calendar year*. \n",
    "\n",
    "Recall that `gradyear` does not represent the calendar year, but rather the fiscal year. From the data dictionary, we can see that, for example, those who graduated in the 2020 fiscal year graduated anywhere from September 2019 to August 2020. Therefore, we need to leverage the combination of `gradyear` and `gradmonth` to properly define the 2015 calendar year, as all graduates from January to August will need to correspond to the `gradyear` 2015, and all graduates from September to December to the `gradyear` 2016."
   ]
  },
  {
   "cell_type": "markdown",
   "metadata": {},
   "source": [
    "    SELECT gradtypi, gradmonth, gradyear, count(DISTINCT(gradid)) as num_individuals\n",
    "    FROM ds_tx_thecb.dbo.graduations\n",
    "    WHERE (gradyear = 2015 and gradmonth < 9) or (gradyear = 2016 and gradmonth >= 9)\n",
    "    GROUP BY gradmonth, gradyear, gradtypi\n",
    "    ORDER BY gradmonth;"
   ]
  },
  {
   "cell_type": "code",
   "execution_count": null,
   "metadata": {},
   "outputs": [],
   "source": [
    "# Exploration query on gradmonth and gradtypei\n",
    "qry <- \"\n",
    "SELECT gradtypi, gradmonth, gradyear, count(DISTINCT(gradid)) as num_individuals\n",
    "FROM ds_tx_thecb.dbo.graduations\n",
    "WHERE (gradyear = 2015 and gradmonth < 9) or (gradyear = 2016 and gradmonth >= 9)\n",
    "GROUP BY gradmonth, gradyear, gradtypi\n",
    "ORDER BY gradmonth;\n",
    "\"\n",
    "\n",
    "# Read in data frame but don't save the results\n",
    "dbGetQuery(con,qry)"
   ]
  },
  {
   "cell_type": "markdown",
   "metadata": {},
   "source": [
    "Note that there are three college types (`gradtypi`), which represent the following: (1) Universities; (3) CTCs [Community and Technical Colleges] ; and, (5) HRIs [Health-Related Institutions]. Some counts in this table serve as a reminder that disaggregating data can produce numbers too small to include in any unsecured discussions or exported output. Now that we have a general understanding of the volume of graduates in each college type for the 2015 calendar year, let's read the data into R and save the resulting data frame as `Grads_2015`."
   ]
  },
  {
   "cell_type": "code",
   "execution_count": null,
   "metadata": {},
   "outputs": [],
   "source": [
    "# read table into r and assign as Grads_2015\n",
    "qry <- \"\n",
    "SELECT *\n",
    "FROM ds_tx_thecb.dbo.graduations\n",
    "WHERE (gradyear = 2015 and gradmonth < 9) or (gradyear = 2016 and gradmonth>=9)\n",
    "\"\n",
    "Grads_2015 <- dbGetQuery(con, qry)\n",
    "\n",
    "# see first few rows of df\n",
    "head(Grads_2015)"
   ]
  },
  {
   "cell_type": "markdown",
   "metadata": {},
   "source": [
    "<font color=orange> <h3> **Checkpoint 2: Explore the Data** </h3> </font>\n",
    "\n",
    "Note that `gradmaj` corresponds to the CIP code for the program of study, `graddegr` is the type of award, and `gradwhite` is one of the race/ethnicity indicator variables. THECB also records race/ethnicity values in the aggregate variable `GradEthnicityCode`.\n",
    "\n",
    "Run the following queries in the notebook to better understand some key variables of interest within each *fiscal year*:\n",
    "\n",
    "    SELECT gradyear, gradmaj, count(DISTINCT(gradid)) as num_individuals\n",
    "    FROM ds_tx_thecb.dbo.graduations\n",
    "    GROUP BY gradyear, gradmaj\n",
    "    ORDER BY gradyear ;\n",
    "\n",
    "    SELECT gradyear, graddegr, count(DISTINCT(gradid)) as num_individuals\n",
    "    FROM ds_tx_thecb.dbo.graduations\n",
    "    GROUP BY gradyear, graddegr\n",
    "    ORDER BY gradyear ;\n",
    "    \n",
    "    SELECT gradyear, gradwhite, count(DISTINCT(gradid)) as num_individuals\n",
    "    FROM ds_tx_thecb.dbo.graduations\n",
    "    GROUP BY gradyear, gradwhite\n",
    "    ORDER BY gradyear ;\n",
    "\n",
    "\n",
    "Try running the code in the box below using different columns.  After reviewing this information, try to answer the following questions:\n",
    "1. Which variables are character and which numeric? \n",
    "2. Are there null values in the data you are seeing?  Where are they present?\n",
    "3. The variable `gradmaj` describes the CIP code of study. Take a moment to review the Classification of Instructional Programs online. Do you see anything unusual in how this variable has been coded? "
   ]
  },
  {
   "cell_type": "code",
   "execution_count": null,
   "metadata": {},
   "outputs": [],
   "source": [
    "# replace ___\n",
    "qry <- \"\n",
    "SELECT gradyear, ___, count(DISTINCT(gradid)) as num_individuals\n",
    "FROM ds_tx_thecb.dbo.graduations\n",
    "GROUP BY gradyear, ___\n",
    "ORDER BY gradyear\n",
    "\"\n",
    "dbGetQuery(con, qry)"
   ]
  },
  {
   "cell_type": "code",
   "execution_count": null,
   "metadata": {},
   "outputs": [],
   "source": [
    "#checkpoint_2.hint()"
   ]
  },
  {
   "cell_type": "code",
   "execution_count": null,
   "metadata": {},
   "outputs": [],
   "source": [
    "#checkpoint_2.solution()"
   ]
  },
  {
   "cell_type": "markdown",
   "metadata": {},
   "source": [
    "-----"
   ]
  },
  {
   "cell_type": "markdown",
   "metadata": {},
   "source": [
    "## **5. Create the Cohort**\n",
    "\n",
    "In this section, we will use the Texas `graduations` table to create a sample of all students in THECB institutions who earned an Associate degree or certificate during the 2015 calendar year to demonstrate how you may choose to narrow your population of interest. In section 6, we return to examining the entire cohort of 2015 calendar year graduates.\n",
    "\n",
    "In addition to establishing a time period, it is common to further narrow your population.  Some research questions require you to select only certain graduates.  Others focus on degree level (associate degree recipients, for example) or field of study (business, for example). When establishing your cohort, it is helpful to build an initial query iteratively, checking each restriction before adding others. To recall, our initial query to yield the data frame we named `Grads_2015` is\n",
    "\n",
    "    SELECT *\n",
    "    FROM ds_tx_thecb.dbo.graduations\n",
    "    WHERE (gradyear = 2015 and gradmonth < 9) or (gradyear = 2016 and gradmonth >= 9)\n",
    "    \n",
    "Let's keep track of the number of individuals we currently have in `Grads_2015`."
   ]
  },
  {
   "cell_type": "code",
   "execution_count": null,
   "metadata": {},
   "outputs": [],
   "source": [
    "# see number of individuals in Grads_2015\n",
    "Grads_2015 %>%\n",
    "    summarize(\n",
    "        num_inds = n_distinct(gradid)\n",
    "    )\n"
   ]
  },
  {
   "cell_type": "markdown",
   "metadata": {},
   "source": [
    "### Associate Degree Earners"
   ]
  },
  {
   "cell_type": "markdown",
   "metadata": {},
   "source": [
    "Now that we have all graduates in the 2015 calendar year, let's turn our attention to the types of degrees graduates earned. According to the data documentation, an associate degree is assigned a `gradlev` value of `1`. Before subsetting `Grads_2015`, let's see the different degree conferred (`graddegr`) types within each `gradlev`."
   ]
  },
  {
   "cell_type": "code",
   "execution_count": null,
   "metadata": {},
   "outputs": [],
   "source": [
    "# count number of graduates by gradlev/graddegr combination\n",
    "Grads_2015 %>%\n",
    "    group_by(gradlev, graddegr) %>%\n",
    "      summarize(\n",
    "        num_inds = n_distinct(gradid)\n",
    "    )"
   ]
  },
  {
   "cell_type": "markdown",
   "metadata": {},
   "source": [
    "Note that the value of `gradlev` does not always rise with the level of degree; for example, certifications possess a `gradlev` of 8. To demonstrate the complexity of degrees and the level of degrees, after tabulating these two variables and consulting with the data dictionary, we discover that `gradlev` corresponds to (1) Associate's degrees, (2) Bachelor's degrees, (3) Master's degrees, (4) Doctoral degrees, (5) Professional degrees (MD, etc.), (6-8) Certifications. A quick review of these shortened classifications in the table produced demonstrates more nuance, some examples of which follow:\n",
    "\n",
    "- The CCC degree (with `gradlev` 5), represents Core Curriculum Completers at a community college who complete a set number of credits that will automatically be accepted at Texas colleges and universities. \n",
    "- The BAT degree represents a Bachelor's of Applied Technology and it uses two `gradlev` codes, Bachelor's degrees and Certifications, representing the different types of program offerrings. South Texas College's entry requirements for their BAT program are similar to any community college's entry requirements and may be considered similar to a certificate. The University of Texas System BAT requires an Associate's upon entry for their BAT program and completion is more closely aligned with receiving a Bachelor's degree.\n"
   ]
  },
  {
   "cell_type": "markdown",
   "metadata": {},
   "source": [
    "Let's go ahead and `filter` for associate degree recipients and save the results in a new data frame `Grads_2015_Assoc`."
   ]
  },
  {
   "cell_type": "code",
   "execution_count": null,
   "metadata": {},
   "outputs": [],
   "source": [
    "# filter for associate degree recipients\n",
    "Grads_2015_Assoc <- Grads_2015 %>%\n",
    "    filter(gradlev == 1) "
   ]
  },
  {
   "cell_type": "markdown",
   "metadata": {},
   "source": [
    "Note that the degrees conferred includes a relatively small number of certifications that you may choose to exclude from your analysis. But prior to doing so, always investigate the meaning behind unexpected data points. For example, the CER in this group appears mostly tied to EMT certification programs, as you will see in the following cell by examining CIP codes."
   ]
  },
  {
   "cell_type": "code",
   "execution_count": null,
   "metadata": {},
   "outputs": [],
   "source": [
    "# examine 'CER' for associate degree recipients\n",
    "Grads_2015_CER <- Grads_2015 %>%\n",
    "    filter(\n",
    "        gradlev == 1, \n",
    "        graddegr == 'CER'\n",
    "    ) \n",
    "\n",
    "Grads_2015_CER %>%\n",
    "    group_by(gradmaj) %>%\n",
    "      summarize(\n",
    "        num_inds = n_distinct(gradid)\n",
    "    )"
   ]
  },
  {
   "cell_type": "markdown",
   "metadata": {},
   "source": [
    "After looking at those with `CER` degrees conferred, it may make sense to drop them from a potential cohort of associate degree earners. You could do so by adding another argument to your `filter()` statement."
   ]
  },
  {
   "cell_type": "code",
   "execution_count": null,
   "metadata": {},
   "outputs": [],
   "source": [
    "# filter for associate degree recipients\n",
    "Grads_2015_Assoc <- Grads_2015 %>%\n",
    "    filter(\n",
    "        gradlev == 1, \n",
    "        graddegr != 'CER'\n",
    "    ) "
   ]
  },
  {
   "cell_type": "markdown",
   "metadata": {},
   "source": [
    "We can confirm that our filtering worked as intended by retabulating the number of graduates by degree conferred."
   ]
  },
  {
   "cell_type": "code",
   "execution_count": null,
   "metadata": {},
   "outputs": [],
   "source": [
    "# count number of associate degree graduates by degree conferred.\n",
    "Grads_2015_Assoc %>%\n",
    "    group_by(graddegr) %>%\n",
    "      summarize(\n",
    "        num_inds = n_distinct(gradid)\n",
    "    )"
   ]
  },
  {
   "cell_type": "markdown",
   "metadata": {},
   "source": [
    "<font color=orange> <h3> **Checkpoint 3: Create Your Cohort** </h3> </font>\n",
    "Starting with the `graduations` table, create a sample of graduates of a separate *calendar year*. Name the data frame `df_checkpoint`. Then, modify your cohort to include graduates of a single graduation level. "
   ]
  },
  {
   "cell_type": "code",
   "execution_count": null,
   "metadata": {},
   "outputs": [],
   "source": [
    "# Replace ____ \n",
    "qry <- \"\n",
    "SELECT *\n",
    "FROM ds_tx_thecb.dbo.graduations\n",
    "WHERE (gradyear = ___ and gradmonth = ___) or (gradyear = ___ and gradmonth = ___)\n",
    "\"\n",
    "\n",
    "# Read in data frame and save it as df_checkpoint\n",
    "df_checkpoint <- dbGetQuery(con,qry)\n",
    "\n",
    "# count number of graduates by gradlev/graddegr combination\n",
    "df_checkpoint %>%\n",
    "    group_by(___, ___) %>%\n",
    "      summarize(\n",
    "        num_inds = n_distinct(gradid)\n",
    "    )"
   ]
  },
  {
   "cell_type": "code",
   "execution_count": null,
   "metadata": {},
   "outputs": [],
   "source": [
    "# Use the filter statement to modify your cohort to include only one type of graduation level.\n",
    "df_checkpoint <- df_checkpoint %>%\n",
    "    filter(___)"
   ]
  },
  {
   "cell_type": "code",
   "execution_count": null,
   "metadata": {},
   "outputs": [],
   "source": [
    "#checkpoint_3.hint()"
   ]
  },
  {
   "cell_type": "code",
   "execution_count": null,
   "metadata": {},
   "outputs": [],
   "source": [
    "checkpoint_3.solution()"
   ]
  },
  {
   "cell_type": "markdown",
   "metadata": {},
   "source": [
    "-----"
   ]
  },
  {
   "cell_type": "markdown",
   "metadata": {},
   "source": [
    "## **6. Higher Education Graduate Cohort Count and Cohort Construction**"
   ]
  },
  {
   "cell_type": "markdown",
   "metadata": {},
   "source": [
    "Next we return to the larger graduates file to understand how the `graduations` data is structured in the cohort data frame. Recall that you have already made a data frame that includes all graduations in the 2015 calendar year, `Grads_2015`. Here, we will use the same data frame to further examine the data elements. Recall that that each record in our data frame does not represent a person. Each record represents an award or credential (degree or certificate). You can see this by comparing the number of rows, or awards, with the number of graduates."
   ]
  },
  {
   "cell_type": "code",
   "execution_count": null,
   "metadata": {},
   "outputs": [],
   "source": [
    "# compare number of rows (awards) to grads\n",
    "Grads_2015 %>% \n",
    "    summarize(\n",
    "        awards=n(), \n",
    "        graduates=n_distinct(gradid)\n",
    "    ) "
   ]
  },
  {
   "cell_type": "markdown",
   "metadata": {},
   "source": [
    "The difference between awards and graduates is due to a subset of students earning multiple degrees. There is the potential for students to have earned a certificate and a degree or multiple short-cycle certificates in a calendar year.  When framing your higher education cohort, you need to think about if you want to de-duplicate the file (e.g., by selecting the highest award) or if you want to focus on one level of degree. Workforce outcomes may be very different for certificate holders without a degree compared to those with associate degrees. Those with bachelor's or graduate degrees are expected to have higher incomes. Four decisions are required to accurately form the cohort:\n",
    "\n",
    "1. What time period are you using to define the cohort (one year or multiple years)?\n",
    "1. What degree level or levels will you focus on?\n",
    "1. Will you limit your cohort to specific degrees?\n",
    "1. What will you do with multiple records for the same graduate?\n",
    "\n",
    "In this example, for future processing speed reasons, we will further subset the cohort to only include bachelor's recipients. Then, we will review the duplicates to help inform decisions."
   ]
  },
  {
   "cell_type": "markdown",
   "metadata": {},
   "source": [
    "### Bachelor's subset\n",
    "\n",
    "You may recall the code cell earlier in the notebook where we counted the number of graduates by `gradlev`/`graddegr` combination. In that cell, it seemed as though bachelor's degrees corresponded with the `gradlev` value of 2. However, after consulting with the corresponding data dictionary, it appears that a `gradlev` 2 has different meanings depending on the institution--namely, it references bachelor's degrees for Universities and HRIs, but not CTCs. \n",
    "\n",
    "Therefore, we can isolate bachelor's recipients in our `Grads_2015` data frame by filtering for `gradlev` values of 2 as long as the institution is not a CTC (`gradtypi` is not 3)."
   ]
  },
  {
   "cell_type": "code",
   "execution_count": null,
   "metadata": {},
   "outputs": [],
   "source": [
    "# create bachelors data frame\n",
    "bachelors <- Grads_2015 %>% \n",
    "    filter(gradlev == 2, gradtypi != 3)"
   ]
  },
  {
   "cell_type": "markdown",
   "metadata": {},
   "source": [
    "Let's see if we still need to address the potential duplication issue."
   ]
  },
  {
   "cell_type": "code",
   "execution_count": null,
   "metadata": {},
   "outputs": [],
   "source": [
    "# compare number of rows (awards) to grads\n",
    "bachelors %>% \n",
    "    summarize(\n",
    "        awards=n(), \n",
    "        graduates=n_distinct(gradid)\n",
    "    ) "
   ]
  },
  {
   "cell_type": "markdown",
   "metadata": {},
   "source": [
    "### Duplicates code\n",
    "\n",
    "The series of commands below help identify duplicates, create a data frame of duplicates, and list the results. Before we de-duplicate the files, let's save an award-level (not person-level) file for potential award-based analyses.  We will name this data frame `df_awards`."
   ]
  },
  {
   "cell_type": "code",
   "execution_count": null,
   "metadata": {},
   "outputs": [],
   "source": [
    "# copy bachelors as df_awards\n",
    "df_awards <- bachelors"
   ]
  },
  {
   "cell_type": "markdown",
   "metadata": {},
   "source": [
    "Next we can start to explore the duplicates. First, we will identify a case of duplication, which we can isolate by counting the number of occurrences of each `gradid` in `df_awards`, here focusing on the `gradid` with the highest number of occurrences."
   ]
  },
  {
   "cell_type": "code",
   "execution_count": null,
   "metadata": {},
   "outputs": [],
   "source": [
    "# find duplicate example\n",
    "dup_ex <- df_awards %>%\n",
    "    count(gradid) %>%\n",
    "    arrange(desc(n)) %>%\n",
    "    head(1)\n",
    "\n",
    "# see example\n",
    "dup_ex"
   ]
  },
  {
   "cell_type": "markdown",
   "metadata": {},
   "source": [
    "From here, we can find all rows in `df_awards` with the `gradid` in `dup_ex` so we can further explore a duplicated example. We will select certain variables to highlight the duplication."
   ]
  },
  {
   "cell_type": "code",
   "execution_count": null,
   "metadata": {},
   "outputs": [],
   "source": [
    "# see all duplicated rows in example\n",
    "df_awards %>%\n",
    "    filter(gradid == dup_ex$gradid) %>%\n",
    "    select(gradid, gradmonth, graddegr, gradlev, gradmaj, gradfice)"
   ]
  },
  {
   "cell_type": "markdown",
   "metadata": {},
   "source": [
    "This individual received multiple bachelors degrees (BA, BSMTH, BSCHE) and received these credentials in three types of majors from one institution of higher education in December. Sometimes, the CIP program (the first two digits of the `gradmaj`) is the same for all duplicates, and the double or triple awards are nearly equivalent (for example Accounting and Finance OR Business and Marketing) in addition to other true duplicates, based on the columns we selected. Here, we see two unique CIP programs 40 (Physical Sciences) and 27 (Mathematics) across the degrees earned.\n",
    "\n",
    "You may choose among several way to address duplicates based on your needs in future work, including:\n",
    "\n",
    "- taking the most recently received degree\n",
    "- taking the highest degree earned\n",
    "- include all conferred degrees and acknowledge that each row represents a person and a unique degree\n",
    "\n",
    "For this example, we will elect to choose the first degree after sorting for degree granting month."
   ]
  },
  {
   "cell_type": "markdown",
   "metadata": {},
   "source": [
    "### De-Duplicating Cohort\n",
    "\n",
    "Since the `bachelors` data frame is already restricted to 2015 calendar year degree earners, we can simply de-duplicate the awards to individuals by choosing the first record per person after sorting to ensure the most recent degree is selected (highest `gradmonth` per `gradid`)."
   ]
  },
  {
   "cell_type": "code",
   "execution_count": null,
   "metadata": {},
   "outputs": [],
   "source": [
    "# unduplicate cohort\n",
    "# on most recent degree\n",
    "bachelors <- bachelors %>%\n",
    "    arrange(gradid, desc(gradmonth)) %>%\n",
    "    distinct(gradid, .keep_all = TRUE)"
   ]
  },
  {
   "cell_type": "markdown",
   "metadata": {},
   "source": [
    "We can re-compare the number of awards to the number of graduates to confirm that `bachelors` is now de-duplicated."
   ]
  },
  {
   "cell_type": "code",
   "execution_count": null,
   "metadata": {},
   "outputs": [],
   "source": [
    "# compare number of rows (awards) to grads\n",
    "bachelors %>% \n",
    "    summarize(\n",
    "        awards=n(), \n",
    "        graduates=n_distinct(gradid)\n",
    "    ) "
   ]
  },
  {
   "cell_type": "markdown",
   "metadata": {},
   "source": [
    "Though the sample cohort table for 2015 calendar year bachelor's degree earners was already created for you, the following code demonstrates how you can create a database table from an R data frame. Saving the cohort as a permanent table can be especially helpful if you want to limit future queries to only include students that are members of the cohort (ultimately improving the efficiency of the query), or join across larger tables in the server. This code creates the table `grads15` in the TX training workspace database `tr_tx_2021` from the data frame `bachelors`.\n",
    "```\n",
    "qry <- \"use tr_tx_2021;\"\n",
    "DBI::dbExecute(con, qry)\n",
    "\n",
    "\n",
    "DBI::dbWriteTable(\n",
    "    conn = con,\n",
    "    name = DBI::SQL(\"dbo.grads15\"), \n",
    "    value = bachelors\n",
    ")\n",
    "```\n",
    "\n",
    "> Note: If you run this code, you will get an error because a table with the name `grads15` already exists in the `tr_tx_2021` database."
   ]
  },
  {
   "cell_type": "markdown",
   "metadata": {},
   "source": [
    "<font color=orange> <h3> **Checkpoint 4: Explore duplicates and remove for your cohort** </h3> </font> \n",
    "\n",
    "For your data frame `df_checkpoint`, explore and come up with a strategy for removing all duplicates."
   ]
  },
  {
   "cell_type": "code",
   "execution_count": null,
   "metadata": {},
   "outputs": [],
   "source": [
    "# replace ___ with code\n",
    "df_checkpoint_awards <- df_checkpoint\n",
    "\n",
    "dup_ex <- __ %>%\n",
    "    count(gradid) %>%\n",
    "    arrange(desc(n)) %>%\n",
    "    head(1)\n",
    "\n",
    "# see example\n",
    "dup_ex"
   ]
  },
  {
   "cell_type": "code",
   "execution_count": null,
   "metadata": {},
   "outputs": [],
   "source": [
    "# see all duplicated rows in example\n",
    "___ %>%\n",
    "    filter(gradid == dup_ex$___) %>%\n",
    "    select(gradid, gradmonth, graddegr, gradlev, gradmaj, gradfice)"
   ]
  },
  {
   "cell_type": "code",
   "execution_count": null,
   "metadata": {},
   "outputs": [],
   "source": [
    "# unduplicate cohort\n",
    "___ <- ___ %>%\n",
    "    arrange(gradid, ___) %>%\n",
    "    distinct(gradid, .keep_all = TRUE)\n",
    "\n",
    "# compare number of rows (awards) to grads\n",
    "___ %>% \n",
    "    summarize(\n",
    "        awards=n(), \n",
    "        graduates=n_distinct(gradid)\n",
    "    ) "
   ]
  },
  {
   "cell_type": "code",
   "execution_count": null,
   "metadata": {},
   "outputs": [],
   "source": [
    "#checkpoint_4.hint()"
   ]
  },
  {
   "cell_type": "code",
   "execution_count": null,
   "metadata": {},
   "outputs": [],
   "source": [
    "#checkpoint_4.solution()"
   ]
  },
  {
   "cell_type": "markdown",
   "metadata": {},
   "source": [
    "-----"
   ]
  },
  {
   "cell_type": "markdown",
   "metadata": {},
   "source": [
    "## **7. Exploratory Analysis of the Cohort**\n",
    "\n",
    "In this section we will find out more about our 2015 calendar year de-duplicated bachelor's recipients' cohort. We will begin by isolating the top 5 majors. From there, we will look to see if there are differences by gender. Understanding these patterns are an important part of understanding potential disparities in employment outcomes.  "
   ]
  },
  {
   "cell_type": "markdown",
   "metadata": {},
   "source": [
    "### Major Groupings\n",
    "\n",
    "Recall the last question from Checkpoint 2 asked about whether you saw an issue with how the CIP codes in `gradmaj` were coded. You probably noted that they were 8-digits rather than the 6-digits used in CIP code reporting. Nearly all of the `gradmaj` 8-digits codes end in two zeros. Lets explore this mystery.\n",
    "\n",
    "> Reminder: If you are unsure as to what a certain function does, you can always look at the help documentation."
   ]
  },
  {
   "cell_type": "code",
   "execution_count": null,
   "metadata": {},
   "outputs": [],
   "source": [
    "# all have 8 characters!!\n",
    "bachelors %>% \n",
    "    distinct(nchar(gradmaj))"
   ]
  },
  {
   "cell_type": "markdown",
   "metadata": {},
   "source": [
    "From looking at the multiple awards in an earlier section, we know that the first two digits are not read in as `00`. Just in case, let's take a look at the last two digits to see if they are potentially unnecessary and generally refer to 6-digit codes."
   ]
  },
  {
   "cell_type": "code",
   "execution_count": null,
   "metadata": {},
   "outputs": [],
   "source": [
    "# and the last two characters are not always 00...but they mostly are \n",
    "bachelors %>% \n",
    "    mutate(\n",
    "        sub = substring(gradmaj, 7, 8)\n",
    "    ) %>%\n",
    "    group_by(sub) %>%\n",
    "    summarize(\n",
    "        n = n()\n",
    "    )"
   ]
  },
  {
   "cell_type": "markdown",
   "metadata": {},
   "source": [
    "Since REDACTED of the `gradmaj` values end in two zeros, and CIP codes are 6-digits, it may seem like this is a coding error. But as it turns out, Texas uses a two digit suffix to provide further detail on the diversity of course and program offerings. This serves as a reminder that the theoretical basis, origin, recording, storage, management, and transfer of data should always be thoughtfully considered in any research; data may contain errors, missing records, and include inherent or explicit bias that researchers should investigate and consider in their analysis. Since we know the origin of the values, and because we do not need this level of specificity for the class, we will ignore the last two digits.\n",
    "\n",
    "Next, we will look at the number of different 6-digit CIP codes that appear in `bachelors` and compare that to the number of CIP programs (2-digits)."
   ]
  },
  {
   "cell_type": "code",
   "execution_count": null,
   "metadata": {},
   "outputs": [],
   "source": [
    "# See difference in number of award types between major title and cip program\n",
    "bachelors %>%\n",
    "    summarize(\n",
    "        num_cip_6 = n_distinct(gradmaj),\n",
    "        num_cip_2 = n_distinct(substring(gradmaj, 1, 2))\n",
    "    )"
   ]
  },
  {
   "cell_type": "markdown",
   "metadata": {},
   "source": [
    "There are REDACTED unique CIP codes used in `gradmaj` within our cohort, but we only have REDACTED unique codes if we go by the CIP program. For the sake of simplicity, we will use the CIP program as we continue our analysis by major."
   ]
  },
  {
   "cell_type": "code",
   "execution_count": null,
   "metadata": {},
   "outputs": [],
   "source": [
    "# Create a 2-digit CIP program code from the full CIP code in `gradmaj`\n",
    "bachelors <- bachelors %>%\n",
    "    mutate(\n",
    "        CIP_Program = substring(gradmaj, 1, 2)\n",
    "    )\n",
    "\n",
    "# confirm code works by inspecting first two digits of gradmaj\n",
    "bachelors %>%\n",
    "    select(CIP_Program, gradmaj) %>%\n",
    "    head()"
   ]
  },
  {
   "cell_type": "markdown",
   "metadata": {},
   "source": [
    "Now we can find the 5 most common majors in the cohort."
   ]
  },
  {
   "cell_type": "code",
   "execution_count": null,
   "metadata": {},
   "outputs": [],
   "source": [
    "# 5 most common majors\n",
    "bachelors %>%\n",
    "    count(CIP_Program) %>%\n",
    "    arrange(desc(n)) %>%\n",
    "    head(5)"
   ]
  },
  {
   "cell_type": "markdown",
   "metadata": {},
   "source": [
    "Unless you have memorized the corresponding names for all 2-digit CIP codes, this table will be meaningless. However, we have uploaded a CIP code crosswalk in our public database, `ds_public_1` that we can join to these results to provide some more context.\n",
    "\n",
    "We first need to load this table into R."
   ]
  },
  {
   "cell_type": "code",
   "execution_count": null,
   "metadata": {},
   "outputs": [],
   "source": [
    "# load CIP crosswalk into R\n",
    "qry <- \"\n",
    "SELECT *\n",
    "FROM ds_public_1.dbo.cip_lookup\n",
    "\"\n",
    "cip_lookup <- dbGetQuery(con, qry)\n",
    "\n",
    "# see first few rows of cip_lookup\n",
    "head(cip_lookup)"
   ]
  },
  {
   "cell_type": "markdown",
   "metadata": {},
   "source": [
    "Given the time frame of our cohort and the knowledge that CIP codes change every 10 years, it would make sense for us to use the 2010 columns."
   ]
  },
  {
   "cell_type": "code",
   "execution_count": null,
   "metadata": {},
   "outputs": [],
   "source": [
    "# only select 2010 columns\n",
    "cip_lookup <- cip_lookup %>%\n",
    "    select(ends_with(\"2010\"))\n",
    "\n",
    "head(cip_lookup)"
   ]
  },
  {
   "cell_type": "markdown",
   "metadata": {},
   "source": [
    "Now we can join `cip_lookup` to our results table."
   ]
  },
  {
   "cell_type": "code",
   "execution_count": null,
   "metadata": {},
   "outputs": [],
   "source": [
    "# 5 most common majors\n",
    "bachelors %>%\n",
    "    count(CIP_Program) %>%\n",
    "    arrange(desc(n)) %>%\n",
    "    head(5) %>%\n",
    "    inner_join(cip_lookup, by = c(\"CIP_Program\" = \"CIPCode2010\"))"
   ]
  },
  {
   "cell_type": "markdown",
   "metadata": {},
   "source": [
    "Does this list surprise you? For additional perspective, we will add in another column tracking the proportion of graduates by major."
   ]
  },
  {
   "cell_type": "code",
   "execution_count": null,
   "metadata": {},
   "outputs": [],
   "source": [
    "# 5 most common majors with proportion\n",
    "bachelors %>%\n",
    "    count(CIP_Program) %>%\n",
    "    arrange(desc(n)) %>%\n",
    "    mutate(\n",
    "        prop = n/sum(n)\n",
    "    ) %>%\n",
    "    head(5) %>%\n",
    "    inner_join(cip_lookup, by = c(\"CIP_Program\" = \"CIPCode2010\"))"
   ]
  },
  {
   "cell_type": "markdown",
   "metadata": {},
   "source": [
    "Because we hope to build off of this cursory subgroup analysis in later notebooks, let's save the resulting data frame to `df_common_major`."
   ]
  },
  {
   "cell_type": "code",
   "execution_count": null,
   "metadata": {},
   "outputs": [],
   "source": [
    "# 5 most common majors with proportion\n",
    "df_common_major <- bachelors %>%\n",
    "    count(CIP_Program) %>%\n",
    "    arrange(desc(n)) %>%\n",
    "    mutate(\n",
    "        prop = n/sum(n)\n",
    "    ) %>%\n",
    "    head(5) %>%\n",
    "    inner_join(cip_lookup, by = c(\"CIP_Program\" = \"CIPCode2010\"))"
   ]
  },
  {
   "cell_type": "markdown",
   "metadata": {},
   "source": [
    "### Gender\n",
    "\n",
    "Additionally, we can look at the gender breakdown within the cohort using the `gradgen` variable."
   ]
  },
  {
   "cell_type": "code",
   "execution_count": null,
   "metadata": {},
   "outputs": [],
   "source": [
    "# gender breakdown\n",
    "df_gender <- bachelors %>%\n",
    "    count(gradgen) %>%\n",
    "    arrange(desc(n)) %>%\n",
    "    mutate(\n",
    "        prop = n/sum(n)\n",
    "    )\n",
    "\n",
    "# see df_gender\n",
    "df_gender"
   ]
  },
  {
   "cell_type": "markdown",
   "metadata": {},
   "source": [
    "Does anything stand out about the proportion of graduates by gender? Is this something you would expect to see?"
   ]
  },
  {
   "cell_type": "markdown",
   "metadata": {},
   "source": [
    "### Top Majors by Gender\n",
    "\n",
    "Let's intersect the major breakdown by gender—do the most common majors differ amongst gender groups? Since we are looking at proportions and counts within multiple combinations of subgroups (`CIP_Program` and `gradgen`), we need to adjust the code from above a bit. First, we need to calculate the proportion of observations within each `gradgen`, hence the `group_by()`, and we replace `head()` with `slice()` to retrieve the top 5 majors within each `gradgen` value, instead of returning the top 5 rows as ordered by `gradgen`."
   ]
  },
  {
   "cell_type": "code",
   "execution_count": null,
   "metadata": {},
   "outputs": [],
   "source": [
    "# major/gender breakdown\n",
    "df_major_gender <- bachelors %>%\n",
    "    count(CIP_Program, gradgen) %>%\n",
    "    arrange(desc(n)) %>%\n",
    "    group_by(gradgen) %>%\n",
    "    mutate(\n",
    "        prop = n/sum(n)\n",
    "    ) %>%\n",
    "    arrange(gradgen, desc(n)) %>%\n",
    "    slice(1:5)\n",
    "\n",
    "df_major_gender"
   ]
  },
  {
   "cell_type": "markdown",
   "metadata": {},
   "source": [
    "We can then add in our CIP code lookup table for more context."
   ]
  },
  {
   "cell_type": "code",
   "execution_count": null,
   "metadata": {},
   "outputs": [],
   "source": [
    "# add in CIP code lookup table\n",
    "df_major_gender <- df_major_gender %>%     \n",
    "    inner_join(cip_lookup, by = c(\"CIP_Program\" = \"CIPCode2010\"))\n",
    "\n",
    "df_major_gender"
   ]
  },
  {
   "cell_type": "markdown",
   "metadata": {},
   "source": [
    "Females were more likely to choose Health Professions and Related Programs than males, with this field not appearing in their top 5 choices. Note that males were more likely to receive Biological and Biomedical Science degrees (REDACTED) compared to females (REDACTED), but that more females completed these degrees than men (REDACTED vs. REDACTED). Business, Management, Marketing, and Related Services was the most common major choice for males and the second most common for females."
   ]
  },
  {
   "cell_type": "markdown",
   "metadata": {},
   "source": [
    "<font color=orange> <h3> **Checkpoint 5: Common Majors, Gender Breakdown, and Majors by Gender** </h3> </font>\n",
    "\n",
    "Using your own data frame, `df_checkpoint`, identify the 5 most common majors overall and by gender. Save these results to `df_checkpoint_common_major` and `df_checkpoint_major_gender`, respectively.\n",
    "\n",
    "Do your results vary drastically from those derived from `bachelors`?"
   ]
  },
  {
   "cell_type": "code",
   "execution_count": null,
   "metadata": {},
   "outputs": [],
   "source": [
    "# find most common majors\n",
    "df_checkpoint <- df_checkpoint %>%\n",
    "    mutate(\n",
    "        CIP_Program = substring(gradmaj, 1, 2)\n",
    "    )\n",
    "\n",
    "df_checkpoint_common_major <- df_checkpoint %>%\n",
    "    count(___) %>%\n",
    "    arrange(___(___)) %>%\n",
    "    mutate(\n",
    "        prop = ___/sum(___)\n",
    "    ) %>%\n",
    "    ___(5) %>%\n",
    "    inner_join(___, by = c(___ = ___))\n",
    "\n",
    "df_checkpoint_common_major"
   ]
  },
  {
   "cell_type": "code",
   "execution_count": null,
   "metadata": {},
   "outputs": [],
   "source": [
    "# find most common majors by gender\n",
    "df_checkpoint_major_gender <- df_checkpoint %>%\n",
    "    count(___, ___) %>%\n",
    "    arrange(___(___)) %>%\n",
    "    group_by(___) %>%\n",
    "    mutate(\n",
    "        prop = ___/sum(___)\n",
    "    ) %>%\n",
    "    arrange(___, ___) %>%\n",
    "    ___(___) %>%  \n",
    "    inner_join(___, by = c(___ = ___))\n",
    "\n",
    "df_checkpoint_major_gender"
   ]
  },
  {
   "cell_type": "code",
   "execution_count": null,
   "metadata": {},
   "outputs": [],
   "source": [
    "#checkpoint_5.hint()"
   ]
  },
  {
   "cell_type": "code",
   "execution_count": null,
   "metadata": {},
   "outputs": [],
   "source": [
    "#checkpoint_5.solution()"
   ]
  },
  {
   "cell_type": "markdown",
   "metadata": {},
   "source": [
    "## **8. Export Results to .csv Files**"
   ]
  },
  {
   "cell_type": "markdown",
   "metadata": {},
   "source": [
    "Now you have successfully finished defining a cohort and a quick subgroup analysis! The last step is to save your results in .csv files so that we can re-use these results in future notebooks. "
   ]
  },
  {
   "cell_type": "code",
   "execution_count": null,
   "metadata": {},
   "outputs": [],
   "source": [
    "# Save dataframes to CSV to use in later notebook\n",
    "\n",
    "# most common majors\n",
    "write_csv(df_common_major, sprintf(\"U:\\\\%s\\\\TX Training\\\\Results\\\\common_major.csv\", username))\n",
    "\n",
    "# gender breakdown\n",
    "write_csv(df_gender, sprintf(\"U:\\\\%s\\\\TX Training\\\\Results\\\\common_gender.csv\", username))\n",
    "\n",
    "# most common majors by gender\n",
    "write_csv(df_major_gender, sprintf(\"U:\\\\%s\\\\TX Training\\\\Results\\\\common_major_gender.csv\", username))"
   ]
  },
  {
   "cell_type": "markdown",
   "metadata": {},
   "source": [
    "## **9. References**\n",
    "Chappell, Joseph, Feder, Benjamin, & Barrett, Nathan. (2022, April 1). Data Exploration for Cohort Analysis using Tennessee Board of Regents Data. Zenodo. https://doi.org/10.5281/zenodo.6407247"
   ]
  },
  {
   "cell_type": "code",
   "execution_count": null,
   "metadata": {},
   "outputs": [],
   "source": []
  }
 ],
 "metadata": {
  "kernelspec": {
   "display_name": "R",
   "language": "R",
   "name": "ir"
  },
  "language_info": {
   "codemirror_mode": "r",
   "file_extension": ".r",
   "mimetype": "text/x-r-source",
   "name": "R",
   "pygments_lexer": "r",
   "version": "3.6.3"
  },
  "toc-showtags": false
 },
 "nbformat": 4,
 "nbformat_minor": 4
}
