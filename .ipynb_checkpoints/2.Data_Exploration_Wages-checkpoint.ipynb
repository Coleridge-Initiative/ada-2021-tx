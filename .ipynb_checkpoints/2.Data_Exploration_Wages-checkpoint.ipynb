{
 "cells": [
  {
   "cell_type": "markdown",
   "metadata": {},
   "source": [
    "<center> <img style=\"float: center;\" src=\"images/CI_horizontal.png\" width=\"450\">\n",
    "<center>\n",
    "    <span style=\"font-size: 1.5em;\">\n",
    "        <a href='https://www.coleridgeinitiative.org'>Website</a>\n",
    "    </span> \n",
    "    <br>\n",
    "    Heath Prince, Rukhshan Mian, Benjamin Feder, Nathan Barrett </center>\n",
    "    <a href=\"https://doi.org/10.5281/zenodo.6412649\"><img src=\"https://zenodo.org/badge/DOI/10.5281/zenodo.6412649.svg\" alt=\"DOI\"></a>\n"
   ]
  },
  {
   "cell_type": "markdown",
   "metadata": {},
   "source": [
    "# Data Exploration: Wages"
   ]
  },
  {
   "cell_type": "markdown",
   "metadata": {},
   "source": [
    "## 1. Introduction\n",
    "\n",
    "It is generally accepted that individuals and society benefit from higher levels of educational attainment. Postsecondary credentials, in particular, appear to be the keys to individual self-sufficiency, greater civic participation, and higher levels of family well-being and the catalysts for local, regional, and national economic growth. In 2010, economist Anthony Carnevale (2010) referred to access to postsecondary education and training as the \"arbiter of opportunity in America,\" and this statement continues to hold true; the median invididual employed full-time today earns 80 percent more than a similar individual with only a high school diploma. Perhaps more so than ever, success in the labor market requires workers to demonstrate compentencies in thinking critically and applying new skills to ever more complex technology, as well as to demonstrate the ability to learn wholly new skills in short order. Employers benefit from a more highly skilled and productive workforce, and society benefits from increased tax revenue, reduced crime rates and dependence on public assistance programs, and greater civic engagement. "
   ]
  },
  {
   "cell_type": "markdown",
   "metadata": {},
   "source": [
    "Texas is certainly no exception to this general rule. In their analysis of returns to postsecondary attainment in Texas, Murdock et al. (2003) found that for every \\\\$1.00 invested in higher education, the state received more than \\\\$4.00 in returns in terms of reduced public assistance, lower incarceration rates, and increased tax revenue. Similarly, in their study of the return on state investments in workforce services in Texas, King et al. (2008) found an annualized ROI over a 10-year period of 38 percent for participants and 25 percent for taxpayers, with investments in high-itensity services (including postsecondary education up to the associate degree level) yeilding somewhat higher earnings than low-intensity investments). "
   ]
  },
  {
   "cell_type": "markdown",
   "metadata": {},
   "source": [
    "Despite these generally positive findings, it is likely that the issue of the value of a postsecondary credential is considerably more nuanced than simply whether or not one has one. In their analyses of NLSY79 data, Roska and Levy (2010) found \"occupationally specific degrees are beneficial at the point of entry into the labor market but have the lowest growth in occupational status over time. Students earning credentials focusing on general skills, in contrast, begin in jobs with low occupational status but subsequently report the greatest growth.\" \n",
    "\n",
    "These mixed findings suggest that there are many unanswered questions regarding state-level investments in postsecondary education and training: how is the value defined for and attributed to education and training certificates and credentials; what role, if any, does prior work experience play in determining education and training-related labor market outcomes; how do these outcomes differ by race, gender, family income quartile, etc., plus a host of others. "
   ]
  },
  {
   "cell_type": "markdown",
   "metadata": {},
   "source": [
    "## **2. Learning Objectives** \n",
    "\n",
    "Recall the guiding research questions we will use for this series of notebooks are quite general: \n",
    "\n",
    ">**What are the employment outcomes of the 2015 bachelor's degree recipients? How do these outcomes vary by cohort characteristics?**\n",
    "\n",
    "In the first data exploration notebook, `1.Data_Exploration.ipynb`, we have already defined a cohort of interest as 2015 calendar year bachelor's degree earners in Texas. Here, we will introduce you to the available wage records and walk through how we can link our cohort to the wage records tables to track the cohort's employment outcomes up to three years post-graduation. We will provide code and explanations for various outcome measures and compare them amongst subgroups such as major and gender. At the end of the notebook, we will save the data frames containing these results as csv files so that we can easily use them in the next notebook where we will visualize these descriptive statistics.\n",
    "\n",
    "At the end of this notebook, you should test your skills by performing the following tasks:\n",
    "\n",
    "(1) Linking wage records with one or more cohorts related to your specific research question <br>\n",
    "(2) Examining earnings over time and by subgroups\n",
    "\n"
   ]
  },
  {
   "cell_type": "code",
   "execution_count": null,
   "metadata": {},
   "outputs": [],
   "source": [
    "# Import the file with Checkpoint hints and solutions\n",
    "source(\"nb2_hints_and_solutions.txt\")"
   ]
  },
  {
   "cell_type": "markdown",
   "metadata": {},
   "source": [
    "### **Notebook 2 Questions and Goals**\n",
    "In this notebook, we focus on the following questions:\n",
    "- What are the average quarterly earnings of our cohort in Texas? Do they vary by major?\n",
    "- What are the stable employment outcomes of our cohort? Do they vary by gender?\n",
    "- What are the most common employment patterns of our cohort?\n",
    "\n",
    "After completing this notebook you should be able to perform the following analytical tasks:\n",
    "- Link an education cohort to multiple sets of wage data\n",
    "- Identify full quarter employment\n",
    "- Identify wage outcomes by different subgroups"
   ]
  },
  {
   "cell_type": "markdown",
   "metadata": {},
   "source": [
    "#### **Datasets**\n",
    "\n",
    "We will explore the Texas Workforce Commission wage table and build upon your work begun in Notebook 1 with the Texas Higher Education Coordinating Board (THECB) completers table. More specifically, we will leverage the following datasets:\n",
    "\n",
    "- **Quarterly Wages**: The `wage_records_lehd` table is provided by the TWC and taken from Unemployment Insurance (UI) wage data. The data include individual quarterly earnings.\n",
    "- **College Graduates**: The graduates table is provided by the THECB. The data include graduations at all Texas colleges and universities and covers the time period of January 2011 through December 2020."
   ]
  },
  {
   "cell_type": "markdown",
   "metadata": {},
   "source": [
    "## 3. Notebook Setup"
   ]
  },
  {
   "cell_type": "code",
   "execution_count": null,
   "metadata": {},
   "outputs": [],
   "source": [
    "# Run these database interaction (R package) imports.\n",
    "# Do not panic if you see a few build version warnings.\n",
    "# The versions used here were built with R 4.0.5 (Shake and Throw).\n",
    "# The latest R version is 4.1.0 (Camp Pontanezen).\n",
    "library(odbc, warn.conflicts=F, quietly=T)\n",
    "\n",
    "# For data manipulation/visualization\n",
    "library(tidyverse, warn.conflicts=F, quietly=T)\n",
    "\n",
    "# For faster date conversions\n",
    "library(lubridate, warn.conflicts=F, quietly=T)\n",
    "\n",
    "# Use percent() function\n",
    "library(scales, warn.conflicts=F, quietly=T)"
   ]
  },
  {
   "cell_type": "markdown",
   "metadata": {},
   "source": [
    "To make your life easier, please insert your ADRF username to replace the ____ inside the quotations in the following cell."
   ]
  },
  {
   "cell_type": "code",
   "execution_count": null,
   "metadata": {},
   "outputs": [],
   "source": [
    "# insert ADRF username Firstname.Lastname.UserID\n",
    "username <- \"___\""
   ]
  },
  {
   "cell_type": "code",
   "execution_count": null,
   "metadata": {},
   "outputs": [],
   "source": [
    "# Connect to the server.\n",
    "# You will not see any output when the connection is made.\n",
    "# Jupyter will post a warning if a connection cannot be made or if a connection breaks.\n",
    "con <- DBI::dbConnect(odbc::odbc(),\n",
    "                     Driver = \"SQL Server\",\n",
    "                     Server = \"msssql01.c7bdq4o2yhxo.us-gov-west-1.rds.amazonaws.com\",\n",
    "                     Trusted_Connection = \"True\")"
   ]
  },
  {
   "cell_type": "markdown",
   "metadata": {},
   "source": [
    "> If you are not properly connected to the server and/or have not loaded the packages to do so, you will receive an error message running the following code cell.\n",
    "\n",
    "Now that we are connected to the proper server, we can load our cohort established in the first notebook, `grads15` into R.\n",
    "\n",
    "> Recall `bachelors`, the data frame from the first notebook, is saved as `grads15` in the `tr_tx_2021` database."
   ]
  },
  {
   "cell_type": "code",
   "execution_count": null,
   "metadata": {},
   "outputs": [],
   "source": [
    "# Let's get the data cohort from Notebook 1 and put it in an R data frame (df_cohort)\n",
    "# Still no exciting output? Don't panic. You are creating a data frame but not viewing it yet.\n",
    "qry <- \n",
    "\"\n",
    "SELECT * \n",
    "FROM tr_tx_2021.dbo.grads15\n",
    "\"\n",
    "\n",
    "df_cohort <- dbGetQuery(con, qry)"
   ]
  },
  {
   "cell_type": "markdown",
   "metadata": {},
   "source": [
    "To see some output from `df_cohort`, we can take a look at the first six rows of the data frame."
   ]
  },
  {
   "cell_type": "code",
   "execution_count": null,
   "metadata": {},
   "outputs": [],
   "source": [
    "# Recall that this is an R command, so you can run it in a code cell\n",
    "# Do a quick scan through the column headers\n",
    "head(df_cohort)"
   ]
  },
  {
   "cell_type": "markdown",
   "metadata": {},
   "source": [
    "## 4. A Note on SQL and R for Processing Data"
   ]
  },
  {
   "cell_type": "markdown",
   "metadata": {},
   "source": [
    "SQL is designed to allow for quick and efficient processing of massive amounts of information, such as UI wage records files. Although you may not have trouble narrowing down a cohort from the graduates table in R, you will run into memory issues reading larger tables into R prior to significantly limiting their size. Particularly because we will need to link our original cohort to the UI wage records to begin to understand the cohort's employment outcomes, we saved our resulting analytical file formed at the end of Notebook 1 as a table in SQL. This will allow us to easily perform a linkage to the cohort's employment outcomes in SQL, as opposed to reading the entire UI wage records table into R to perform the linkage. Once we have our final table of wage outcomes specific to our cohort within a defined time period, we should be able to read this table into R to perform more complex analyses, as it is just a small subset of the original UI wage records file.\n",
    " \n",
    "Oftentimes, analysts working with large datasets will begin their analysis in SQL to define their analytical frame before reading the resulting table into R. This workflow typically maximizes the power of the two languages, as SQL will be much more efficient when working with massive amounts of data, and R allows for more complex analyses and visualizations. "
   ]
  },
  {
   "cell_type": "markdown",
   "metadata": {},
   "source": [
    "## 5. Linking the Cohort to Wage Records\n",
    "\n",
    "Since our cohort, `df_cohort`, does not contain employment outcomes, we will need to figure out a method to extract post-graduation earnings for these individuals from Texas's UI wage records table. This section will walk you through a possible linkage procedure."
   ]
  },
  {
   "cell_type": "markdown",
   "metadata": {},
   "source": [
    "### Understanding Texas's UI Wage Records\n",
    "\n",
    "Before we can try to link `df_cohort` to any wage records, we need to get a better sense of the contents of the wage records table. Let's take a look at the column headers in the `wage_records_lehd` table and see if we can spot any common variables by which we can create a potential linkage."
   ]
  },
  {
   "cell_type": "code",
   "execution_count": null,
   "metadata": {},
   "outputs": [],
   "source": [
    "# see five rows of data from tx wage_record table\n",
    "qry <- \"\n",
    "SELECT top 5 *\n",
    "FROM ds_tx_twc.dbo.wage_records_lehd\n",
    "\"\n",
    "dbGetQuery(con, qry)"
   ]
  },
  {
   "cell_type": "markdown",
   "metadata": {},
   "source": [
    "As you may have noticed, the individual identifier in the `wage_records_lehd` (`ssn`) table is different from the identifier in the `grads15` (`gradid`) table. Despite this, the two identifiers represent the same hashed social security number for the individual. For the purposes of linking the two tables and conducting the analysis, we will use `gradid` going forward as the individual identifier."
   ]
  },
  {
   "cell_type": "markdown",
   "metadata": {},
   "source": [
    "<font color=orange> <h3> **Checkpoint 1: Time Travel** </h3> </font>\n",
    "\n",
    "Given the available variables in the `wage_records_lehd` table and `df_cohort` (`tr_tx_2021.dbo.grads15` in SQL), identify potential variables we can use to define a specific time frame (up to three years post-graduation). Refer to the data dictionaries for complete column definitions.\n",
    "\n",
    "> Note: You don't need to perform the linkage — we will be doing that in a handful of code cells — but please think about potential variables we might be able to use in the future."
   ]
  },
  {
   "cell_type": "code",
   "execution_count": null,
   "metadata": {},
   "outputs": [],
   "source": [
    "# which variables appear in the two tables? You can also consult the data dictionaries\n",
    "qry <- \"\n",
    "SELECT COLUMN_NAME\n",
    "FROM tr_tx_2021.INFORMATION_SCHEMA.COLUMNS\n",
    "WHERE TABLE_NAME = 'grads15'\n",
    "\"\n",
    "dbGetQuery(con, qry)"
   ]
  },
  {
   "cell_type": "markdown",
   "metadata": {},
   "source": [
    "We have not provided hints or solutions for this checkpoint. You are encouraged to utilize the data dictionaries to think about what variables could be used to define a time frame. We will be going over an answer for this checkpoint in the next section. "
   ]
  },
  {
   "cell_type": "markdown",
   "metadata": {},
   "source": [
    "### Wage Records: Data Exploration"
   ]
  },
  {
   "cell_type": "markdown",
   "metadata": {},
   "source": [
    "There are a few different ways we can approach linking our cohort with Texas' wage records so that they satisfy a specific time constraint. Although the solution presented may not line up with your answer to Checkpoint 1, it is one that can be applied to a lot of other datasets.\n",
    "\n",
    "The general idea is to create new variables in each of the tables that represent graduation and employment information in terms of calendar dates. From there, we can take advantage of SQL and R's date-specific functions to extract employment data within a three-year timespan. If you refer back to the original tables from which we are taking wage and graduation data, you will notice that there are no columns indicating specific dates (i.e. mm/dd/yyyy format) within either. Luckily, though, there are columns in both tables that can allow us to approximate these dates in a consistent manner. "
   ]
  },
  {
   "cell_type": "markdown",
   "metadata": {},
   "source": [
    "For example, in Texas's UI wage records, the variable `quarter` tracks the fiscal quarter and `year` denotes the calendar year corresponding to each employment record.\n",
    "\n",
    "> One benefit of working with dates in the specific `datetime` type is that there are built-in functions to calculate the time elapsed between two dates."
   ]
  },
  {
   "cell_type": "code",
   "execution_count": null,
   "metadata": {},
   "outputs": [],
   "source": [
    "# see quarter and year in wage_records_lehd\n",
    "qry <- \"\n",
    "SELECT TOP 5 quarter, year\n",
    "FROM ds_tx_twc.dbo.wage_records_lehd\n",
    "\"\n",
    "dbGetQuery(con, qry)"
   ]
  },
  {
   "cell_type": "markdown",
   "metadata": {},
   "source": [
    "We will have to do a bit of manipulation to get a rough but consistent \"date\" of employment across all of the wage records from the `quarter` and `year` variables... To do so, we will approximate the job date as the first day of the quarter, so employment in:\n",
    "\n",
    "- **Q1** will correspond to **January 1**\n",
    "- **Q2** will correspond to **April 1** \n",
    "- **Q3** will correspond to **July 1**\n",
    "- **Q4** will correspond to **October 1** \n",
    "\n",
    "A quick way to map these quarters to their corresponding month given this rule is that you can multiply each quarter by 3 and subtract 2. For example: in order, to get the 1st month associated with the 3rd quarter, we can do: $(3*3 - 2) = 7$. That is, the first month associated with the 3rd quarter is July (month = 7).\n",
    "\n",
    "Therefore, our strategy to add in a variable `job_date`, which will be a date-formatted approximation of the date of employment in `mm/dd/yyyy` format, will be as follows:\n",
    "\n",
    "1. Multiply `quarter` by 3 and subtract 2 to get the month.\n",
    "2. Combine the month (step 1) and the calendar year using `concat()` so that the date format is mm/dd/yyyy, with dd always corresponding to '01', the first day of the quarter.\n",
    "5. Convert the manipulated date string, which is of type `varchar` after running `concat()`, to `datetime` so that `job_date` registers as a date type.\n",
    "\n",
    "The following table illustrates the output for each of these steps:\n",
    "\n",
    "|`year`    | `quarter` |Step 1| Step 2| Step 3 |\n",
    "| ----------- | :-----------: | :-----------: |:-----------: |:-----------:|\n",
    "| 2015      |  3| 7 | 07/01/2015|2015-07-01\n",
    "\n",
    "If you were to write the code out in steps, with each step building on the last, the code to create a `job_date` variable could look as follows:"
   ]
  },
  {
   "cell_type": "markdown",
   "metadata": {},
   "source": [
    "#### Adjust `quarter` to correspond to a month"
   ]
  },
  {
   "cell_type": "code",
   "execution_count": null,
   "metadata": {},
   "outputs": [],
   "source": [
    "# map extracted quarter to month by multiplying by 3 and subtracting 2\n",
    "# showing example where the quarter is not quarter 1\n",
    "qry <- \"\n",
    "SELECT TOP 5 (quarter)*3-2 as month_for_job_date\n",
    "FROM ds_tx_twc.dbo.wage_records_lehd\n",
    "WHERE quarter = 3\n",
    "\"\n",
    "dbGetQuery(con, qry)"
   ]
  },
  {
   "cell_type": "markdown",
   "metadata": {},
   "source": [
    "#### Coerce extracted month and calendar year into a date-like format"
   ]
  },
  {
   "cell_type": "code",
   "execution_count": null,
   "metadata": {},
   "outputs": [],
   "source": [
    "# combine extracted month, day (always 01), and calendar year into date-like format using 'concat()'\n",
    "# want format mm/dd/yyyy with '/' separators\n",
    "# have combined month_for_job_date and year into 'job_date'\n",
    "# notice type is 'chr'\n",
    "qry <- \"\n",
    "SELECT TOP 5 quarter, year,\n",
    "    CONCAT((quarter)*3-2, '/', '01', '/', year) as job_date\n",
    "FROM ds_tx_twc.dbo.wage_records_lehd\n",
    "\"\n",
    "dbGetQuery(con, qry)"
   ]
  },
  {
   "cell_type": "markdown",
   "metadata": {},
   "source": [
    "#### Convert `job_date` to `datetime` type"
   ]
  },
  {
   "cell_type": "code",
   "execution_count": null,
   "metadata": {},
   "outputs": [],
   "source": [
    "# convert job_date to datetime in SQL using convert()\n",
    "# first argument of convert() is the type to which you would like to convert the variable\n",
    "qry <- \"\n",
    "SELECT TOP 5 quarter, year,\n",
    "    CONVERT(datetime, concat((quarter)*3-2, '/', '01', '/', year)) as job_date\n",
    "FROM ds_tx_twc.dbo.wage_records_lehd\n",
    "\"\n",
    "\n",
    "dbGetQuery(con, qry)"
   ]
  },
  {
   "cell_type": "markdown",
   "metadata": {},
   "source": [
    "Now, you have code to generate a rough `job_date` variable from the Texas UI wage records. While possible to do in R using the `lubridate` package, again due to the size of the table, you will often run into memory and speed issues."
   ]
  },
  {
   "cell_type": "markdown",
   "metadata": {},
   "source": [
    "### Assessing duplicates"
   ]
  },
  {
   "cell_type": "markdown",
   "metadata": {},
   "source": [
    "When it comes to wage records, one of our assumptions is that there should be one entry for each individual-employer-quarter-year combination. Let's confirm that assumption by counting the number of entries within each `ssn-empr_no-quarter-year` combination.\n",
    "\n",
    "The following code checks our assumption:"
   ]
  },
  {
   "cell_type": "code",
   "execution_count": null,
   "metadata": {},
   "outputs": [],
   "source": [
    "# check for duplicates\n",
    "qry <- \n",
    "\"\n",
    "SELECT TOP 5 ssn, empr_no, year, quarter, COUNT(*) AS count\n",
    "FROM ds_tx_twc.dbo.wage_records_lehd\n",
    "GROUP BY ssn, empr_no, year, quarter \n",
    "HAVING COUNT(*) > 1\n",
    "ORDER BY COUNT(*) DESC\n",
    "\"\n",
    "\n",
    "dbGetQuery(con, qry)"
   ]
  },
  {
   "cell_type": "markdown",
   "metadata": {},
   "source": [
    "It turns out that it is not possible to have more than one observation within a `ssn`-`empr_no`-`quarter`-`year` combination in this table. Sometimes, you may run into duplication when working with wage tables because employers may refile to amend previously-submitted employment records. It is necessary to assess all duplicates to avoid double-counting. Luckily, though, these data were already cleaned to adjust for the most recent file date within each employment record.\n",
    "\n",
    "In review, we have been adhering to the following steps to prepare the wage records for the linkage procedure:\n",
    "\n",
    "1. Create a column called `job_date` that reflects the 1st day of every quarter-calendar year combination [Done!]\n",
    "2. Assess any potential duplicate records and apply de-duplication process [Not necessary]\n",
    "3. Keep wages that are greater than zero [To do]\n",
    "\n",
    "We have already created a table, `wage_record_dated_dedup`, for you in the `tr_tx_2021` database using the code below that accounts for all three of these steps. Additionally, we limited the wage records to only include observations that already existed in our cohort table created in the first notebook, `grads15`. This is done to speed up certain data exploration and linkage tasks. The code for creating the `wage_record_dated_dedup` is as follows:\n",
    "\n",
    "```\n",
    "SELECT *, convert(datetime, concat(substring(cast(wage_qtr as varchar), 5, 5)*3-2, '/', '01', '/', substring(cast(wage_qtr as varchar), 1, 4))) as job_date\n",
    "INTO tr_tx_2021.dbo.wage_record_dated_dedup\n",
    "FROM ds_tx_twc.dbo.wage_records_lehd \n",
    "WHERE wage > 0 and ssn in (\n",
    "    SELECT DISTINCT(gradid) \n",
    "    FROM tr_tx_2021.dbo.grads15\n",
    ")\n",
    "```"
   ]
  },
  {
   "cell_type": "markdown",
   "metadata": {},
   "source": [
    "### Creating `grad_date`\n",
    "Now that we have successfully created the `job_date` variable and evaluated the wage records for potential duplication, we can follow a relatively similar process for generating `grad_date`. There are a couple of columns you can use from the `grads15` table. One option is a combination of `gradmonth`, which tracks the month of graduation, and `gradyear`, the year of graduation. However, as discussed in the first notebook, `gradyear` is actually the fiscal year of graduation, not the calendar year. Luckily, though, we know that the calendar year for all of these graduates is 2015 due to our original cohort contruction."
   ]
  },
  {
   "cell_type": "code",
   "execution_count": null,
   "metadata": {},
   "outputs": [],
   "source": [
    "# see gradmonth and gradyear\n",
    "qry <- \"\n",
    "SELECT TOP 5 gradmonth, gradyear\n",
    "FROM tr_tx_2021.dbo.grads15\n",
    "\"\n",
    "dbGetQuery(con, qry)"
   ]
  },
  {
   "cell_type": "markdown",
   "metadata": {},
   "source": [
    "In the case of Texas wage records, we had the `quarter` and `year` variables that provided us with a quarter-calendar year combination. As you can see, the graduations file looks somewhat similar with `gradmonth` and `gradyear` columns. To create `grad_date`, we need to manipulate `gradmonth` to correspond to the first day of the proper fiscal quarter to ensure that it will align with `job_date`. Here, we will consider the first month of the Fall semester to correspond to October 1, or the first day of the 4th fiscal quarter; we will consider the first month of the Spring semester to correspond to April 1, and the first month of the Summer semester to July 1. Let's try creating a new column, `new_quarter`, that takes in this transformation.\n",
    "\n",
    "Our end goal is to line up `gradmonth` to correspond to our method we applied to the Texas wage records. For example: If we have `gradmonth = 5`, we would create `grad_date` using the following method:\n",
    "\n",
    "1. Extract the quarter from `gradmonth` (`new_quarter`). We do this by utilizing the `CEILING` function in SQL. We divide `gradmonth` by 3 and then we apply `CEILING` to **round up** the result. \n",
    "2. Multiply the quarter by 3 and subtract 2 to extract the first month for each quarter (`first_month`).\n",
    "3. Combine the first day of `first_month` (01), `first_month` itself and the corresponding calendar year (2015).\n",
    "4. Convert combined date into SQL's datetime format.\n",
    "\n",
    "\n",
    "\n",
    "|`gradmonth`     |calendar year| `new_quarter`| `first_month` | combined date| final result | \n",
    "|:-----------:|:---:| :-----------:| :----------:|:-----------:| :----------:|\n",
    "| 5      | 2015 |2| 4 | 04/01/2015|2015-04-01\n",
    "\n",
    "Let's translate these steps to code."
   ]
  },
  {
   "cell_type": "code",
   "execution_count": null,
   "metadata": {},
   "outputs": [],
   "source": [
    "# extract quarter from month \n",
    "qry <- \"\n",
    "SELECT TOP 5 gradmonth, ceiling(gradmonth/3.0) as new_quarter\n",
    "    FROM tr_tx_2021.dbo.grads15\n",
    "\"\n",
    "\n",
    "dbGetQuery(con, qry)"
   ]
  },
  {
   "cell_type": "markdown",
   "metadata": {},
   "source": [
    "Assuming the `new_quarter` column, we now have the information needed to map degree dates to quarters. In order to preserve the `new_quarter` column, we could create a permanent table with this column, or add it to `grads15`. Another option, though, is to use a Common Table Expression (CTE), where we will create intermediate results (finding `new_quarter` for every graduate) that we can combine together to create our final table in one query. \n",
    "\n",
    "With a CTE, we create intermediate results that we can combine together to create our final table in one query. A CTE can be initiated by using a `with` clause in SQL. `with` enables us to define an intermediate table without writing it to the database before using the intermediate table to derive our desired result. The code below allows us to combine steps 2 through 4 in a CTE. "
   ]
  },
  {
   "cell_type": "code",
   "execution_count": null,
   "metadata": {},
   "outputs": [],
   "source": [
    "# see grad date variable\n",
    "qry <- \"\n",
    "WITH new_table as (\n",
    "    SELECT *,\n",
    "    CEILING(gradmonth/CAST(3 AS float)) as new_quarter\n",
    "    FROM tr_tx_2021.dbo.grads15\n",
    ")\n",
    "SELECT top 5 gradmonth, CONVERT(datetime, CONCAT(new_quarter*3 - 2, '/', '01', '/', 2015)) as grad_date\n",
    "FROM new_table\n",
    "\"\n",
    "dbGetQuery(con, qry)"
   ]
  },
  {
   "cell_type": "markdown",
   "metadata": {},
   "source": [
    "To avoid delays in terms of processing times, we have already created a new table, `grads15_dated` that incorporates the `grad_date` variable using the code below:\n",
    "```\n",
    "with new_table as (\n",
    "    select *,\n",
    "    ceiling (gradmonth/CAST(3 AS float)) as new_quarter\n",
    "    from tr_tx_2021.dbo.grads15\n",
    ")\n",
    "select *, convert(datetime, concat((new_quarter*3) - 2, '/', '01', '/', 2015)) as grad_date\n",
    "into tr_tx_2021.dbo.grads15_dated\n",
    "from new_table;\n",
    "```"
   ]
  },
  {
   "cell_type": "markdown",
   "metadata": {},
   "source": [
    "### Performing the Join\n",
    "\n",
    "At this point, we have both dated and undated versions of tables at our disposal to find employment history up to *3* years after graduation: \n",
    "\n",
    "- `ds_tx_thecb.dbo.graduates` ---> `tr_tx_2021.dbo.grads15` --->  `tr_tx_2021.dbo.grads15_dated`\n",
    "- `ds_tx_twc.dbo.wage_records_lehd` ---> `tr_tx_2021.dbo.ui_wage_record_dated_dedup`\n",
    "\n",
    "As mentioned previously, we can link between these two (dated) tables by  `ssn` values (hashed SSN numbers) in the `wage_record_dated_dedup` table and `gradid` values in the `grads15_dated` table to limit the time frame using SQL's date functions.\n",
    "\n",
    "We will use a `join` statement and add our time constraints to the `where` clause. The time constraint will be implemented by only taking `job_date` values (found in `tr_tx_2021.dbo.wage_record_dated_dedup`) that occur within 14 quarters (including the quarter of graduation) of graduation. We include 14 quarters so that we can calculate full-quarter employment later on in this notebook.\n",
    "\n",
    "The date-specific function we will use in SQL is `dateadd()`, which allows us to add different time intervals to date variables."
   ]
  },
  {
   "cell_type": "code",
   "execution_count": null,
   "metadata": {},
   "outputs": [],
   "source": [
    "# link wage and education tables for up to 13 quarters post-graduation and include quarter of graduation\n",
    "qry <- \"\n",
    "SELECT cohort.*, w.naics, w.year, w.quarter, w.empr_no, w.job_date, w.wage\n",
    "FROM tr_tx_2021.dbo.grads15_dated cohort\n",
    "JOIN tr_tx_2021.dbo.wage_record_dated_dedup w\n",
    "ON cohort.gradid = w.ssn\n",
    "WHERE w.job_date >= cohort.grad_date AND dateadd(quarter, 13, cohort.grad_date) >= w.job_date\n",
    "\"\n",
    "\n",
    "# we call this df_wages_undup because the wages data frame does not have any duplicates in terms of individuals-employer-quarter-year\n",
    "df_wages_undup <- dbGetQuery(con, qry)\n",
    "\n",
    "head(df_wages_undup)"
   ]
  },
  {
   "cell_type": "markdown",
   "metadata": {},
   "source": [
    "<font color=orange> <h3> **Checkpoint 2: Time Keeping** </h3> </font>\n",
    "\n",
    "\n",
    "Adjust the query above to only include wage records in the two years (8 quarters) after graduation, including the quarter of graduation. Return five rows to confirm your results."
   ]
  },
  {
   "cell_type": "code",
   "execution_count": null,
   "metadata": {},
   "outputs": [],
   "source": [
    "# link wage and education tables for two years after graduation\n",
    "qry <- \"\n",
    "SELECT TOP 5 __\n",
    "FROM ___\n",
    "JOIN ___\n",
    "ON ___\n",
    "WHERE __\n",
    "\"\n",
    "dbGetQuery(con, qry)"
   ]
  },
  {
   "cell_type": "markdown",
   "metadata": {},
   "source": [
    "Uncomment the lines below if you would like to see a hint or a solution."
   ]
  },
  {
   "cell_type": "code",
   "execution_count": null,
   "metadata": {},
   "outputs": [],
   "source": [
    "# checkpoint_2.hint()"
   ]
  },
  {
   "cell_type": "code",
   "execution_count": null,
   "metadata": {},
   "outputs": [],
   "source": [
    "# checkpoint_2.solution()"
   ]
  },
  {
   "cell_type": "markdown",
   "metadata": {},
   "source": [
    "## 6. Saving linked cohort-wages data to a table\n",
    "\n",
    "We can use the following code to save our `df_wages_undup` data frame as a table within the `tr_tx_2021` database.\n",
    "```\n",
    "qry <- \" use tr_tx_2021;\"\n",
    "DBI::dbExecute(con, qry)\n",
    "\n",
    "DBI::dbWriteTable(\n",
    "    conn = con,\n",
    "    name = DBI::SQL(\"dbo.nb_cohort_wages_link\"), \n",
    "    value = df_wages_undup\n",
    "    )\n",
    "```"
   ]
  },
  {
   "cell_type": "code",
   "execution_count": null,
   "metadata": {},
   "outputs": [],
   "source": [
    "# test that we can query from the new table\n",
    "qry <- \"\n",
    "SELECT TOP 5 *\n",
    "FROM tr_tx_2021.dbo.nb_cohort_wages_link\n",
    "\"\n",
    "dbGetQuery(con, qry)"
   ]
  },
  {
   "cell_type": "markdown",
   "metadata": {},
   "source": [
    "## 7. Employment Outcomes"
   ]
  },
  {
   "cell_type": "markdown",
   "metadata": {},
   "source": [
    "Connecting education data to employment data is only the first part of understanding the outcomes for Texas' bachelor's degree recipients. There are many ways that one could define and evaluate these outcomes. We present a few here. While working through this section, think through the outcomes that would be most relevant for your research question."
   ]
  },
  {
   "cell_type": "markdown",
   "metadata": {},
   "source": [
    "We will look at the following outcomes:\n",
    "- Average quarterly earnings and the total workers employed by quarter (data: TX wages)\n",
    "    - Distribution by major\n",
    "- Full quarter employment (data: full quarter TX wages)\n",
    "    - Distribution by gender\n",
    "- Employment Patterns (data: quarterly TX wages)"
   ]
  },
  {
   "cell_type": "markdown",
   "metadata": {},
   "source": [
    "### Average quarterly earnings and number employed by quarter"
   ]
  },
  {
   "cell_type": "markdown",
   "metadata": {},
   "source": [
    "As mentioned earlier, we plan to focus on the first 12 quarters post-graduation for each individual. However, `df_wages_undup` currently contains employment outcomes in the quarter of graduation, as well as 13 quarters post-graduation. To isolate each quarter post-graduation, we will create a new variable, `quarter_number`, which leverages some of R's functionality when it comes to working with date variables. After converting `grad_date` and `job_date` to date objects in R, we can calculate the difference in weeks between the two values (thanks to `difftime` from the `lubridate` package), divide by 13 since there are roughly 13 weeks in each quarter, and round to the nearest whole number to find the quarter of employment relative to graduation."
   ]
  },
  {
   "cell_type": "code",
   "execution_count": null,
   "metadata": {},
   "outputs": [],
   "source": [
    "# get quarter from graduation\n",
    "df_wages_undup <- df_wages_undup %>%\n",
    "    mutate(\n",
    "        quarter_number = round(as.double(difftime(as.Date(job_date), as.Date(grad_date), units = \"weeks\")/13), 0)\n",
    "    )\n",
    "\n",
    "# see evidence\n",
    "df_wages_undup %>%\n",
    "    select(grad_date, job_date, quarter_number) %>%\n",
    "    head()"
   ]
  },
  {
   "cell_type": "markdown",
   "metadata": {},
   "source": [
    "With `quarter_number`, we can sum each individual's total earnings by quarter while excluding all observations where `quarter_number` is either 0 or 13."
   ]
  },
  {
   "cell_type": "code",
   "execution_count": null,
   "metadata": {},
   "outputs": [],
   "source": [
    "# ignore quarters 0 and 13\n",
    "df_wages_undup <- df_wages_undup %>%\n",
    "    filter(!(quarter_number %in% c(0, 13)))\n",
    "\n",
    "# find quarterly wages\n",
    "df_wages_undup %>%\n",
    "    group_by(gradid, quarter_number) %>%\n",
    "    summarize(\n",
    "        quarterly_wages = sum(wage),\n",
    "    ) %>%\n",
    "    ungroup() %>%\n",
    "    head()"
   ]
  },
  {
   "cell_type": "markdown",
   "metadata": {},
   "source": [
    "Let's save these results to the data frame `quarterly_wages` so we can compute the cohort's average quarterly earnings by quarter."
   ]
  },
  {
   "cell_type": "code",
   "execution_count": null,
   "metadata": {},
   "outputs": [],
   "source": [
    "# save as quarterly_wages\n",
    "quarterly_wages <- df_wages_undup %>%\n",
    "    group_by(gradid, quarter_number) %>%\n",
    "    summarize(\n",
    "        total_wages = sum(wage),\n",
    "    ) %>%\n",
    "    ungroup()"
   ]
  },
  {
   "cell_type": "markdown",
   "metadata": {},
   "source": [
    "Now that we have `quarterly_wages` to capture each individual's total quarterly earnings, we can compute the cohort average quarterly earnings, as well as the total number of individuals employed, broken down by quarter after graduation."
   ]
  },
  {
   "cell_type": "code",
   "execution_count": null,
   "metadata": {},
   "outputs": [],
   "source": [
    "# average wages and number of grads with wages by quarter after graduation\n",
    "avg_and_num <- quarterly_wages %>%\n",
    "    group_by(quarter_number) %>%\n",
    "    summarize(\n",
    "        mean_wage = mean(total_wages),\n",
    "        n_employed = n_distinct(gradid)\n",
    "    )\n",
    "\n",
    "avg_and_num"
   ]
  },
  {
   "cell_type": "markdown",
   "metadata": {},
   "source": [
    "We can see that the number of graduates employed in Texas is fairly consistent, and that over time, the average quarterly earnings rise. Keep in mind that the `mean_wage` encompasses average quarterly earnings, so if an individual had multiple earning sources in a quarter, we are currently taking the sum of them. Let's see if we see similar trends amongst those receiving the most common degrees within the cohort."
   ]
  },
  {
   "cell_type": "markdown",
   "metadata": {},
   "source": [
    "#### By Major"
   ]
  },
  {
   "cell_type": "markdown",
   "metadata": {},
   "source": [
    "Let's see if there are consistent trends relative to the entire cohort of earners for those who received degrees in the five most common fields. Recall that whereas the cohort was saved in the data frame `bachelors` in the first notebook, it is saved as `df_cohort` here."
   ]
  },
  {
   "cell_type": "markdown",
   "metadata": {},
   "source": [
    "As a brief recap, we can use the following code to rediscover the 5 most common majors in our cohort. This is equivalent to what we did in `1.Data_Exploration.ipynb`."
   ]
  },
  {
   "cell_type": "code",
   "execution_count": null,
   "metadata": {},
   "outputs": [],
   "source": [
    "# df_cohort: Create a 2 digit CIP program code from the full CIP code in `gradmaj`\n",
    "df_cohort <- df_cohort %>%\n",
    "    mutate(\n",
    "        CIP_Program = substring(gradmaj, 1, 2)\n",
    "    )\n",
    "\n",
    "# df_wages_undup: Create a 2 digit CIP program code from the full CIP code in `gradmaj`\n",
    "df_wages_undup <- df_wages_undup %>%\n",
    "    mutate(\n",
    "        CIP_Program = substring(gradmaj, 1, 2)\n",
    "    )\n",
    "    \n",
    "# load CIP crosswalk into R\n",
    "qry <- \"\n",
    "SELECT *\n",
    "FROM ds_public_1.dbo.cip_lookup\n",
    "\"\n",
    "cip_lookup <- dbGetQuery(con, qry)\n",
    "\n",
    "# only select 2010 columns\n",
    "cip_lookup <- cip_lookup %>%\n",
    "    select(ends_with(\"2010\"))\n",
    "\n",
    "# 5 most common majors\n",
    "com_majors <- df_cohort %>%\n",
    "    count(CIP_Program) %>%\n",
    "    arrange(desc(n)) %>%\n",
    "    mutate(\n",
    "        prop = n/sum(n)\n",
    "    ) %>%\n",
    "    head(5) %>%\n",
    "    inner_join(cip_lookup, by = c(\"CIP_Program\" = \"CIPCode2010\"))\n",
    "\n",
    "\n",
    "com_majors"
   ]
  },
  {
   "cell_type": "markdown",
   "metadata": {},
   "source": [
    "Now that we have the most common majors, we can `filter` `df_wages_undup` for only observations for these majors and evaluate earnings and the number of individuals employed within these five majors."
   ]
  },
  {
   "cell_type": "code",
   "execution_count": null,
   "metadata": {},
   "outputs": [],
   "source": [
    "# earnings and number employed for most common majors\n",
    "# first find quarterly wages for each person while including major\n",
    "# then find average wages within groups\n",
    "avg_and_num_major <- df_wages_undup %>%\n",
    "    filter(CIP_Program %in% com_majors$CIP_Program) %>%\n",
    "    group_by(gradid, quarter_number, CIP_Program) %>%\n",
    "    summarize(\n",
    "        total_wages = sum(wage)\n",
    "    ) %>%\n",
    "    ungroup() %>%\n",
    "    group_by(CIP_Program, quarter_number) %>%\n",
    "    summarize(\n",
    "            mean_wage = mean(total_wages),\n",
    "            n_employed = n_distinct(gradid)\n",
    "        )  %>%\n",
    "    inner_join(cip_lookup, by = c(\"CIP_Program\" = \"CIPCode2010\"))\n",
    "\n",
    "\n",
    "avg_and_num_major"
   ]
  },
  {
   "cell_type": "markdown",
   "metadata": {},
   "source": [
    "Notice the different salary growth experiences, on average, between graduates of these majors. However, these two employment measures do not include any measure of employment stability, which is often an important job aspect, especially for recent graduates."
   ]
  },
  {
   "cell_type": "markdown",
   "metadata": {},
   "source": [
    "### Full-Quarter Employment\n",
    "\n",
    "There are many ways to define stable employment. Sometimes, it may be useful to define stable employment by a consecutive number of quarters worked with the same employer. Other times, stable employment may assume an alternative definition. Here, we will define stable employment as full-quarter employment. Full-quarter employment in quarter *t* is indicated by a presence of wages with the same employer in quarters *t-1*, *t*, and *t+1*.\n",
    "\n",
    "**Example: Data Needed to Assess Full-Quarter (FQ) Employment for Person1/EmployerA in Each of the 4 Quarters Post-Graduation**\n",
    "\n",
    "|Person/Employer Combination| Degree |FQ YearQtr |t-1|t|t+1|\n",
    "|---|---|---|---|---|---|\n",
    "|_Person 1/Employer A_ |_2013 Q3_ |_2013 Q4_ |<font color=green>2013 Q3</font> |**2013 Q4** |2014 Q1 |\n",
    "|_Person 1/Employer A_ |_2013 Q3_ |_2014 Q1_ |2013 Q4 |**2014 Q1** |2014 Q2 |\n",
    "|_Person 1/Employer A_ |_2013 Q3_ |_2014 Q2_ |2014 Q1 |**2014 Q2** |2014 Q3 |\n",
    "|_Person 1/Employer A_ |_2013 Q3_ |_2014 Q3_ |2014 Q2 |**2014 Q3** |<font color=green>2014 Q4</font> |\n",
    "\n",
    "As can be seen in the table above, calculating full-quarter employment for the same four quarter span requires two additional quarters of wage information. This requires us to extend our data frame to include the employment quarter of graduation as well as one additional quarter after our final quarter of interest. In this example, it means including employment in the quarter prior to quarter 1 and the quarter after quarter 12. Now, it should be clear as to why we initially brought in 14 quarters worth of data, as we need all 14 quarters to calculate full-quarter employment within the 12 on which we want to focus.\n",
    "\n",
    "In practice, to isolate instances of full-quarter employment, we can do so by creating three copies of our `nb_cohort_wages_link` table, and matching them based on `empr_no` and `gradid` values while accounting for `job_date` differences amounting to quarters t-1, t, and t+1."
   ]
  },
  {
   "cell_type": "code",
   "execution_count": null,
   "metadata": {},
   "outputs": [],
   "source": [
    "# get full quarter instances\n",
    "qry <- \"\n",
    "SELECT b.gradid, b.empr_no, b.wage, b.job_date, b.grad_date, b.gradgen, b.gradmaj\n",
    "FROM  tr_tx_2021.dbo.nb_cohort_wages_link a,  tr_tx_2021.dbo.nb_cohort_wages_link b,  tr_tx_2021.dbo.nb_cohort_wages_link c\n",
    "WHERE a.gradid = b.gradid AND a.empr_no = b.empr_no AND a.job_date = dateadd(month, 3, b.job_date)\n",
    "AND a.gradid = c.gradid and a.empr_no = c.empr_no AND b.job_date = dateadd(month, 3, c.job_date)\n",
    "\"\n",
    "full_q_wages <- dbGetQuery(con, qry)\n",
    "\n",
    "head(full_q_wages)"
   ]
  },
  {
   "cell_type": "markdown",
   "metadata": {},
   "source": [
    "Let's check how many individuals experienced at least one quarter of stable employment, as well as the number of employers by which members of the cohort experienced stable employment and their average wages."
   ]
  },
  {
   "cell_type": "code",
   "execution_count": null,
   "metadata": {},
   "outputs": [],
   "source": [
    "# see number with at least one quarter of full quarter, number of unique employers, and what are their average wages\n",
    "full_q_stats <- full_q_wages %>%\n",
    "    summarize(\n",
    "        num_individuals = n_distinct(gradid),\n",
    "        num_employers = n_distinct(empr_no),\n",
    "        avg_wage = mean(wage)\n",
    "    )\n",
    "\n",
    "full_q_stats"
   ]
  },
  {
   "cell_type": "markdown",
   "metadata": {},
   "source": [
    "For reference, we can compare this to the number of individuals in the cohort that were employed in at least one quarter in Texas."
   ]
  },
  {
   "cell_type": "code",
   "execution_count": null,
   "metadata": {},
   "outputs": [],
   "source": [
    "# see number with at least one quarter, number of unique employers, and what are their average quarterly wages (per employer)\n",
    "wage_stats <- df_wages_undup %>%\n",
    "    summarize(\n",
    "        num_individuals = n_distinct(gradid),\n",
    "        num_employers = n_distinct(empr_no),\n",
    "        avg_wage = mean(wage)\n",
    "    )\n",
    "\n",
    "wage_stats"
   ]
  },
  {
   "cell_type": "markdown",
   "metadata": {},
   "source": [
    "Interestingly enough, it appears as though most members of the cohort that found any employment in Texas within this time frame experienced at least one quarter of stable employment. But is there a difference by gender? In our next subsection, we will try to answer this question."
   ]
  },
  {
   "cell_type": "markdown",
   "metadata": {},
   "source": [
    "#### By Gender\n",
    "\n",
    "At the end of the first data exploration notebook, after exploring the most common majors within the cohort, we also analyzed the gender breakdown of the cohort. Here, we will compare the overall gender breakdown to that of those who experienced at least one quarter of full-quarter employment.\n",
    "\n",
    "Recall the code from the first notebook in the code cell below:   "
   ]
  },
  {
   "cell_type": "code",
   "execution_count": null,
   "metadata": {},
   "outputs": [],
   "source": [
    "# gender breakdown\n",
    "df_gender <- df_cohort %>%\n",
    "    count(gradgen) %>%\n",
    "    arrange(desc(n)) \n",
    "\n",
    "# see df_gender\n",
    "df_gender"
   ]
  },
  {
   "cell_type": "markdown",
   "metadata": {},
   "source": [
    "Now we can apply this code concept to the `full_q_wages` data frame and calculate the number and proportion of individuals by gender experiencing at least one quarter of full quarter employment, as well as their average wages."
   ]
  },
  {
   "cell_type": "code",
   "execution_count": null,
   "metadata": {},
   "outputs": [],
   "source": [
    "# see number with at least one quarter of full quarter by gender, what are their average wages\n",
    "full_q_stats_gender <- full_q_wages %>%\n",
    "    group_by(gradgen) %>%\n",
    "    summarize(\n",
    "        num_individuals = n_distinct(gradid),\n",
    "        avg_wage = mean(wage)\n",
    "    ) %>%\n",
    "    inner_join(df_gender, by='gradgen') %>%\n",
    "    mutate(\n",
    "        prop = num_individuals/n\n",
    "    )\n",
    "\n",
    "full_q_stats_gender"
   ]
  },
  {
   "cell_type": "markdown",
   "metadata": {},
   "source": [
    "Let's do the same to that of individuals who were employed in at least one quarter in Texas."
   ]
  },
  {
   "cell_type": "code",
   "execution_count": null,
   "metadata": {},
   "outputs": [],
   "source": [
    "# see number with at least one quarter, number of unique employers, and what are their average quarterly wages (per employer)\n",
    "wage_stats_gender <- df_wages_undup %>%\n",
    "    group_by(gradgen) %>%\n",
    "    summarize(\n",
    "        num_individuals = n_distinct(gradid),\n",
    "        avg_wage = mean(wage)\n",
    "    ) %>%\n",
    "    inner_join(df_gender, by = 'gradgen') %>%\n",
    "    mutate(\n",
    "        prop = num_individuals/n\n",
    "    )\n",
    "\n",
    "wage_stats_gender"
   ]
  },
  {
   "cell_type": "markdown",
   "metadata": {},
   "source": [
    "We can see that roughly the same proportional differences exist across the two measures, and that there appears to be a major discrepancy in average wages across genders. What do you think are some potential reasons for this?"
   ]
  },
  {
   "cell_type": "markdown",
   "metadata": {},
   "source": [
    "<font color=orange> <h3> **Checkpoint 3: Stable Employment by Major** </h3> </font>\n",
    "\n",
    "Recreate the table above (besides `prop`) for the five most common majors. Do the results surprise you?"
   ]
  },
  {
   "cell_type": "code",
   "execution_count": null,
   "metadata": {},
   "outputs": [],
   "source": [
    "# replace ___\n",
    "full_q_wages %>%\n",
    "    group_by(____) %>%\n",
    "    summarize(\n",
    "        num_individuals = n_distinct(gradid),\n",
    "        avg_wage = mean(wages)\n",
    "    ) %>%\n",
    "    arrange(desc(num_individuals)) %>%\n",
    "    mutate(CIP_Program = substring(gradmaj, 1, 2)) %>%\n",
    "    inner_join(cip_lookup, by = c(\"CIP_Program\" = \"CIPCode2010\")) %>%\n",
    "    head(5)\n"
   ]
  },
  {
   "cell_type": "markdown",
   "metadata": {},
   "source": [
    "Uncomment the lines below to look at a hint or a solution."
   ]
  },
  {
   "cell_type": "code",
   "execution_count": null,
   "metadata": {},
   "outputs": [],
   "source": [
    "# checkpoint_3.hint()"
   ]
  },
  {
   "cell_type": "code",
   "execution_count": null,
   "metadata": {},
   "outputs": [],
   "source": [
    "# checkpoint_3.solution()"
   ]
  },
  {
   "cell_type": "markdown",
   "metadata": {},
   "source": [
    "### Employment Patterns\n",
    "\n",
    "Employment outcomes can be defined by more than just earnings. While we looked at stability, we can also look more comprehensively at employment patterns. How quickly do graduates find employment? How many spells of nonemplyment do graduates experience and for how long? These are important factors to consider as graduates enter and navigate the labor market, particularly as we consider differences across major and demographic groupings. \n",
    "\n",
    "At the end of this section, we hope to have found the most common employment patterns for everyone in the original cohort. To start, let's get a sense of the amount of individuals that are missing from the combination of `quarterly_wages`, which contain entries of quarterly earnings for individuals of our cohort employed in Texas."
   ]
  },
  {
   "cell_type": "code",
   "execution_count": null,
   "metadata": {},
   "outputs": [],
   "source": [
    "# see size of original cohort\n",
    "df_cohort %>%\n",
    "    summarize(\n",
    "        num_inds = n_distinct(gradid)\n",
    "    )"
   ]
  },
  {
   "cell_type": "code",
   "execution_count": null,
   "metadata": {},
   "outputs": [],
   "source": [
    "# see amount of people with employment outcomes in TX\n",
    "quarterly_wages %>%\n",
    "    summarize(n_distinct(gradid))"
   ]
  },
  {
   "cell_type": "markdown",
   "metadata": {},
   "source": [
    "Before we manipulate any existing data frames, let's confirm that if we join `quarterly_wages` to `df_cohort`, the number of individuals where `quarter_number` (or pick any other variable only in `quarterly_wages`) is equal to the difference in individuals between `df_cohort` and `quarterly_wages`."
   ]
  },
  {
   "cell_type": "code",
   "execution_count": null,
   "metadata": {},
   "outputs": [],
   "source": [
    "# see that everyone with na quarter is equal to amount who didn't show up in df_dom_wages\n",
    "df_cohort %>%\n",
    "    left_join(quarterly_wages, by = \"gradid\") %>%\n",
    "    filter(is.na(quarter_number)) %>%\n",
    "    summarize(n_distinct(gradid))"
   ]
  },
  {
   "cell_type": "markdown",
   "metadata": {},
   "source": [
    "Now that we have confirmed that our join should work as intended, we will join `quarterly_wages` to `df_cohort`. After doing so, we will set all instances where `quarter_number` is `NA` equal to 1, so that we will eventually be able to have 12 observations for each individual, one for each potential quarter of employment."
   ]
  },
  {
   "cell_type": "code",
   "execution_count": null,
   "metadata": {},
   "outputs": [],
   "source": [
    "# set all where quarter is na equal to one so we can use complete\n",
    "full_wages <- df_cohort %>%\n",
    "    left_join(quarterly_wages, by = \"gradid\") %>%\n",
    "    mutate(\n",
    "        quarter_number = ifelse(is.na(quarter_number), 1, quarter_number)\n",
    "    )\n",
    "\n",
    "# see potential quarter numbers\n",
    "full_wages %>%\n",
    "    distinct(quarter_number) %>%\n",
    "    arrange(quarter_number)"
   ]
  },
  {
   "cell_type": "markdown",
   "metadata": {},
   "source": [
    "Now that we have all potential `gradid` (SSN) values, as well as instances of all desired `quarter_number` values, we can leverage the tidyverse's `complete` function, which will add additional rows for any combinations of `gradid`/`quarter_number` that do not currently exist in `full_wages`. If the combination does not appear in `full_wages`, the resulting `total_wages` value will be `NA`, signifying the individual was not employed in this quarter. As verification, the number of rows should equal the number of individuals multiplied by 12."
   ]
  },
  {
   "cell_type": "code",
   "execution_count": null,
   "metadata": {},
   "outputs": [],
   "source": [
    "# complete file\n",
    "completed <- full_wages %>%\n",
    "    complete(gradid, quarter_number, fill=list(total_wages=NA))\n",
    "\n",
    "# see that n should be a multiple of n_dist\n",
    "completed %>%\n",
    "    summarize(\n",
    "        n = n(),\n",
    "        n_inds = n_distinct(gradid),\n",
    "        test = n_inds*12 == n\n",
    "    )"
   ]
  },
  {
   "cell_type": "code",
   "execution_count": null,
   "metadata": {},
   "outputs": [],
   "source": [
    "# see completed\n",
    "head(completed)"
   ]
  },
  {
   "cell_type": "markdown",
   "metadata": {},
   "source": [
    "Now that we have created `completed`, we just need to aggregate and manipulate the data frame so that each column is a quarter, and each observation is an individual, with the corresponding columns indicating whether the individual was employed in the given quarter. To start, let's create a variable `wage_ind`, which will be \"yes\" if the individual was employed in the quarter, and \"no\" otherwise. Additionally, for each in column manipulation, we will change each `quarter_number` value from 1, 2, 3,..., 12 to Q1, Q2, Q3,..., Q12 and call this variable `quarter`."
   ]
  },
  {
   "cell_type": "code",
   "execution_count": null,
   "metadata": {},
   "outputs": [],
   "source": [
    "# create wage_ind and quarter variables\n",
    "patterns <- completed %>%\n",
    "    mutate(\n",
    "        wage_ind = ifelse(is.na(total_wages), \"no\", \"yes\"),\n",
    "        quarter = paste(\"Q\", quarter_number, sep=\"\")\n",
    "    )\n",
    "\n",
    "head(patterns)"
   ]
  },
  {
   "cell_type": "markdown",
   "metadata": {},
   "source": [
    "Now, we need to figure out how to \"pivot\" the data frame so that each column is a value of `quarter`, with `wage_ind` values for the `gradid` values. To do so, we will use `pivot_wider`, which allows us to take a tidy data frame (one observation per row) and \"widen\" it so that each column becomes values from what was previously a single column (`quarter`) and the rows are occupied by those from a corresponding column (`wage_ind`). \n",
    "\n",
    "After manipulating the data frame, we can aggregate by the quarter columns and count the number of observations within each of these patterns to discover the most common employment patterns for the cohort."
   ]
  },
  {
   "cell_type": "code",
   "execution_count": null,
   "metadata": {},
   "outputs": [],
   "source": [
    "# find most common employment patterns\n",
    "patterns <- patterns %>%\n",
    "    select(gradid, quarter, wage_ind) %>%\n",
    "    pivot_wider(names_from = quarter, values_from = wage_ind) %>%\n",
    "    group_by(Q1, Q2, Q3, Q4, Q5, Q6, Q7, Q8, Q9, Q10, Q11, Q12) %>%\n",
    "    summarize(cnt = n_distinct(gradid)) %>%\n",
    "    arrange(desc(cnt)) %>%\n",
    "    ungroup() %>%\n",
    "    mutate(\n",
    "        prop = percent(cnt/sum(cnt), .01)\n",
    "    ) \n",
    "\n",
    "head(patterns)"
   ]
  },
  {
   "cell_type": "markdown",
   "metadata": {},
   "source": [
    "From this data frame, we can see that about half of the cohort received non-zero wages in Texas for all of their first 12 quarters after graduation. Additionally, we can assess some other employment patterns within the cohort to get a better sense of their diverging experiences."
   ]
  },
  {
   "cell_type": "markdown",
   "metadata": {},
   "source": [
    "## 8. Save as csvs\n",
    "Before we finish the notebook, let's save your work as .csv files so that they can be referenced in the Data Visualization notebook."
   ]
  },
  {
   "cell_type": "code",
   "execution_count": null,
   "metadata": {},
   "outputs": [],
   "source": [
    "# Save dataframes to CSV to use in later notebook\n",
    "\n",
    "# average quarterly earnings and number employed by quarter\n",
    "write_csv(avg_and_num, sprintf(\"U:\\\\%s\\\\TX Training\\\\Results\\\\avg_and_num.csv\", username))\n",
    "\n",
    "# average quarterly earnings and number employed by quarter (common majors)\n",
    "write_csv(avg_and_num_major, sprintf(\"U:\\\\%s\\\\TX Training\\\\Results\\\\avg_and_num_major.csv\", username))\n",
    "\n",
    "# full quarter info\n",
    "write_csv(full_q_stats, sprintf(\"U:\\\\%s\\\\TX Training\\\\Results\\\\full_q_stats.csv\", username))\n",
    "\n",
    "# full quarter info by gender\n",
    "write_csv(full_q_stats_gender, sprintf(\"U:\\\\%s\\\\TX Training\\\\Results\\\\full_q_stats_gender.csv\", username))\n",
    "\n",
    "# any quarter info\n",
    "write_csv(wage_stats, sprintf(\"U:\\\\%s\\\\TX Training\\\\Results\\\\wage_stats.csv\", username))\n",
    "\n",
    "# any quarter info by gender\n",
    "write_csv(wage_stats_gender, sprintf(\"U:\\\\%s\\\\TX Training\\\\Results\\\\wage_stats_gender.csv\", username))\n",
    "\n",
    "# patterns\n",
    "write_csv(patterns, sprintf(\"U:\\\\%s\\\\TX Training\\\\Results\\\\patterns.csv\", username))"
   ]
  },
  {
   "cell_type": "markdown",
   "metadata": {},
   "source": [
    "## References\n",
    "\n",
    "Currie, David, Edelmann, Joshua, Feder, Benjamin, & Barrett, Nathan. (2022, April 1). Data Exploration and Linkage using Tennessee Unemployment Insurance Data. Zenodo. https://doi.org/10.5281/zenodo.6407258\n",
    "\n",
    "Carnevale, A. \"Postsecondary Education and Training As We Know It is Not Enough: Why We Need to Leaven Postsecondary Strategy with More Attention to Employment Policy, Social Policy, and Career and Technical Education in High School.\" Paper prepared for the Georgetown University and Urban Institute Conference on Reducing Poverty and Economic Distress after ARRA. (2010).\n",
    "\n",
    "King, C., Tang, Y., Smith, T., Schroeder, D., Barnow, B., \"Returns from Investments in Workforce Services:Estimations for Participants, Taxpayers, and Society\", Ray Marshall Center, LBJ School of Public Affairs, University of Texas at Austin, (2008).\n",
    "\n",
    "Murdock, S., White, S., Hoque, N., Pecotte, B., You, X., and Balkan, J., \"The New Texas Challenge: Population Change and the Future of Texas,\" College Station: Texas A&M University Press, (2003).\n",
    "\n",
    "Roska, J., and Levey, T., \"What Can You Do with That Degree: College Major and Occupational Status of College Graduates over Time,\" Social Forces 89.2 (2010): 389-416\n",
    "\n",
    "Shudde, L., Bernell, K., \"Educational Attainment and Nonwage Labor Market Returns in the United States,\" AERA Open 5.3 (2019): 1-18.\n",
    "\n",
    "\n"
   ]
  },
  {
   "cell_type": "markdown",
   "metadata": {},
   "source": [
    "## Appendix"
   ]
  },
  {
   "cell_type": "markdown",
   "metadata": {},
   "source": [
    "### Dominant Earnings\n",
    "\n",
    "Another potential earnings outcome to measure is dominant earnings, which only includes the record of the highest earnings per quarter for each individual. We will first arrange employment for each individual/quarter combination by descending wages before taking the highest earnings per `gradid`-`quarter_number` combination. We will save this resulting data frame as `df_dom_wages`."
   ]
  },
  {
   "cell_type": "code",
   "execution_count": null,
   "metadata": {},
   "outputs": [],
   "source": [
    "# identify dominant wages in each quarter\n",
    "df_dom_wages <- df_wages_undup %>%\n",
    "    arrange(gradid, quarter_number, desc(wage)) %>%\n",
    "    distinct(gradid, quarter_number, .keep_all=TRUE)\n",
    "\n",
    "head(df_dom_wages)"
   ]
  },
  {
   "cell_type": "code",
   "execution_count": null,
   "metadata": {},
   "outputs": [],
   "source": [
    "# confirm we have one entry for each gradid/quarter_number combination\n",
    "df_dom_wages %>%\n",
    "    count(gradid, quarter_number) %>%\n",
    "    arrange(desc(n)) %>%\n",
    "    head()"
   ]
  },
  {
   "cell_type": "markdown",
   "metadata": {},
   "source": [
    "Now that we have isolated dominant earnings in `df_dom_wages`, we can recycle the same code that we applied to `df_wages_undup`."
   ]
  },
  {
   "cell_type": "code",
   "execution_count": null,
   "metadata": {},
   "outputs": [],
   "source": [
    "# average dominant wages and number of grads with wages by quarter after graduation\n",
    "avg_and_num_dom <- df_dom_wages %>%\n",
    "    group_by(quarter_number) %>%\n",
    "    summarize(\n",
    "        mean_wage = mean(wage),\n",
    "        n_employed = n_distinct(gradid)\n",
    "    )\n",
    "\n",
    "avg_and_num_dom"
   ]
  }
 ],
 "metadata": {
  "kernelspec": {
   "display_name": "R",
   "language": "R",
   "name": "ir"
  },
  "language_info": {
   "codemirror_mode": "r",
   "file_extension": ".r",
   "mimetype": "text/x-r-source",
   "name": "R",
   "pygments_lexer": "r",
   "version": "3.6.3"
  },
  "toc-autonumbering": false,
  "toc-showtags": false
 },
 "nbformat": 4,
 "nbformat_minor": 4
}
