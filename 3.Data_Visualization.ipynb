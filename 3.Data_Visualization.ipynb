{
 "cells": [
  {
   "cell_type": "markdown",
   "metadata": {},
   "source": [
    "<center> <img style=\"float: center;\" src=\"images/CI_horizontal.png\" width=\"450\">\n",
    "<center>\n",
    "    <span style=\"font-size: 1.5em;\">\n",
    "        <a href='https://www.coleridgeinitiative.org'>Website</a>\n",
    "    </span> \n",
    "    <br>\n",
    "   Will Swinton-Ginsberg, Josh Edelmann, Benjamin Feder, Nathan Barrett  </center>"
   ]
  },
  {
   "cell_type": "markdown",
   "metadata": {},
   "source": [
    "# **Data Visualization**"
   ]
  },
  {
   "cell_type": "markdown",
   "metadata": {},
   "source": [
    "## **1. Introduction**\n",
    "In the two data exploration notebooks, we formed an analytical cohort of graduates and began to explore the cohort's characteristics and various employment outcomes. Sometimes, it is hard to see trends and to communicate with your audience by only looking at summary statistics. In this notebook, we will import the csv files we saved in the previous two notebooks and learn how to turn them into informative visualizations. We will also discuss visualization options for different types of analyses and how to use labels and plot adjustments to better present your results. Similar to the first two notebooks, as you work through the notebook, we will have checkpoints for you to practice using the code."
   ]
  },
  {
   "cell_type": "markdown",
   "metadata": {},
   "source": [
    "To make your life easier, please insert your ADRF username to replace the ____ inside the quotations in the following cell."
   ]
  },
  {
   "cell_type": "code",
   "execution_count": null,
   "metadata": {},
   "outputs": [],
   "source": [
    "# insert ADRF username Firstname.Lastname.UserID\n",
    "username <- \"____\""
   ]
  },
  {
   "cell_type": "markdown",
   "metadata": {},
   "source": [
    "You can access hints and solutions to the checkpoints by running the code cell below."
   ]
  },
  {
   "cell_type": "code",
   "execution_count": null,
   "metadata": {},
   "outputs": [],
   "source": [
    "# Import the file with hints and solutions\n",
    "source(\"nb3_hints_and_solutions.txt\")"
   ]
  },
  {
   "cell_type": "markdown",
   "metadata": {},
   "source": [
    "## **2. Learning Objectives**\n",
    "\n",
    "Recall the guiding research questions we will use for this series of notebooks are quite general: \n",
    "\n",
    ">**What are the employment outcomes of the 2015 bachelor's degree recipients? How do these outcomes vary by cohort characteristics?**\n",
    "\n",
    "After you finish this notebook, you should know:\n",
    "\n",
    "- how to use the R package `ggplot2` to create line plots, bar charts, and heatmaps, sometimes creating side-by-side visuals broken down by subgroup\n",
    "- how to choose visualization types for your analyses\n",
    "- how to improve your visualizations with informative titles, labels, and plot settings"
   ]
  },
  {
   "cell_type": "markdown",
   "metadata": {},
   "source": [
    "### **Research Questions** \n",
    "We will create various visualizations by using the summary statistics we created in the two data exploration notebooks. The questions we seek to answer are:"
   ]
  },
  {
   "cell_type": "markdown",
   "metadata": {},
   "source": [
    "- What are the average quarterly earnings and number of individuals employed by quarter in our cohort? Do they vary by major?\n",
    "- What were the most common major types within the cohort? Do they vary by gender?\n",
    "- What are the stable employment outcomes of our cohort? Do they vary by gender?\n",
    "- What are the most common employment patterns of our cohort?"
   ]
  },
  {
   "cell_type": "markdown",
   "metadata": {},
   "source": [
    "### **Datasets** \n",
    "\n",
    "We will explore data provided by the Texas Workforce Commission and Texas Higher Education Coordinating Board using csv files created in previous notebook:\n",
    "- **Quarterly Wages**: The `wage_record` table is provided by the TWC and taken from Unemployment Insurance wage data. The data include individual quarterly earnings.\n",
    "- **College Graduates**: The graduates table is provided by the THECB. The data include graduations at all Texas colleges and universities and covers the time period of January 2011 through December 2020."
   ]
  },
  {
   "cell_type": "markdown",
   "metadata": {},
   "source": [
    "### **Methods**\n",
    "We will cover the following visualizations in this notebook:\n",
    "- **Line Plot**: is typically used for time series data to show how a variable changes over time\n",
    "- **Bar Plot**: visualizes relationships between numerical and categorical variables\n",
    "- **Small multiples**: compares information by different groups using a series of mini-graphs\n",
    "- **Heat Map**: adds highlights to subgroups with color-coding"
   ]
  },
  {
   "cell_type": "markdown",
   "metadata": {},
   "source": [
    "We use R package `gglot2` to create all visualizations. Here is a brief introduction of **the syntax of `ggplot2`**:\n",
    "\n",
    "- start with `ggplot()` <br>\n",
    "- then, supply a dataset and aesthetic mapping with `x` pertaining to the variable on the x-axis, and so on, for example: `ggplot(dataset, aes(x = ..., y = ...)` <br>\n",
    "- from there, provide a geometric object represented by `geom_` to convey the desired type of visualization <br>\n",
    "- finally, add additional layers if necessary using `+` <br>"
   ]
  },
  {
   "cell_type": "markdown",
   "metadata": {},
   "source": [
    "For example, we can use the code blow to create a line plot (geometric object).\n",
    "\n",
    "    ggplot(data, aes(x = ... , y = ...) + \n",
    "        geom_line()\n",
    "   \n",
    "We can add an additional layer `labs()` to create a line plot with a title.\n",
    "\n",
    "    ggplot(data, aes(x = ... , y = ...) + \n",
    "        geom_histogram() + \n",
    "        labs(title = 'My plot title')\n",
    "        \n",
    "The `aes()` call can contain additional arguments outside of `x` and `y` to potentially match the `fill`, `color`, `linetype`, and additional specifications of specific variables in a dataset."
   ]
  },
  {
   "cell_type": "markdown",
   "metadata": {},
   "source": [
    "## 3. Notebook Setup"
   ]
  },
  {
   "cell_type": "markdown",
   "metadata": {},
   "source": [
    "Before we can get started, let's load in the necessary R libraries and connect to the proper server."
   ]
  },
  {
   "cell_type": "code",
   "execution_count": null,
   "metadata": {},
   "outputs": [],
   "source": [
    "# Database interaction imports\n",
    "library(odbc, warn.conflicts=F, quietly=T)\n",
    "\n",
    "# For data manipulation/visualization\n",
    "library(tidyverse, warn.conflicts=F, quietly=T)\n",
    "\n",
    "# For faster date conversions\n",
    "library(lubridate, warn.conflicts=F, quietly=T)\n",
    "\n",
    "# Use percent() function\n",
    "library(scales, warn.conflicts=F, quietly=T)"
   ]
  },
  {
   "cell_type": "code",
   "execution_count": null,
   "metadata": {},
   "outputs": [],
   "source": [
    "# Connect to the server\n",
    "con <- DBI::dbConnect(odbc::odbc(),\n",
    "                     Driver = \"SQL Server\",\n",
    "                     Server = \"msssql01.c7bdq4o2yhxo.us-gov-west-1.rds.amazonaws.com\",\n",
    "                     Trusted_Connection = \"True\")"
   ]
  },
  {
   "cell_type": "markdown",
   "metadata": {},
   "source": [
    "Now that we have established a connection to our server, let's read in the csv files containing the information to answer the first Research Question, \n",
    "**What are the employment outcomes of the 2015 college graduates? How do these outcomes vary by cohort characteristics?**\n"
   ]
  },
  {
   "cell_type": "markdown",
   "metadata": {},
   "source": [
    "## 4. Average quarterly earnings and number employed by quarter (lineplot)"
   ]
  },
  {
   "cell_type": "markdown",
   "metadata": {},
   "source": [
    "Recall the following csv files saved from the previous notebook:\n",
    "- **`avg_and_num.csv`**: average quarterly earnings and number employed by quarter\n",
    "- **`avg_and_num_major.csv`**: average quarterly earnings and number employed by quarter for most common majors\n",
    "\n",
    "Let's read these into R to help address this first question."
   ]
  },
  {
   "cell_type": "code",
   "execution_count": null,
   "metadata": {},
   "outputs": [],
   "source": [
    "# average quarterly earnings and number employed by quarter\n",
    "avg_and_num <- read_csv(sprintf(\"U:\\\\%s\\\\TX Training\\\\Results\\\\avg_and_num.csv\", username))\n",
    "\n",
    "# average quarterly earnings and number employed by quarter (common majors)\n",
    "avg_and_num_major <- read_csv(sprintf(\"U:\\\\%s\\\\TX Training\\\\Results\\\\avg_and_num_major.csv\", username))"
   ]
  },
  {
   "cell_type": "markdown",
   "metadata": {},
   "source": [
    "Previously, by looking at the counts in data frame `avg_and_num`, we identified that after 4 quarters post-graduation, the number of individuals employed in Texas in our cohort begins to decline steadily until 10 quarters after graduation. However, when presenting results, a list of numbers may not be an effective way for the audience to understand and absorb the information. In this example, we will focus on the time trend of the number of individuals employed per quarter, using a line plot with quarter after graduation as the x-axis and number of individuals employed as the y-axis."
   ]
  },
  {
   "cell_type": "code",
   "execution_count": null,
   "metadata": {},
   "outputs": [],
   "source": [
    "# see avg_and_num\n",
    "avg_and_num"
   ]
  },
  {
   "cell_type": "code",
   "execution_count": null,
   "metadata": {},
   "outputs": [],
   "source": [
    "#Example ggplot2 syntax to make a simple visualization of trends in number of people employed\n",
    "\n",
    "#Specify source dataset and x and y variables\n",
    "ggplot(avg_and_num, aes(x = quarter_number, y = n_employed)) + \n",
    "\n",
    "#Plots a line on the graph\n",
    "geom_line()"
   ]
  },
  {
   "cell_type": "markdown",
   "metadata": {},
   "source": [
    "When we looked at the data into the table we witnessed a similar trend as in the visualization, but with the graph, we can see the magnitude of the decline. We can clearly identify the trends of the employment through the 12-quarter cutoff point with this basic visualization. "
   ]
  },
  {
   "cell_type": "markdown",
   "metadata": {},
   "source": [
    "Although we can see the trends from the above graph quickly and clearly, there are several aspects we need to improve so that the graph provides the audience some context and delivers information more clearly.\n",
    "\n",
    "1. **Graph Title**: The title of the visualization should convey the major takeaway(s) of the plot and should answer the original question. In this case, depending on the information you want to address, you may have different titles. For example, if you want to describe the increase in the number of graduates employed in Texas after 1 quarter after graduation, the title could be \"Employment of TX graduates climbs after the first quarter after graduation.\" However, the title could also be \"Employment of TX graduates decreases following the 4th quarter after graduation\".\n",
    "2. **X-axis and Y-axis Labels**: The labels in our current graph are variable names. We need to change them to short and easy-to-understand descriptions, such as \"quarter after graduation\" and \"number employed\".\n",
    "3. **Data Source**: Providing clear reference and source of the underlying data used for the visualization can increase the credibility and enable the reproducibility of your results. The reference can be the data agency or the name of the dataset. In this analysis, we used data from both TWC and THECB. "
   ]
  },
  {
   "cell_type": "markdown",
   "metadata": {},
   "source": [
    "> We can add a `labs()` layer to the visualization to change the title, axes' names, and caption of the plot. We simply use `+` to add this layer to the code we showed earlier. \n",
    "\n",
    "        labs(\n",
    "            title = \"YOUR TITLE\",\n",
    "            x = \"X-AXIS LABEL\",\n",
    "            y = \"Y-AXIS LABEL\",\n",
    "            caption = \"DATA SOURCE OR NOTES\"\n",
    "            )"
   ]
  },
  {
   "cell_type": "markdown",
   "metadata": {},
   "source": [
    "4. **X-axis and Y-axis Tick Mark**: On our current graph, x-axis only shows quarters on a 2.5 month interval. It is hard for the audience to see key time points, such as when the number of individuals employed in TX was the highest. Therefore, we want to adjust the x-axis tick so that it shows the time points more frequently. In this case, we use `scale_x_continuous()` and `scale_y_continuous()` to specify a continuous data type and to adjust tick marks and axis extent. In both cases, `breaks=` statement controls the minimum and maximum values of the axis labels as well as the tick mark intervals between them."
   ]
  },
  {
   "cell_type": "markdown",
   "metadata": {},
   "source": [
    "5. **Key Time Points**: In this analysis, labelling key timepoints, such as when the cohort had its fewest number of individuals employed in TX, helps the audience understand the context. However, it is not necessary to add key timepoints to every graph. We can add vertical lines to the graph to represent significant events using the `geom_vline()` statement and control labels for these lines using the `annotate()` statement. Within `geom_vline()` we must specify where to place the line using the `xintercept=` command. In our case, we assign the quarter of highest employment to a variable and then pass this variable to `xintercept=`. When we use the `annotate()` statement, we must specify the location of the labels using the `x=` and `y=` statements. Keep in mind you will likely need to adjust these based on specific details of your graph. In the example below, we use a height of REDACTED, which places the label right above the peak."
   ]
  },
  {
   "cell_type": "code",
   "execution_count": null,
   "metadata": {},
   "outputs": [],
   "source": [
    "# Code adjusting overall graph attributes\n",
    "\n",
    "# For easier reading, increase base font size\n",
    "theme_set(theme_gray(base_size = 16))\n",
    "# Adjust repr.plot.width and repr.plot.height to change the size of graphs\n",
    "options(repr.plot.width = 12, repr.plot.height = 8)"
   ]
  },
  {
   "cell_type": "code",
   "execution_count": null,
   "metadata": {},
   "outputs": [],
   "source": [
    "# First, assigning the overall high quarter to a variable.\n",
    "# We will use this to plot a vertical line on the graph representing this quarter\n",
    "\n",
    "# Overall high point\n",
    "high_overall <- 4"
   ]
  },
  {
   "cell_type": "code",
   "execution_count": null,
   "metadata": {},
   "outputs": [],
   "source": [
    "#Example ggplot2 syntax to make a simple visualization of trends in number of people employed\n",
    "\n",
    "#Specify source dataset and x and y variables\n",
    "num_employed_plot <- ggplot(avg_and_num, aes(x = quarter_number, y = n_employed)) + \n",
    "\n",
    "#Plots a line on the graph\n",
    "geom_line() +\n",
    "\n",
    "# Add a blue vertical dashed line at the peak for number of individuals employed in TX\n",
    "# with a label at the top explaining what it is\n",
    "geom_vline(xintercept = high_overall,\n",
    "    color = \"blue\", linetype = \"dashed\") +\n",
    "annotate(\"text\", x = high_overall, y = REDACTED, color = \"blue\",\n",
    "    hjust = -0.1, label = \"Peak\") +\n",
    "\n",
    "# Adjust the y scale to assign start and end points as well\n",
    "# as the interval for tick marks\n",
    "scale_y_continuous(\n",
    "    labels = scales::comma,\n",
    "    breaks = seq(68500, 72500, 1000),\n",
    "    limits = c(68500, 72500)) + \n",
    "\n",
    "# Adjust the x scale to assign start and end points as well\n",
    "# as the interval for tick marks\n",
    "scale_x_continuous(\n",
    "    breaks = seq(1, 12, 1),\n",
    "    limits = c(1,12)) + \n",
    "\n",
    "#Add a title, labels for the x and y axes, and data source\n",
    "labs(title = \"Employment of TX graduates declines After the REDACTED Quarter After Graduation\",\n",
    "    x = \"Quarter after Graduation\", y = \"Number Employed\",\n",
    "    caption = \"Data Sources: TWC, THECB\") +\n",
    "\n",
    "# shift labels over slightly to clean up appearance\n",
    "theme(axis.text.x = element_text(vjust=.5))\n",
    "\n",
    "#Display the graph that we just created\n",
    "print(num_employed_plot)"
   ]
  },
  {
   "cell_type": "markdown",
   "metadata": {},
   "source": [
    "<font color=orange> <h3> **Checkpoint 1: Create a Line Plot** </h3> </font>\n",
    "\n",
    "Create a line plot to show the trend of average quarterly wages for the cohort in `avg_and_num`. Remember that your plot should include an informative title, axes' labels, data source, and key timepoints. Adjust axes' tick marks and graph sizes to make it easy to read.  \n",
    "\n",
    "Comment on the trend of average quarterly wages. During which quarter did the average quarterly wages peak?"
   ]
  },
  {
   "cell_type": "code",
   "execution_count": null,
   "metadata": {},
   "outputs": [],
   "source": [
    "#Example ggplot2 syntax to make a simple visualization of trends in average quarterly wages\n",
    "\n",
    "#Specify source dataset and x and y variables\n",
    "ggplot(___, aes(x = ___, y = ___)) + \n",
    "\n",
    "#Plots a line on the graph\n",
    "geom_line()"
   ]
  },
  {
   "cell_type": "markdown",
   "metadata": {},
   "source": [
    "Remove the `#` symbol in the checkpoint hints and solutions cells throughout the notebook to get hints and solutions. "
   ]
  },
  {
   "cell_type": "code",
   "execution_count": null,
   "metadata": {},
   "outputs": [],
   "source": [
    "# checkpoint_1.hint()"
   ]
  },
  {
   "cell_type": "code",
   "execution_count": null,
   "metadata": {},
   "outputs": [],
   "source": [
    "# checkpoint_1.solution()"
   ]
  },
  {
   "cell_type": "code",
   "execution_count": null,
   "metadata": {},
   "outputs": [],
   "source": [
    "# We will use this to plot a vertical line on the graph representing this quarter\n",
    "\n",
    "# Overall highest point\n",
    "high_overall <- __"
   ]
  },
  {
   "cell_type": "code",
   "execution_count": null,
   "metadata": {},
   "outputs": [],
   "source": [
    "# checkpoint_1_part2.hint()"
   ]
  },
  {
   "cell_type": "code",
   "execution_count": null,
   "metadata": {},
   "outputs": [],
   "source": [
    "# checkpoint_1_part2.solution()"
   ]
  },
  {
   "cell_type": "code",
   "execution_count": null,
   "metadata": {},
   "outputs": [],
   "source": [
    "#Example ggplot2 syntax to make a simple visualization of trends in quarterly earnings\n",
    "\n",
    "#Specify source dataset and x and y variables\n",
    "avg_wages_plot <- ggplot(___, aes(x = ___, y = ___)) + \n",
    "\n",
    "#Plots a line on the graph\n",
    "geom_line() +\n",
    "\n",
    "# Add a blue vertical dashed line at the trough for quarterly earnings of the cohort in TX\n",
    "# with a label at the top explaining what it is\n",
    "geom_vline(xintercept = ___,\n",
    "    color = \"blue\", linetype = \"dashed\") +\n",
    "annotate(\"text\", x = ___, y = ___, color = \"blue\",\n",
    "    hjust = -0.1, label = \"Trough\") +\n",
    "\n",
    "# Adjust the y scale to assign start and end points as well\n",
    "# as the interval for tick marks\n",
    "scale_y_continuous(\n",
    "    labels = scales::comma,\n",
    "    breaks = seq(___, ___, ___),\n",
    "    limits = c(___, ___)) + \n",
    "\n",
    "# Adjust the x scale to assign start and end points as well\n",
    "# as the interval for tick marks\n",
    "scale_x_continuous(\n",
    "    breaks = seq(1, 12, 1),\n",
    "    limits = c(1,12)) + \n",
    "\n",
    "#Add a title, labels for the x and y axes, and data source\n",
    "labs(title = \"___\",\n",
    "    x = \"___\", y = \"___\",\n",
    "    caption = \"___\") +\n",
    "\n",
    "# shift labels over slightly to clean up appearance\n",
    "theme(axis.text.x = element_text(vjust=.5))\n",
    "\n",
    "#Display the graph that we just created\n",
    "print(avg_wages_plot)"
   ]
  },
  {
   "cell_type": "code",
   "execution_count": null,
   "metadata": {},
   "outputs": [],
   "source": [
    "# checkpoint_1_part3.hint()"
   ]
  },
  {
   "cell_type": "code",
   "execution_count": null,
   "metadata": {},
   "outputs": [],
   "source": [
    "# checkpoint_1_part3.solution()"
   ]
  },
  {
   "cell_type": "markdown",
   "metadata": {},
   "source": [
    "### By Major (Line Plot, Multiple Lines)"
   ]
  },
  {
   "cell_type": "markdown",
   "metadata": {},
   "source": [
    "In Data Exploration: Wages, we then continued the analysis by looking at these trends within the five most common degree fields. By adding to the `aes()` call, we can visualize the differences amongst subgroups using separate lines. \n",
    "\n",
    "In the following example, we will visualize the trends in average quarterly wages by quarter for the five most common majors in the cohort. Recall that we already have the wages relative to the quarter after graduation for all graduates in our cohort amongst these five most common majors in the `avg_and_num_major` data frame."
   ]
  },
  {
   "cell_type": "code",
   "execution_count": null,
   "metadata": {},
   "outputs": [],
   "source": [
    "# see avg_and_num_major\n",
    "head(avg_and_num_major)"
   ]
  },
  {
   "cell_type": "markdown",
   "metadata": {},
   "source": [
    "Let's create our visualization. Here, we will add in a `color` aesthetic to designate the differences in majors, as the color of the line will correspond to the specific major. \n",
    "\n",
    "> You can manually insert colors using `scale_color_manual()` or `scale_colour_brewer()`. Before exporting, we recommend that you choose contrasting colors that satisfy ADA requirements. Examples can be found on ColorBrewer."
   ]
  },
  {
   "cell_type": "code",
   "execution_count": null,
   "metadata": {},
   "outputs": [],
   "source": [
    "#Example ggplot2 syntax to make a simple visualization of trends in quarterly wages by major\n",
    "\n",
    "#Specify source dataset and x, y, and color variables\n",
    "# only take first word in title because it makes graph harder to read\n",
    "# you can also use all words but make the legend font smaller\n",
    "avg_wages_major_plot <- ggplot(avg_and_num_major, aes(x = quarter_number, y = mean_wage, color = word(CIPTitle2010, 1))) + \n",
    "\n",
    "#Plots a line on the graph\n",
    "geom_line(size=1) +\n",
    "\n",
    "# Adjust the y scale to assign start and end points as well\n",
    "# as the interval for tick marks\n",
    "scale_y_continuous(\n",
    "    labels = scales::comma,\n",
    "    breaks = seq(4000, 20000, 2000),\n",
    "    limits = c(4000,20000)) + \n",
    "\n",
    "# Adjust the x scale to assign start and end points as well\n",
    "# as the interval for tick marks\n",
    "scale_x_continuous(\n",
    "    breaks = seq(1, 12, 1),\n",
    "    limits = c(1,12)) + \n",
    "\n",
    "#Use the scale_colour_brewer function to use colors that are \n",
    "#easier to distinguish for those who are color blind\n",
    "scale_colour_brewer(\n",
    "  type = \"qual\",\n",
    "  palette = 1,\n",
    "  direction = 1,\n",
    "  aesthetics = \"colour\"\n",
    ") +\n",
    "\n",
    "#Add a title, labels for the x and y axes, color legend, and data source\n",
    "labs(title = \"TX Graduates majoring in REDACTED experienced REDACTED earnings after graduation\",\n",
    "    x = \"Quarter after Graduation\", y = \"Average Quarterly Wages\",\n",
    "    caption = \"Data Sources: TWC & THECB\",\n",
    "    color = \"Major\") +\n",
    "\n",
    "# shift labels over slightly to clean up appearance\n",
    "theme(axis.text.x = element_text(vjust=.5)) \n",
    "\n",
    "#Display the graph that we just created\n",
    "print(avg_wages_major_plot)"
   ]
  },
  {
   "cell_type": "markdown",
   "metadata": {},
   "source": [
    "<font color=orange> <h3> **Checkpoint 2: Number Employed by Major** </h3> </font>\n",
    "\n",
    "Using the `avg_and_num_major` data frame, create a line plot by major to show the trend of number of individuals employed in Texas by major. Remember that at a minimum, your plot should include an informative title, axes labels, and a data source. Adjust axes tick marks and graph sizes to make it easy to read.  \n",
    "\n",
    "Comment on the trend of the number of individuals employed by the majors over time. Do they follow similar trends relative to their quarterly earnings?"
   ]
  },
  {
   "cell_type": "code",
   "execution_count": null,
   "metadata": {},
   "outputs": [],
   "source": [
    "#Example ggplot2 syntax to make a simple visualization of trends in employment by major\n",
    "\n",
    "#Specify source dataset and x, y, and color variables\n",
    "# only take first word in title because it makes graph harder to read\n",
    "# you can also use all words but make the legend font smaller\n",
    "n_employed_major_plot <- ggplot(avg_and_num_major, aes(x = quarter_number, y = ___, color = word(CIPTitle2010, 1))) + \n",
    "\n",
    "#Plots a line on the graph\n",
    "geom_line(size=1) +\n",
    "\n",
    "# Adjust the y scale to assign start and end points as well\n",
    "# as the interval for tick marks\n",
    "scale_y_continuous(\n",
    "    labels = scales::comma,\n",
    "    breaks = seq(___, ___, ___),\n",
    "    limits = c(___,___)) + \n",
    "\n",
    "# Adjust the x scale to assign start and end points as well\n",
    "# as the interval for tick marks\n",
    "scale_x_continuous(\n",
    "    breaks = seq(1, 12, 1),\n",
    "    limits = c(1,12)) + \n",
    "\n",
    "#Use the scale_colour_brewer function to use colors that are \n",
    "#easier to distinguish for those who are color blind\n",
    "scale_colour_brewer(\n",
    "  type = \"qual\",\n",
    "  palette = 1,\n",
    "  direction = 1,\n",
    "  aesthetics = \"colour\"\n",
    ") +\n",
    "\n",
    "#Add a title, labels for the x and y axes, color legend, and data source\n",
    "labs(title = ___,\n",
    "    x = ___, y = ___,\n",
    "    caption = ___,\n",
    "    color = ___) +\n",
    "\n",
    "# shift labels over slightly to clean up appearance\n",
    "theme(axis.text.x = element_text(vjust=.5)) \n",
    "\n",
    "#Display the graph that we just created\n",
    "print(n_employed_major_plot)"
   ]
  },
  {
   "cell_type": "code",
   "execution_count": null,
   "metadata": {},
   "outputs": [],
   "source": [
    "# checkpoint_2.hint()"
   ]
  },
  {
   "cell_type": "code",
   "execution_count": null,
   "metadata": {},
   "outputs": [],
   "source": [
    "# checkpoint_2.solution()"
   ]
  },
  {
   "cell_type": "markdown",
   "metadata": {},
   "source": [
    "### Earnings and Number Employed Together (Line Plot, Small Multiples)\n",
    "\n",
    "Perhaps if we wanted to discuss the relationship between average quarterly wages and number of individuals employed in Texas (or lack thereof), we might consider creating a visualization with multiple y-axes to designate the difference between the two variables. Since the two variables are on entirely different scales, as `scale_y_continuous()` values did not overlap in the the visualizations, it may not be advisable to do so. \n",
    "\n",
    "However, it is possible to leverage a small multiples visualization, where we use a combination of mini-graphs to visualize the relationship of these two variables, relative to the quarter after graduation using `ggplot2`. This will require some data manipulation, as `facet_grid()` and `facet_wrap()` work by displaying subgroups within specific variables. Therefore, we will need to create a new variable, with its subgroups corresponding to either `mean_wage` or `n_employed` for each `quarter_number` value, to use this method.\n",
    "\n",
    "To do so, we can use `pivot_longer`, where we will take all of the column names except `quarter_number`, and have them become subgroups within one overarching column, while tracking the values for these columns in a separate variable."
   ]
  },
  {
   "cell_type": "code",
   "execution_count": null,
   "metadata": {},
   "outputs": [],
   "source": [
    "# adjust data frame so variables on y axis are in the same column \"variable\"\n",
    "# -c(quarter_number) is used so that pivot_longer ignores the column instead of including it as a subgroup in variable\n",
    "avg_and_num_long <- avg_and_num %>%\n",
    "    pivot_longer(names_to = \"variable\", values_to = \"value\", -c(quarter_number))\n",
    "\n",
    "head(avg_and_num_long)"
   ]
  },
  {
   "cell_type": "markdown",
   "metadata": {},
   "source": [
    "Now that the data frame is suitable for displaying small grids, we can include the `facet_grid()` call inside of our plot to stack the two graphs on top of each other. With this plot, keep in mind that the scale changes between the two panels."
   ]
  },
  {
   "cell_type": "code",
   "execution_count": null,
   "metadata": {},
   "outputs": [],
   "source": [
    "#Example ggplot2 syntax to make a simple visualization of trends in quarterly wages and number of people employed \n",
    "\n",
    "#Specify source dataset and x and y variables\n",
    "both_vars_plot <- ggplot(data = avg_and_num_long, mapping = aes(x = quarter_number, y = value, color = variable, 1)) +\n",
    "\n",
    "#Plots a line on the graph\n",
    "geom_line(size=1) +\n",
    "\n",
    "# creates separate panels for the subgroups in variable\n",
    "# scale is set so that the y-axis can have differing scales\n",
    "facet_grid(variable~., scale = \"free_y\") +\n",
    "\n",
    "# Adjust the x scale to assign start and end points as well\n",
    "# as the interval for tick marks\n",
    "scale_x_continuous(\n",
    "    breaks = seq(1, 12, 1),\n",
    "    limits = c(1,12)) + \n",
    "\n",
    "#Add a title, labels for the x and y axes and data source\n",
    "labs(title = \"TX Graduates Experience Different Trends in Earnings and Number Employed Relative to \\nQuarters after Graduation\",\n",
    "    x = \"Quarter after Graduation\", y = \"Value\",\n",
    "    caption = \"Data Source: TWC and THECB Data\") +\n",
    "\n",
    "#Use the scale_colour_brewer function to use colors that are \n",
    "#easier to distinguish for those who are color blind\n",
    "scale_colour_brewer(\n",
    "  type = \"qual\",\n",
    "  palette = 1,\n",
    "  direction = 1,\n",
    "  aesthetics = \"colour\"\n",
    ") +\n",
    "\n",
    "# shift labels over slightly to clean up appearance\n",
    "theme(axis.text.x = element_text(vjust=.5)) \n",
    "\n",
    "#Display the graph that we just created\n",
    "print(both_vars_plot)"
   ]
  },
  {
   "cell_type": "markdown",
   "metadata": {},
   "source": [
    "## 5. Most Common Majors (Bar plot)"
   ]
  },
  {
   "cell_type": "markdown",
   "metadata": {},
   "source": [
    "In the previous visualizations, we graphed the earnings outcomes broken down by the five most common degree fields. Let's take a deeper look into the most common majors in the cohort, first on their own before segmenting by gender.\n",
    "\n",
    "Recall that we saved the following files:\n",
    "- **`common_major.csv`**: 5 most common majors\n",
    "- **`common_major_gender.csv`** 5 most common majors by gender"
   ]
  },
  {
   "cell_type": "code",
   "execution_count": null,
   "metadata": {},
   "outputs": [],
   "source": [
    "# most common majors\n",
    "common_major <- read_csv(sprintf(\"U:\\\\%s\\\\TX Training\\\\Results\\\\common_major.csv\", username))\n",
    "\n",
    "# most common majors by gender\n",
    "common_major_gender <- read_csv(sprintf(\"U:\\\\%s\\\\TX Training\\\\Results\\\\common_major_gender.csv\", username))\n",
    "\n",
    "# see common_major\n",
    "common_major"
   ]
  },
  {
   "cell_type": "markdown",
   "metadata": {},
   "source": [
    "Although we will not create additional graphs segmented by major, to make sure the color scheme is consistent, we can **assign a color palette to the each major**.  "
   ]
  },
  {
   "cell_type": "code",
   "execution_count": null,
   "metadata": {},
   "outputs": [],
   "source": [
    "#Assign a custom color palette to use with the bar graphs\n",
    "palette_color <- c(\"BIOLOGICAL AND BIOMEDICAL SCIENCES.\" = \"orange\",\n",
    "                   \"HEALTH PROFESSIONS AND RELATED PROGRAMS.\" = \"blue\",\n",
    "                   \"BUSINESS, MANAGEMENT, MARKETING, AND RELATED SUPPORT SERVICES.\" = \"red\",\n",
    "                   \"ENGINEERING.\" = \"purple\",\n",
    "                   \"MULTI/INTERDISCIPLINARY STUDIES.\" = \"green\"\n",
    "                  )"
   ]
  },
  {
   "cell_type": "markdown",
   "metadata": {},
   "source": [
    "Now we can create the bar plot to show the number of graduates in each major. The code structure is similar to the code we used to create the line plot. But instead of `geom_line()`, we use `geom_col()`. The `x` and `y` variables we include in `aes()` are `n` and `CIPTitle2010`. This way, we get a horizontal bar chart with x-axis showing the counts and y-axis showing the descriptions of majors. If you want to create a vertical bar chart, you just need to switch the `x` and `y` variables. In the `scale_fill_manual()` statement, we use `values=` to specify how we want each series to display by passing the `palette_color` variable that we assigned above. `palette_color` relates potential values of `CIPTitle2010` to the display color for each. This statement can accept common English names for many colors as well as hexidecimal color codes.\n",
    "\n",
    "> Recall you can also refer to ColorBrewer to insure your choice of colors is ADA-compliant."
   ]
  },
  {
   "cell_type": "code",
   "execution_count": null,
   "metadata": {},
   "outputs": [],
   "source": [
    "#Create a bar chart showing the 5 majors most represented in the graduating cohort\n",
    "\n",
    "#Specify source dataset and x and y variables\n",
    "common_major_plot <- ggplot(common_major, aes(x = n, y = reorder(word(CIPTitle2010, 1),n), fill=CIPTitle2010)) + \n",
    "\n",
    "#Plots bars on the graph\n",
    "geom_col() +\n",
    "\n",
    "#Apply your color palette\n",
    "scale_fill_manual(\"\", values = palette_color, guide=FALSE) +\n",
    "\n",
    "#Adjust the x scale to set the interval for tick marks\n",
    "scale_x_continuous(labels = scales::comma,\n",
    "    breaks = seq(0, 20000, 5000),\n",
    "    limits = c(0, 20000)) +\n",
    "\n",
    "\n",
    "#Add titles and axis labels\n",
    "labs(title = \"REDACTED-related Majors Exceed Every Other Major\",\n",
    "     subtitle = \"Five Most Common Majors\",\n",
    "     x = \"Number of Graduates\", y = \"Major\",\n",
    "     caption = \"Data Sources: TWC & THECB\")\n",
    "\n",
    "#Display the graph we just made\n",
    "print(common_major_plot)"
   ]
  },
  {
   "cell_type": "markdown",
   "metadata": {},
   "source": [
    "### By Gender (Bar plot, small multiples)\n",
    "\n",
    "Now let's segment the most common majors by gender. Here, we will create a facet grid plot for the five most common majors by gender, displaying the proportion of graduates receiving the degree by gender. \n",
    "\n",
    "First, let's analyze the contents of `common_major_gender`."
   ]
  },
  {
   "cell_type": "code",
   "execution_count": null,
   "metadata": {},
   "outputs": [],
   "source": [
    "common_major_gender"
   ]
  },
  {
   "cell_type": "markdown",
   "metadata": {},
   "source": [
    "As you can see, the most common majors for males are not always the most common majors for females. The single bars will not retain the same ordering, so we will leverage the `complete()` function to add in observations for all missing `CIPTitle2010` and `gradgen` combinations, setting these ones as 0."
   ]
  },
  {
   "cell_type": "code",
   "execution_count": null,
   "metadata": {},
   "outputs": [],
   "source": [
    "# add in rows for missing CIP_Family/Gender combinations\n",
    "common_major_gender <- common_major_gender %>%\n",
    "    complete(CIPTitle2010, gradgen, fill=list(prop=0, n=0)) %>%\n",
    "# change m and f to male and female\n",
    "    mutate(\n",
    "        gradgen = ifelse(gradgen == \"F\", \"Female\", \"Male\")\n",
    "    )\n",
    "\n",
    "common_major_gender"
   ]
  },
  {
   "cell_type": "markdown",
   "metadata": {},
   "source": [
    "As of now, if a major does not exist in `common_major_gender` for one gender but does for the other, it will be filled in with 0. However, this is a bit misleading, as there may not necessarily be 0 individuals (or 0 percent) that earned that degree by major. Thus, we will transform these \"0\" values into `***` inside our `label` argument of `aes()`.\n",
    "\n",
    "To create a side-by-side plot, add the `fill` aesthetic, as well as `position_dodge()` inside the `geom_col()` function."
   ]
  },
  {
   "cell_type": "code",
   "execution_count": null,
   "metadata": {},
   "outputs": [],
   "source": [
    "#Create a bar chart showing percentage of graduates by major and gender for most common majors within male and female gender\n",
    "#Specify source dataset and x and y variables\n",
    "\n",
    "common_major_gender_plot <-ggplot(data = common_major_gender, aes(x = str_wrap(word(CIPTitle2010, 1), width=.1), y = prop, fill=gradgen, label = ifelse(prop == 0, \"***\", \" \") )) +\n",
    " geom_bar(stat = \"identity\", alpha = 0.7) + \n",
    "\n",
    "\n",
    "#Create seperate panels by gender\n",
    "facet_grid(. ~gradgen)  +\n",
    "\n",
    "#Adjust the scale for the y axis\n",
    "ylim(0,.25) +\n",
    "  \n",
    "#Add titles and axis labels to your plot\n",
    "geom_text(aes(label = ifelse(prop == 0, \" \", percent(prop, accuracy = 1))), fontface = \"bold\", vjust = 1.5, colour = \"black\", size = 4) +\n",
    " labs(title = \"The Most Common Majors by Gender vary Significantly\",\n",
    "     subtitle = \"The five most common majors by gender account for REDACTED of female and REDACTED of male graduates\",\n",
    "     x = \"Major\", y = \"Percentage\",\n",
    "     caption = \"Data Source: TWC & THECB\n",
    "*** Indicates Majors Outside of Top 5\") + \n",
    "    theme(axis.text.x = element_text(angle = 45, vjust = 1, hjust = 1)) + \n",
    "    geom_text(vjust = 0) +\n",
    "    scale_fill_discrete(name = \"Gender\")\n",
    "\n",
    "    \n",
    "#Display the graph we just made\n",
    "print(common_major_gender_plot)"
   ]
  },
  {
   "cell_type": "markdown",
   "metadata": {},
   "source": [
    "## 6. Employment Outcomes by Gender (Bar plot, Side-by-side)"
   ]
  },
  {
   "cell_type": "markdown",
   "metadata": {},
   "source": [
    "Let's now take a look at the gender differences not in degree earned, but by different earnings outcomes. Recall in the second data exploration notebook where we found the proportion of individuals in the cohort experiencing at least one quarter of full-quarter employment by gender and compared that to the proportion employed in at least one quarter by gender. In this visualization, again utilizing a side-by-side bar plot, we will compare the gender composition of all graduates relative to those who satisfied these employment measures in at least one quarter in their first three years after graduation.\n",
    "\n",
    "Recall that we saved the following files:\n",
    "- **`full_q_stats_gender`**: Gender breakdown for the full cohort as well as for those experiencing at least one quarter of full-quarter employment\n",
    "- **`wage_stats_gender`**: Gender breakdown for those experiencing at least one quarter of employment"
   ]
  },
  {
   "cell_type": "code",
   "execution_count": null,
   "metadata": {},
   "outputs": [],
   "source": [
    "# full quarter info by gender\n",
    "full_q_stats_gender <- read_csv(sprintf(\"U:\\\\%s\\\\TX Training\\\\Results\\\\full_q_stats_gender.csv\", username))\n",
    "\n",
    "# employment in at least one quarter info by gender\n",
    "wage_stats_gender <- read_csv(sprintf(\"U:\\\\%s\\\\TX Training\\\\Results\\\\wage_stats_gender.csv\", username))\n",
    "\n",
    "full_q_stats_gender\n",
    "\n",
    "wage_stats_gender"
   ]
  },
  {
   "cell_type": "markdown",
   "metadata": {},
   "source": [
    "Ideally, we would like to include all of the information in the same plot. However, as in the current state, we could not do so because `full_q_stats_gender` and `wage_stats_gender` are in two separate data frames, and the total cohort counts are in a different column (`n`) than that of the two employment measures (`num_individuals`). Therefore, we will isolate the total cohort counts in a separate data frame, and then combine the three data frames and add in a separate variable to track the type of count."
   ]
  },
  {
   "cell_type": "code",
   "execution_count": null,
   "metadata": {},
   "outputs": [],
   "source": [
    "# isolate total cohort counts\n",
    "cohort_gender <- full_q_stats_gender %>%\n",
    "    select(gradgen, n) %>%\n",
    "    rename(\n",
    "        num_individuals = n\n",
    "    ) %>%\n",
    "    mutate(\n",
    "        count_measure = \"Total Cohort\"\n",
    "    )\n",
    "\n",
    "# add in count measure variable for full_q_stats_gender\n",
    "full_q_stats_gender <- full_q_stats_gender %>%\n",
    "    select(gradgen, num_individuals) %>%\n",
    "    mutate(\n",
    "        count_measure = \"Full Quarter Employment\"\n",
    "    )\n",
    "\n",
    "# add in count measure variable for wage_stats_gender \n",
    "wage_stats_gender <- wage_stats_gender %>%\n",
    "    select(gradgen, num_individuals) %>%\n",
    "    mutate(\n",
    "        count_measure = \"Any Employment\"\n",
    "    )\n",
    "\n",
    "combined_stats_gender <- wage_stats_gender %>%\n",
    "    rbind(full_q_stats_gender) %>%\n",
    "    rbind(cohort_gender) %>%\n",
    "    # change m and f to male and female\n",
    "    mutate(\n",
    "        gradgen = ifelse(gradgen == \"F\", \"Female\", \"Male\")\n",
    "    )\n",
    "\n",
    "combined_stats_gender"
   ]
  },
  {
   "cell_type": "markdown",
   "metadata": {},
   "source": [
    "From here, we can employ a similar strategy as we did in the previous visualization, adding in a `fill` aesthetic, as well as `position_dodge()` to ensure the side by side nature of the visualization."
   ]
  },
  {
   "cell_type": "code",
   "execution_count": null,
   "metadata": {},
   "outputs": [],
   "source": [
    "# Create a bar chart showing gender breakdown for entire cohort and full-quarter employment\n",
    "# Specify source dataset and x and y variables\n",
    "gender_breakdown_plot <- ggplot(\n",
    "    combined_stats_gender, \n",
    "    aes(\n",
    "        # order x axis factors\n",
    "        x = factor(count_measure, levels = c(\"Total Cohort\", \"Any Employment\", \"Full Quarter Employment\")),\n",
    "        y = num_individuals, \n",
    "        fill=as.factor(gradgen)\n",
    "    )\n",
    ") + \n",
    "\n",
    "#Plots bars on the graph as side by side\n",
    "geom_bar(stat = \"identity\", position=position_dodge()) +\n",
    "\n",
    "#Adjust the y scale to set the interval for tick marks\n",
    "scale_y_continuous(labels = scales::comma,\n",
    "    breaks = seq(0, 60000, 10000),\n",
    "    limits = c(0, 60000)) +\n",
    "\n",
    "#Add titles and axis labels\n",
    "labs(title = \"A Similar Difference Exists Across Counts by Gender\",\n",
    "     x = \"Count Measure\", y = \"Number of Individuals\",\n",
    "     caption = \"Data Source: TWC & THECB data\") +\n",
    "\n",
    "scale_fill_discrete(name = \"Gender\")\n",
    "\n",
    "#Display the graph we just made\n",
    "print(gender_breakdown_plot)"
   ]
  },
  {
   "cell_type": "markdown",
   "metadata": {},
   "source": [
    "## 7. Employment patterns by quarters (Heatmap)"
   ]
  },
  {
   "cell_type": "markdown",
   "metadata": {},
   "source": [
    "The final visualization in this notebook is a heatmap displaying our cohort of Texas graduates' employment patterns by quarter, as we will focus on the 15 most common patterns. We do not use a heatmap in the classic way where each \"box\" in the map corresponds to a proportion or number. Instead, we will use the heatmap as a format by which to map employment patterns, as we will color-code each box depending on if the pattern has or does not have employment in a specific quarter. We will start by reading in the .csv file of employment patterns.\n",
    "\n",
    "Recall that we saved the following file:\n",
    "- **`patterns`**: Employment patterns for entire cohort"
   ]
  },
  {
   "cell_type": "code",
   "execution_count": null,
   "metadata": {},
   "outputs": [],
   "source": [
    "# read in patterns\n",
    "patterns <- read_csv(sprintf(\"U:\\\\%s\\\\TX Training\\\\Results\\\\patterns.csv\", username)) %>%\n",
    "    head(15)\n",
    "\n",
    "patterns"
   ]
  },
  {
   "cell_type": "code",
   "execution_count": null,
   "metadata": {},
   "outputs": [],
   "source": [
    "# Save counts to use later in the heatmap - we cannot use the counts as index, as there could be duplicate values \n",
    "# Also, combine cnt and prop columns in counts_pcts\n",
    "patterns$counts_pcts <- paste(patterns$cnt, \"(\", patterns$prop,\")\")\n",
    "counts <- patterns$cnt\n",
    "pcts <- patterns$prop\n",
    "counts_prop <- patterns$counts_pcts\n"
   ]
  },
  {
   "cell_type": "markdown",
   "metadata": {},
   "source": [
    "We will add index with unique sequential numbers and remove the `count` AND `pct` columns:"
   ]
  },
  {
   "cell_type": "code",
   "execution_count": null,
   "metadata": {},
   "outputs": [],
   "source": [
    "patterns$Pattern <- seq.int(nrow(patterns))\n",
    "patterns$cnt <- NULL\n",
    "patterns$prop <- NULL\n",
    "patterns$counts_pcts <- NULL\n",
    "\n",
    "patterns"
   ]
  },
  {
   "cell_type": "markdown",
   "metadata": {},
   "source": [
    "We now need to convert this table from wide to long format, since our `geom_tile()` function only works with long data frames. Instead of using `pivot_wider()` as we did to create `patterns` in the second data exploration notebook, we will use `pivot_longer()` to create a data frame with each row corresponding to a pattern/quarter/status combination."
   ]
  },
  {
   "cell_type": "code",
   "execution_count": null,
   "metadata": {},
   "outputs": [],
   "source": [
    "# convert to long format\n",
    "patterns_long <- pivot_longer(patterns, names_to = 'Quarter', values_to = 'Status', -c(Pattern))"
   ]
  },
  {
   "cell_type": "code",
   "execution_count": null,
   "metadata": {},
   "outputs": [],
   "source": [
    "# see patterns_long\n",
    "head(patterns_long)"
   ]
  },
  {
   "cell_type": "markdown",
   "metadata": {},
   "source": [
    "Now we are ready to create the visualization using the `geom_tile()` layer:"
   ]
  },
  {
   "cell_type": "code",
   "execution_count": null,
   "metadata": {},
   "outputs": [],
   "source": [
    "# Full code for the plot\n",
    "\n",
    "levels = ordered(c(1,2,3,4,5,6,7,8,9,10,11,12,13,14,15))  # specify in which order to add the rows from our wide table (called \"patterns\") \n",
    "                                                             # we want to preserve the same ordering of rows as they are sorted in the table from highest to lowes\n",
    "\n",
    "patterns_long$Quarter <- factor(patterns_long$Quarter, levels=c(\"Q1\", \"Q2\", \"Q3\", \"Q4\", \"Q5\", \"Q6\", \"Q7\", \"Q8\", \"Q9\", \"Q10\", \"Q11\", \"Q12\"))\n",
    "\n",
    "ggplot(data = patterns_long, aes(x = Quarter, y = ordered(Pattern, levels=rev(levels)))) +    # sort y-axis according to levels specified above\n",
    "geom_tile(aes(fill = Status), colour = 'black') +                                            # fill the table with value from Status column, create black contouring\n",
    "scale_fill_brewer(palette = \"Set1\") +                                                        # specify a color palette\n",
    "theme(text=element_text(size=14,face=\"bold\")) +                                                          # specify font size\n",
    "scale_x_discrete(position = 'top') +                                                         # include x-axis labels on top of the plot\n",
    "labs(\n",
    "    y = \"Employment - Counts and Percentages\",\n",
    "    title = 'Employment Patterns by Quarters',\n",
    "    caption = 'Source: TWC & THECB data'\n",
    ") +\n",
    "scale_y_discrete(labels=rev(counts_prop))  # rename the y-axis ticks to correspond to the counts from the table"
   ]
  },
  {
   "cell_type": "markdown",
   "metadata": {},
   "source": [
    "Of course, this notebook only contains a few of the possible visualizations you can create using the `ggplot2` package. Luckily, the R community has created countless resources you can use for making all types of visualizations!\n",
    "\n",
    "> Note: You can save a visualization with the `png()` command by supplying the file path (and name) after running the plot."
   ]
  },
  {
   "cell_type": "markdown",
   "metadata": {},
   "source": [
    "## Appendix: References for Learning `ggplot2`\n",
    "\n",
    "On [ggplot2.tidyverse.org](ggplot2.tidyverse.org), there is a cheat sheet available for public use as well a handful of different resources for learning `ggplot2` that are recommended by the library's developers in the section titled \"Learning ggplot2.\" Additionally, there are many other blog posts, tutorials, and short courses available online."
   ]
  }
 ],
 "metadata": {
  "kernelspec": {
   "display_name": "R",
   "language": "R",
   "name": "ir"
  },
  "language_info": {
   "codemirror_mode": "r",
   "file_extension": ".r",
   "mimetype": "text/x-r-source",
   "name": "R",
   "pygments_lexer": "r",
   "version": "4.0.3"
  }
 },
 "nbformat": 4,
 "nbformat_minor": 4
}
