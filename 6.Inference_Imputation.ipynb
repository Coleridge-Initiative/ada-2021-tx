{
 "cells": [
  {
   "cell_type": "markdown",
   "metadata": {},
   "source": [
    "<center>\n",
    "<img style=\"float: center;\" src=\"images/CI_horizontal.png\" width=\"400\">\n",
    "</center>\n",
    "<center>\n",
    "    <span style=\"font-size: 1.5em;\">\n",
    "        <a href='https://www.coleridgeinitiative.org'>Website</a>\n",
    "    </span>\n",
    "</center>\n"
   ]
  },
  {
   "cell_type": "markdown",
   "metadata": {},
   "source": [
    "<center> Rukhshan Mian, Benjamin Feder, Josh Edelmann </center>"
   ]
  },
  {
   "cell_type": "markdown",
   "metadata": {},
   "source": [
    "# **Imputation, Outcome Measurement, and Inference**\n",
    "\n",
    "What should you do when you encounter missing values in your data? Unfortunately, there is usually no *right* answer. However, different decisions on how to address missing values can have different implications on the inferences you draw from any analysis. One option is to omit observations that have missing values, but you may also choose to retain all observations and instead impute these missing values using various techniques. Imputation provides your best guess for each missing point's true value. \n",
    "\n",
    "Here, you will learn how you can approach working with missing wage records. Recall that we have already analyzed employment outcomes for our 2015 calendar year bachelor's degree recipients in Texas. Those employment outcomes only included those who appeared in Texas' Unemployment Insurance wage records, though. A person may not appear in these records for several reasons:\n",
    "- The person is unemployed. \n",
    "- The person is out of labor force, e.g., schooling, childcare, etc...\n",
    "- The person was employed outside of Texas.\n",
    "- The person's job is not covered in wage records, e.g.,self-employed, independent contractors, federal government works, etc. <a href='https://www.nap.edu/read/10206/chapter/11#294'>(Hotz and Scholz, 2002)</a>"
   ]
  },
  {
   "cell_type": "markdown",
   "metadata": {},
   "source": [
    "## **Learning Objectives**\n",
    "\n",
    "We will focus primarily on the earnings for our cohort in their first quarter after graduation and apply various earnings imputation methods. After this notebook, you should know:\n",
    "\n",
    "- How to identify those with missing records\n",
    "- Options for imputing missing values\n",
    "- How to visualize estimate changes following imputation"
   ]
  },
  {
   "cell_type": "markdown",
   "metadata": {},
   "source": [
    "## **R Setup and Server Connection**"
   ]
  },
  {
   "cell_type": "code",
   "execution_count": null,
   "metadata": {},
   "outputs": [],
   "source": [
    "# Database interaction imports\n",
    "library(odbc, warn.conflicts=F, quietly=T)\n",
    "\n",
    "# For data manipulation/visualization\n",
    "library(tidyverse, warn.conflicts=F, quietly=T)\n",
    "\n",
    "# For faster date conversions\n",
    "library(lubridate, warn.conflicts=F, quietly=T)\n",
    "\n",
    "# Use percent() function\n",
    "library(scales, warn.conflicts=F, quietly=T)\n",
    "              \n",
    "theme_set(theme_gray(base_size = 24))\n",
    "\n",
    "# Adjust repr.plot.width and repr.plot.height to change the size of graphs\n",
    "options(repr.plot.width = 20, repr.plot.height = 12)"
   ]
  },
  {
   "cell_type": "code",
   "execution_count": null,
   "metadata": {},
   "outputs": [],
   "source": [
    "# Connect to the server\n",
    "con <- DBI::dbConnect(odbc::odbc(),\n",
    "                     Driver = \"SQL Server\",\n",
    "                     Server = \"msssql01.c7bdq4o2yhxo.us-gov-west-1.rds.amazonaws.com\",\n",
    "                     Trusted_Connection = \"True\")"
   ]
  },
  {
   "cell_type": "markdown",
   "metadata": {},
   "source": [
    "## **Data Preparation**\n",
    "\n",
    "Before we begin imputating earnings, we need to do some quick data manipulation to isolate earnings from the first quarter after each individual's graduation. To do so, using the same approach as we did in the Data Exploration: Wages notebook, we will create a new column, `quarter_number`, to track the quarter after graduation by taking the difference between `job_date` and `grad_date` then dividing by 13 and rounding to the nearest whole number."
   ]
  },
  {
   "cell_type": "code",
   "execution_count": null,
   "metadata": {},
   "outputs": [],
   "source": [
    "# read in earnings table\n",
    "qry <- \"\n",
    "SELECT * \n",
    "FROM tr_tx_2021.dbo.nb_cohort_wages_link;\n",
    "\"\n",
    "\n",
    "df_wages <- dbGetQuery(con, qry)"
   ]
  },
  {
   "cell_type": "code",
   "execution_count": null,
   "metadata": {},
   "outputs": [],
   "source": [
    "# add in quarter number\n",
    "df_wages <- df_wages %>%\n",
    "    mutate(\n",
    "        quarter_number = round(as.double(difftime(as.Date(job_date), as.Date(grad_date), units = \"weeks\")/13), 0)\n",
    "    )\n",
    "\n",
    "# see evidence\n",
    "df_wages %>%\n",
    "    select(grad_date, job_date, quarter_number) %>%\n",
    "    head()"
   ]
  },
  {
   "cell_type": "code",
   "execution_count": null,
   "metadata": {},
   "outputs": [],
   "source": [
    "# Filter quarter 1 after graduation\n",
    "q1_wages <- df_wages %>%\n",
    "    filter(quarter_number == 1)"
   ]
  },
  {
   "cell_type": "code",
   "execution_count": null,
   "metadata": {},
   "outputs": [],
   "source": [
    "# get total earnings in quarter because we will impute quarterly earnings\n",
    "q1_wages <- q1_wages %>%\n",
    "    group_by(gradid) %>%\n",
    "    summarize(tot_wages = sum(wage)) %>%\n",
    "    ungroup()"
   ]
  },
  {
   "cell_type": "code",
   "execution_count": null,
   "metadata": {},
   "outputs": [],
   "source": [
    "# number of graduates with positive earnings\n",
    "q1_num <- q1_wages %>%\n",
    "    summarize(\n",
    "        n=n_distinct(gradid)\n",
    "    )\n",
    "\n",
    "cat('The total graduates with positive earnings during their first quarter after graduation:', q1_num$n)"
   ]
  },
  {
   "cell_type": "markdown",
   "metadata": {},
   "source": [
    "We can now compare the number of graduates with positive earnings with that of the full cohort."
   ]
  },
  {
   "cell_type": "code",
   "execution_count": null,
   "metadata": {},
   "outputs": [],
   "source": [
    "# read in cohort\n",
    "# only take variables used for imputation in notebook\n",
    "qry <- \"\n",
    "SELECT gradid, gradgen, gradmaj, gradyob, grad_date\n",
    "FROM tr_tx_2021.dbo.grads15_dated;\n",
    "\"\n",
    "\n",
    "df <- dbGetQuery(con, qry)"
   ]
  },
  {
   "cell_type": "code",
   "execution_count": null,
   "metadata": {},
   "outputs": [],
   "source": [
    "cat('The total number of graduates with positive earnings during their first quarter after graduation is', percent(q1_num$n/nrow(df), .01), 'of the study cohort.')"
   ]
  },
  {
   "cell_type": "markdown",
   "metadata": {},
   "source": [
    "<font color=orange> <h3> Checkpoint 1: Identifying Earnings in the Fourth Quarter after Graduation </h3> </font>\n",
    "\n",
    "Given the code above, create a data subset `q4_wages` that contains all earnings for the cohort in their fourth quarter after graduation. How many members of our cohort had positive earnings in this quarter? Do you expect this number to be higher or lower than the number in the first quarter?"
   ]
  },
  {
   "cell_type": "code",
   "execution_count": null,
   "metadata": {},
   "outputs": [],
   "source": [
    "# Import the file with hints and solutions\n",
    "source(\"nb6_hints_and_solutions.txt\")"
   ]
  },
  {
   "cell_type": "code",
   "execution_count": null,
   "metadata": {},
   "outputs": [],
   "source": [
    "# replace __ in the code below with the appropriate quarter\n",
    "# filter by quarter number 4\n",
    "q4_wages <- df_wages %>%\n",
    "    filter(quarter_number == __)\n",
    "\n",
    "# replace __ in the code below with the appropriate function\n",
    "# grouping by SSN and summing wages\n",
    "q4_wages <- q4_wages %>%\n",
    "    ___(gradid) %>%\n",
    "    summarize(tot_wages = sum(wage)) %>%\n",
    "    ungroup()\n",
    "\n",
    "# replace __ in the code below with the appropriate variable\n",
    "# count total number of distinct SSN\n",
    "q4_num <- __ %>%\n",
    "    summarize(n=n_distinct(gradid))\n",
    "\n",
    "cat('The total graduates with positive earnings during their fourth quarter after graduation:', q4_num$n)\n",
    "cat('\\nThat is', percent(q4_num$n/nrow(df), .01), 'of the study cohort.')"
   ]
  },
  {
   "cell_type": "code",
   "execution_count": null,
   "metadata": {},
   "outputs": [],
   "source": [
    "# Uncomment the line below to view a hint\n",
    "# check_1.hint()"
   ]
  },
  {
   "cell_type": "code",
   "execution_count": null,
   "metadata": {},
   "outputs": [],
   "source": [
    "# Uncomment the line below to view a solution\n",
    "# check_1.solution()"
   ]
  },
  {
   "cell_type": "markdown",
   "metadata": {},
   "source": [
    "------"
   ]
  },
  {
   "cell_type": "markdown",
   "metadata": {},
   "source": [
    "Our current data frame, `q1_wages`, only contains individuals with positive earnings in their first quarter after graduation in Texas. Let's add in members of our cohort who did not appear in Texas's wage records during this time period, as well the additional variables from the original cohort table to better describe the individuals. This will let us conduct different imputation methods on the cohort's earnings in their first quarter after graduation as we progress throughout this notebook."
   ]
  },
  {
   "cell_type": "code",
   "execution_count": null,
   "metadata": {},
   "outputs": [],
   "source": [
    "# add grads without positive earnings\n",
    "q1_all_wages <- df %>%\n",
    "    left_join(q1_wages, c(\"gradid\"))"
   ]
  },
  {
   "cell_type": "code",
   "execution_count": null,
   "metadata": {},
   "outputs": [],
   "source": [
    "# see if the number of those with wages in q1_all_wages is the same as total individuals in q1_wages\n",
    "q1_all_wages %>%\n",
    "    mutate(\n",
    "        wage_ind = ifelse(is.na(tot_wages), 'no', 'yes')\n",
    "    ) %>%\n",
    "    group_by(wage_ind) %>%\n",
    "    summarize(n=n_distinct(gradid))"
   ]
  },
  {
   "cell_type": "code",
   "execution_count": null,
   "metadata": {},
   "outputs": [],
   "source": [
    "# number of indviduals in q1_wages\n",
    "q1_num$n"
   ]
  },
  {
   "cell_type": "code",
   "execution_count": null,
   "metadata": {},
   "outputs": [],
   "source": [
    "# see if number of rows is equal (each ssn should have one row)\n",
    "nrow(df) == nrow(q1_all_wages)"
   ]
  },
  {
   "cell_type": "markdown",
   "metadata": {},
   "source": [
    "We can see that these numbers make sense. If they did not add up, chances are there was an issue with the details of your join. Let's also check to see if we have any missing values for our demographic variables. If so, let's fill these in as `U` so they won't be dropped in future analyses."
   ]
  },
  {
   "cell_type": "code",
   "execution_count": null,
   "metadata": {},
   "outputs": [],
   "source": [
    "# see number of na values by column\n",
    "colSums(is.na(q1_all_wages))"
   ]
  },
  {
   "cell_type": "code",
   "execution_count": null,
   "metadata": {},
   "outputs": [],
   "source": [
    "# don't have any missing, but if we did we can do this\n",
    "q1_all_wages <- q1_all_wages %>%\n",
    "    replace_na(list(\n",
    "        gradgen = 'U'\n",
    "    ))\n",
    "\n",
    "# see na distribution now\n",
    "colSums(is.na(q1_all_wages))"
   ]
  },
  {
   "cell_type": "markdown",
   "metadata": {},
   "source": [
    "Theoretically, you could apply these imputation methods to these missing demographic values. However, for the purposes of this notebook, we will focus our imputation techniques on missing earnings values."
   ]
  },
  {
   "cell_type": "markdown",
   "metadata": {},
   "source": [
    "<font color=orange> <h3> **Checkpoint 2: Replicate for Q4** </h3> </font>\n",
    "\n",
    "Create a data frame `q4_all_wages` that mirrors `q1_all_wages` except for Q4. Feel free to add in as many code cells as you deem necessary."
   ]
  },
  {
   "cell_type": "code",
   "execution_count": null,
   "metadata": {},
   "outputs": [],
   "source": [
    "# replace __ in the code below with the appropriate word\n",
    "# add grads without positive earnings\n",
    "\n",
    "q4_all_wages <- df %>%\n",
    "   ___(q4_wages, c(\"gradid\"))\n",
    "\n",
    "# see number of na values by column\n",
    "colSums(is.na(q4_all_wages))\n",
    "\n",
    "\n",
    "# for each variable with missing data fill in with unknown, as shown above. \n",
    "\n",
    "q4_all_wages <- q4_all_wages %>%\n",
    "    replace_na(list(\n",
    "        ___ = 'U'\n",
    "    ))\n",
    "\n",
    "# see na distribution now\n",
    "colSums(is.na(q4_all_wages))"
   ]
  },
  {
   "cell_type": "code",
   "execution_count": null,
   "metadata": {},
   "outputs": [],
   "source": [
    "# Uncomment the code below to view a hint\n",
    "# check_2.hint()"
   ]
  },
  {
   "cell_type": "code",
   "execution_count": null,
   "metadata": {},
   "outputs": [],
   "source": [
    "# Uncomment the code below to view a solution\n",
    "# check_2.solution()"
   ]
  },
  {
   "cell_type": "markdown",
   "metadata": {},
   "source": [
    "## **Imputation**\n",
    "\n",
    "Now that we have confirmed that our `q1_all_wages` data frame is ready for testing our imputation methods, we can get started. We will cover the following methods:\n",
    "1. Dropping all people with \"missing\" values on the variable of interest (Q1 wages)\n",
    "2. Filling in zero for people who do not have records in Texas wage data\n",
    "3. Filling in missing values with the average earnings of people who are in the same degree field and have the same gender\n",
    "4. Regression"
   ]
  },
  {
   "cell_type": "markdown",
   "metadata": {},
   "source": [
    "### **1. Drop All Missing Values**\n",
    "\n",
    "First, let's look at the earnings outcomes during first quarter after graduation when we drop all missing earnings values. Here, by ignoring potentially non-missing values, we are hoping that they mirror the same distribution as the present one. Although this is fairly common, it is not a recommended method.\n",
    "\n",
    "> Deleting missing values is often called listwise deletion and essentially assumes that missing values are missing completely at random (MCAR). For a scholarly treatment of this issue, see (amongst others): \n",
    "> - Rubens (1976) \"Inference and Missing Data\" for the initial presentation, or\n",
    "> - Peugh and Enders (2004) \"Missing Data in Educational Research: A Review of Reporting Practices and Suggestions for Improvement\" for a more recent discussion.  "
   ]
  },
  {
   "cell_type": "code",
   "execution_count": null,
   "metadata": {},
   "outputs": [],
   "source": [
    "# drop missing values\n",
    "q1_no_missing <- q1_all_wages %>% \n",
    "    filter(!is.na(tot_wages))"
   ]
  },
  {
   "cell_type": "code",
   "execution_count": null,
   "metadata": {},
   "outputs": [],
   "source": [
    "# see earnings distribution\n",
    "summary(q1_no_missing$tot_wages)"
   ]
  },
  {
   "cell_type": "markdown",
   "metadata": {},
   "source": [
    "<font color=orange> <h3> **Checkpoint 3: Replicate for Q4** </h3> </font>\n",
    "\n",
    "What does the earnings distribution look like for Q4 when you drop missing values?"
   ]
  },
  {
   "cell_type": "code",
   "execution_count": null,
   "metadata": {},
   "outputs": [],
   "source": [
    "# replace __ with the appropriate variable\n",
    "# drop missing values\n",
    "q4_no_missing <- ___ %>% \n",
    "    filter(!is.na(tot_wages))\n",
    "\n",
    "# see earnings distribution\n",
    "summary(q4_no_missing$tot_wages)"
   ]
  },
  {
   "cell_type": "code",
   "execution_count": null,
   "metadata": {},
   "outputs": [],
   "source": [
    "# Uncomment the code below to view a hint\n",
    "# check_3.hint()"
   ]
  },
  {
   "cell_type": "code",
   "execution_count": null,
   "metadata": {},
   "outputs": [],
   "source": [
    "# Uncomment the code below to view a solution\n",
    "# check_3.solution()"
   ]
  },
  {
   "cell_type": "markdown",
   "metadata": {},
   "source": [
    "### **2. Fill in Missing Values with Zero**\n",
    "\n",
    "Next, let's see how the earnings distribution shifts when we encode all missing earnings outcomes as 0. Here, we are assuming that all missing earnings are due to unemployment."
   ]
  },
  {
   "cell_type": "code",
   "execution_count": null,
   "metadata": {},
   "outputs": [],
   "source": [
    "# fill all null tot_wages with 0\n",
    "q1_wages_zero <- q1_all_wages %>%\n",
    "    mutate(tot_wages = ifelse(is.na(tot_wages), 0, tot_wages)) "
   ]
  },
  {
   "cell_type": "code",
   "execution_count": null,
   "metadata": {},
   "outputs": [],
   "source": [
    "# Take a look at the distribution. How does it vary from the distribution you get in method 1?\n",
    "summary(q1_wages_zero$tot_wages)"
   ]
  },
  {
   "cell_type": "code",
   "execution_count": null,
   "metadata": {},
   "outputs": [],
   "source": [
    "cat('Average earnings if missing wages are dropped is $', round(mean(q1_no_missing$tot_wages), 2), sep = '', '.')\n",
    "\n",
    "cat('\\nAverage earnings if missing wages are imputed as 0 is $', round(mean(q1_wages_zero$tot_wages), 2), sep = '', '.')"
   ]
  },
  {
   "cell_type": "markdown",
   "metadata": {},
   "source": [
    "<font color=orange> <h3> **Checkpoint 4: Replicate for Q4** </h3> </font>\n",
    "\n",
    "What does the earnings distribution look like for Q4 when you fill missing values with zero?"
   ]
  },
  {
   "cell_type": "code",
   "execution_count": null,
   "metadata": {},
   "outputs": [],
   "source": [
    "# replace __ with the appropriate function\n",
    "# fill all null tot_wages with 0\n",
    "q4_wages_zero <- q4_all_wages %>%\n",
    "    mutate(tot_wages = ifelse(___(tot_wages), 0, tot_wages))\n",
    "\n",
    "# see earnings distribution\n",
    "summary(q4_wages_zero$tot_wages)\n",
    "\n",
    "# Take a look at the distribution. How does it vary from the distribution you get in method 1?\n",
    "cat('Average earnings if missing wages are dropped is $', round(mean(q4_no_missing$tot_wages), 2), sep = '', '.')\n",
    "cat('\\nAverage earnings if missing wages are imputed as 0 is $', round(mean(q4_wages_zero$tot_wages), 2), sep = '', '.')"
   ]
  },
  {
   "cell_type": "code",
   "execution_count": null,
   "metadata": {},
   "outputs": [],
   "source": [
    "# Uncomment the line below to view a hint\n",
    "# check_4.hint()"
   ]
  },
  {
   "cell_type": "code",
   "execution_count": null,
   "metadata": {},
   "outputs": [],
   "source": [
    "# Uncomment the line below to view a solution\n",
    "# check_4.solution()"
   ]
  },
  {
   "cell_type": "markdown",
   "metadata": {},
   "source": [
    "### **3. Fill in Missing Values with Major/Gender Mean Earnings**\n",
    "\n",
    "Now, instead of either ignoring missing values or assuming the earnings are 0, we will try imputing missing earnings for each individual as the average quarterly earnings of the other individuals in our cohort of the same `gradgen` and `CIPTitle2010` (major title corresponding to the `gradmaj` CIP code)."
   ]
  },
  {
   "cell_type": "markdown",
   "metadata": {},
   "source": [
    "Here, our strategy is as follows:\n",
    "- Using populated wages, find mean earnings for each major by gender\n",
    "- Merge the mean earnings, based on major and gender, to the overall cohort\n",
    " - Create an additional column `mean_wages`\n",
    "- Recode so that missing values are populated with mean earnings\n",
    " - Store data in a new column `imputed_wages`\n",
    "\n",
    "\n",
    ">Note: This process is frequently termed mean imputation. Implementing this method will compress the variance and covariance of the imputed variable, resulting in biased parameter estimates for all parameters except the mean (Peugh & Enders, 2004, p.529). In this example, we are assuming that the missing values in wages are conditional on both gender and major. We also assume that the missingness is not truly indicative of lack of wages."
   ]
  },
  {
   "cell_type": "markdown",
   "metadata": {},
   "source": [
    "First, we can recycle our code from Module 2 to create a `CIP_Program` variable in our wages data."
   ]
  },
  {
   "cell_type": "code",
   "execution_count": null,
   "metadata": {},
   "outputs": [],
   "source": [
    "# Create a 2 digit CIP program code from the full CIP code in `gradmaj`\n",
    "q1_all_wages <- q1_all_wages %>%\n",
    "    mutate(\n",
    "        CIP_Program = substring(gradmaj, 1, 2)\n",
    "    )\n",
    "\n",
    "# load CIP crosswalk into R\n",
    "qry <- \"\n",
    "SELECT *\n",
    "FROM ds_public_1.dbo.cip_lookup\n",
    "\"\n",
    "cip_lookup <- dbGetQuery(con, qry)\n",
    "\n",
    "# only select 2010 columns\n",
    "cip_lookup <- cip_lookup %>%\n",
    "    select(ends_with(\"2010\"))\n",
    "\n",
    "q1_all_wages <- q1_all_wages %>%\n",
    "    inner_join(cip_lookup, by = c(\"CIP_Program\" = \"CIPCode2010\"))"
   ]
  },
  {
   "cell_type": "code",
   "execution_count": null,
   "metadata": {},
   "outputs": [],
   "source": [
    "# mean earnings by gender/CIPTitle2010\n",
    "q1_major_gend <- q1_all_wages %>%\n",
    "    group_by(gradgen, CIPTitle2010) %>%\n",
    "    summarize(\n",
    "        mean_wages = mean(tot_wages, na.rm=T)\n",
    "    ) %>%\n",
    "    ungroup()\n",
    "\n",
    "head(q1_major_gend)"
   ]
  },
  {
   "cell_type": "code",
   "execution_count": null,
   "metadata": {},
   "outputs": [],
   "source": [
    "# merge mean earnings into original data frame\n",
    "# see if join works\n",
    "q1_all_wages %>%\n",
    "    inner_join(q1_major_gend, by=c('gradgen', 'CIPTitle2010')) %>%\n",
    "    head()"
   ]
  },
  {
   "cell_type": "code",
   "execution_count": null,
   "metadata": {},
   "outputs": [],
   "source": [
    "# save join results to q1_joined_major_gend\n",
    "q1_joined_major_gend <- q1_all_wages %>%\n",
    "    inner_join(q1_major_gend, by=c('gradgen', 'CIPTitle2010'))"
   ]
  },
  {
   "cell_type": "code",
   "execution_count": null,
   "metadata": {},
   "outputs": [],
   "source": [
    "# create new column populated with mean wages iif previously NA, otherwise keep quarterly wages\n",
    "q1_major_gend_impute <- q1_joined_major_gend %>%\n",
    "    mutate(imputed_wages = ifelse(is.na(tot_wages), mean_wages, tot_wages))"
   ]
  },
  {
   "cell_type": "markdown",
   "metadata": {},
   "source": [
    "In using this method, there is a chance we cannot impute missing values for all individuals in the cohort. If `imputed_wages` is still `NA`, we can assume there were no individuals in the cohort with non-missing earnings with the same major/gender combination."
   ]
  },
  {
   "cell_type": "code",
   "execution_count": null,
   "metadata": {},
   "outputs": [],
   "source": [
    "# see if any still don't have imputed earnings\n",
    "q1_major_gend_impute %>%\n",
    "    filter(is.na(imputed_wages)) %>%\n",
    "    summarize(n=n())"
   ]
  },
  {
   "cell_type": "markdown",
   "metadata": {},
   "source": [
    "It appears we have available earnings for every combination of gender and primary degree."
   ]
  },
  {
   "cell_type": "code",
   "execution_count": null,
   "metadata": {},
   "outputs": [],
   "source": [
    "# see distribution\n",
    "summary(q1_major_gend_impute$imputed_wages)"
   ]
  },
  {
   "cell_type": "code",
   "execution_count": null,
   "metadata": {},
   "outputs": [],
   "source": [
    "cat('Average earnings if missing wages are dropped is $', round(mean(q1_no_missing$tot_wages), 2), sep = '', '.')\n",
    "\n",
    "cat('\\nAverage earnings if missing wages are imputed as 0 is $', round(mean(q1_wages_zero$tot_wages), 2), sep = '', '.')\n",
    "\n",
    "cat('\\nAverage earnings if missing wages are imputed using major/gender means earnings is $', round(mean(q1_major_gend_impute$imputed_wages, na.rm=TRUE), 2), sep = '', '.')"
   ]
  },
  {
   "cell_type": "markdown",
   "metadata": {},
   "source": [
    "<font color=orange> <h3> **Checkpoint 5: Replicate for Q4** </h3> </font>\n",
    "\n",
    "Impute missing earnings values as the mean earnings of individuals in the cohort with the same gender (`gradgen`) and degree designation (`CIPTitle2010`) in quarter 4. What does the earnings distribution look like? For how many individuals could you not impute values using this method?"
   ]
  },
  {
   "cell_type": "code",
   "execution_count": null,
   "metadata": {},
   "outputs": [],
   "source": [
    "# replace __ with the appropriate function\n",
    "# Create a 2 digit CIP program code from the full CIP code in `gradmaj`\n",
    "q4_all_wages <- q4_all_wages %>%\n",
    "    mutate(\n",
    "        CIP_Program = substring(gradmaj, 1, 2)\n",
    "    )\n",
    "\n",
    "q4_all_wages <- q4_all_wages %>%\n",
    "    inner_join(cip_lookup, by = c(\"CIP_Program\" = \"CIPCode2010\"))\n",
    "\n",
    "#mean earnings by gender/CIPTitle2010\n",
    "q4_major_gend <- q4_all_wages %>%\n",
    "    group_by(gradgen, CIPTitle2010) %>%\n",
    "    summarize(\n",
    "        mean_wages = ___(tot_wages, na.rm=T)\n",
    "    ) %>%\n",
    "    ungroup()\n",
    "\n",
    "# save join results to q4_joined_major_gend\n",
    "q4_joined_major_gend <- q4_all_wages %>%\n",
    "    inner_join(q4_major_gend, by=c('gradgen', 'CIPTitle2010'))\n",
    "\n",
    "q4_major_gend_impute <- q4_joined_major_gend %>%\n",
    "    mutate(imputed_wages = ifelse(___(tot_wages), mean_wages, tot_wages))\n",
    "\n",
    "# see if any still don't have imputed earnings\n",
    "q4_major_gend_impute %>%\n",
    "    filter(is.na(___)) %>%\n",
    "    summarize(n=n())\n",
    "\n",
    "# see earnings distribution\n",
    "summary(q4_major_gend_impute$imputed_wages)\n",
    "\n",
    "cat('Average earnings if missing wages are dropped is $', round(mean(q4_no_missing$tot_wages), 2), sep = '', '.')\n",
    "\n",
    "cat('\\nAverage earnings if missing wages are imputed as 0 is $', round(mean(q4_wages_zero$tot_wages), 2), sep = '', '.')\n",
    "\n",
    "cat('\\nAverage earnings if missing wages are imputed using major/gender means earnings is $', round(mean(q4_major_gend_impute$imputed_wages, na.rm=TRUE), 2), sep = '', '.')"
   ]
  },
  {
   "cell_type": "code",
   "execution_count": null,
   "metadata": {},
   "outputs": [],
   "source": [
    "# Uncomment the code below to view a hint\n",
    "# check_5.hint()"
   ]
  },
  {
   "cell_type": "code",
   "execution_count": null,
   "metadata": {},
   "outputs": [],
   "source": [
    "# Uncomment the code below to view a solution\n",
    "# check_5.solution()"
   ]
  },
  {
   "cell_type": "markdown",
   "metadata": {},
   "source": [
    "### **4. Regression Imputation**\n",
    "\n",
    "We can also use regression to try to get more accurate imputed earnings. We will build a regression equation from the obervations for which we know the earnings, then use the equation to predict the missing earnings values. This is, in effect, an extension of the mean imputation by subgroup. Here, we will use information of graduates such as birth year, gender, major, and time of graduation as input variables to build out the regression.\n",
    "> Note: We will not be checking the assumptions associated with linear regressions, as this example is aimed at merely displaying how to use a linear regression for imputation. If you plan on using regression imputation, please check all assumptions before employing a predictive model."
   ]
  },
  {
   "cell_type": "code",
   "execution_count": null,
   "metadata": {},
   "outputs": [],
   "source": [
    "# subset to variables included in regression analysis\n",
    "q1_reg <- q1_all_wages %>%\n",
    "    select(-c(CIP_Program, gradmaj))"
   ]
  },
  {
   "cell_type": "markdown",
   "metadata": {},
   "source": [
    "For ease of interpreting the linear regression results, we will filter for the top 5 majors and then group all other majors together. "
   ]
  },
  {
   "cell_type": "code",
   "execution_count": null,
   "metadata": {},
   "outputs": [],
   "source": [
    "# finding top 5 majors\n",
    "top_5_majors <- q1_reg %>%\n",
    "    count(CIPTitle2010) %>% \n",
    "    arrange(desc(n)) %>%\n",
    "    head(5)\n",
    "\n",
    "top_5_majors"
   ]
  },
  {
   "cell_type": "code",
   "execution_count": null,
   "metadata": {},
   "outputs": [],
   "source": [
    "# creating an additional column with the top 5 majors and all others assigned to other.\n",
    "# only take first word of major\n",
    "q1_reg <- q1_reg  %>%\n",
    "    mutate(\n",
    "        major_group = ifelse(q1_reg$CIPTitle2010 %in% top_5_majors$CIPTitle2010, word(CIPTitle2010, 1), \"Other\")\n",
    "    ) %>%\n",
    "    select(-CIPTitle2010)"
   ]
  },
  {
   "cell_type": "code",
   "execution_count": null,
   "metadata": {},
   "outputs": [],
   "source": [
    "# convert gradyob to numeric due to predictive numerical power in age of graduate\n",
    "# all unknown birth years will be dropped\n",
    "q1_reg <- q1_reg %>%\n",
    "    mutate(\n",
    "        gradyob = as.numeric(gradyob)\n",
    "    )\n",
    "\n",
    "nrow(q1_reg)"
   ]
  },
  {
   "cell_type": "code",
   "execution_count": null,
   "metadata": {},
   "outputs": [],
   "source": [
    "# see summary of variables\n",
    "summary(q1_reg)"
   ]
  },
  {
   "cell_type": "markdown",
   "metadata": {},
   "source": [
    "Here, we are creating two data frames to predict the missing wages. `q1_wages_na` is the data frame that we need to predict wages for and `q1_wages_pred` is the data frame that is used to create the linear regression."
   ]
  },
  {
   "cell_type": "code",
   "execution_count": null,
   "metadata": {},
   "outputs": [],
   "source": [
    "q1_wages_na <- q1_reg %>%\n",
    "    filter(is.na(tot_wages)) %>%\n",
    "# don't need tot_wages because they are null \n",
    "    select(-c(tot_wages))\n",
    "\n",
    "# removing NAs from tot_wages\n",
    "q1_wages_pred <- q1_reg %>%\n",
    "    filter(!is.na(tot_wages))"
   ]
  },
  {
   "cell_type": "code",
   "execution_count": null,
   "metadata": {},
   "outputs": [],
   "source": [
    "# run model and fit coefficients\n",
    "# linear regression can be performed with the lm() function with outcome to left of ~ and predictors to right\n",
    "q1_wages_model <- lm(tot_wages ~ gradyob + gradgen + major_group, data = q1_wages_pred)"
   ]
  },
  {
   "cell_type": "code",
   "execution_count": null,
   "metadata": {},
   "outputs": [],
   "source": [
    "# see model summary\n",
    "summary(q1_wages_model)"
   ]
  },
  {
   "cell_type": "markdown",
   "metadata": {},
   "source": [
    "Part of regression-based imputation is to evaluate your model for any unusual relationships. Examining the above result suggets that younger graduates tend to earn less, males tend to earn more, and all majors tend to earn more than the comparison group (biological and biomedical sciences). While there is certainly more we could add to inform this model the sign of these coefficients make theoretical sense. "
   ]
  },
  {
   "cell_type": "markdown",
   "metadata": {},
   "source": [
    "Now that we have fit coefficients for each of the predictors in the model, we can predict the `tot_wages` variable for the missing data using `predict()`."
   ]
  },
  {
   "cell_type": "code",
   "execution_count": null,
   "metadata": {},
   "outputs": [],
   "source": [
    "# predict earnings\n",
    "pred_earnings <- data.frame(tot_wages = predict(q1_wages_model, newdata=q1_wages_na))"
   ]
  },
  {
   "cell_type": "code",
   "execution_count": null,
   "metadata": {},
   "outputs": [],
   "source": [
    "head(pred_earnings)"
   ]
  },
  {
   "cell_type": "code",
   "execution_count": null,
   "metadata": {},
   "outputs": [],
   "source": [
    "# see updated data frame with predicted earnings\n",
    "# pred_earnings retains same order of rows so can see predicted earnings with characteristics\n",
    "cbind(q1_wages_na, pred_earnings) %>% \n",
    "    head()"
   ]
  },
  {
   "cell_type": "code",
   "execution_count": null,
   "metadata": {},
   "outputs": [],
   "source": [
    "# save updated data frame with predicted earnings\n",
    "q1_wages_na_w_earnings <- cbind(q1_wages_na, pred_earnings)"
   ]
  },
  {
   "cell_type": "code",
   "execution_count": null,
   "metadata": {},
   "outputs": [],
   "source": [
    "# combine the known earnings with predicted earnings\n",
    "q1_reg_earnings <- rbind(q1_wages_na_w_earnings, q1_wages_pred)"
   ]
  },
  {
   "cell_type": "code",
   "execution_count": null,
   "metadata": {},
   "outputs": [],
   "source": [
    "# see earnings distribution for full cohort\n",
    "summary(q1_reg_earnings$tot_wages)"
   ]
  },
  {
   "cell_type": "code",
   "execution_count": null,
   "metadata": {},
   "outputs": [],
   "source": [
    "# see earnings distribution for imputed portion of cohort\n",
    "summary(q1_wages_na_w_earnings$tot_wages)"
   ]
  },
  {
   "cell_type": "markdown",
   "metadata": {},
   "source": [
    "## **Visualizing Earnings Distributions**\n",
    "\n",
    "We can quickly determine if these different imputation methods significantly altered the pre-imputation wage distribution by visualizing the overall earnings distribution. Plotting side-by-side boxplots can be an effective choice. To do so, we need to bind the earnings from all of these methods by rows, meaning they must have the same columns. For the sake of simplicity, we will have three columns in this data frame:\n",
    "\n",
    "- `gradid`, the person identifier\n",
    "- `tot_wages`, cumulative earnings in first quarter post-graduation\n",
    "- `method`, type of imputation method"
   ]
  },
  {
   "cell_type": "code",
   "execution_count": null,
   "metadata": {},
   "outputs": [],
   "source": [
    "# adapt q1_no_missing\n",
    "q1_no_missing %>%\n",
    "    select(gradid, tot_wages) %>% head()\n",
    "\n",
    "q1_no_missing <- q1_no_missing %>%\n",
    "    select(gradid, tot_wages) %>%\n",
    "    mutate(method = 'remove missing')"
   ]
  },
  {
   "cell_type": "code",
   "execution_count": null,
   "metadata": {},
   "outputs": [],
   "source": [
    "# adapt q1_reg_earnings\n",
    "q1_reg_earnings%>%\n",
    "    select(gradid, tot_wages) %>% head()\n",
    "\n",
    "q1_reg_earnings <- q1_reg_earnings %>%\n",
    "    select(gradid, tot_wages) %>%\n",
    "    mutate(method = 'regression')"
   ]
  },
  {
   "cell_type": "code",
   "execution_count": null,
   "metadata": {},
   "outputs": [],
   "source": [
    "# adapt q1_wages_zero\n",
    "q1_wages_zero %>%\n",
    "    select(gradid, tot_wages) %>% head()\n",
    "\n",
    "q1_wages_zero <- q1_wages_zero %>%\n",
    "    select(gradid, tot_wages) %>%\n",
    "    mutate(method = 'zero')"
   ]
  },
  {
   "cell_type": "code",
   "execution_count": null,
   "metadata": {},
   "outputs": [],
   "source": [
    "#adapt q1_major_gend_impute\n",
    "q1_major_gend_impute %>% \n",
    "    select(gradid, imputed_wages) %>%\n",
    "    rename(tot_wages = imputed_wages) %>% \n",
    "    head()\n",
    "\n",
    "q1_major_gend_impute <- q1_major_gend_impute %>%\n",
    "    select(gradid, tot_wages) %>%\n",
    "    mutate(method = 'mean')"
   ]
  },
  {
   "cell_type": "code",
   "execution_count": null,
   "metadata": {},
   "outputs": [],
   "source": [
    "# combine earnings from all methods now that they have the same column names\n",
    "all_methods <- rbind(q1_major_gend_impute, q1_reg_earnings, q1_no_missing, q1_wages_zero)\n",
    "max(all_methods$tot_wages, na.rm=TRUE)"
   ]
  },
  {
   "cell_type": "markdown",
   "metadata": {},
   "source": [
    "Before visualizing these distributions, we will filter out extreme outliers that would affect the rest of the visualizations."
   ]
  },
  {
   "cell_type": "code",
   "execution_count": null,
   "metadata": {},
   "outputs": [],
   "source": [
    "# removing outliers that have a tot_wages values greater then 40000\n",
    "all_methods <- all_methods %>% \n",
    "    filter(tot_wages < 40000)\n",
    "\n",
    "# check the max value\n",
    "max(all_methods$tot_wages, na.rm=TRUE)"
   ]
  },
  {
   "cell_type": "code",
   "execution_count": null,
   "metadata": {},
   "outputs": [],
   "source": [
    "# boxplot of all methods\n",
    "all_methods %>%\n",
    "    ggplot(aes(x=method, y = tot_wages)) +\n",
    "    geom_boxplot() + \n",
    "    labs(\n",
    "        title = \"The Q1 Earnings Distribution's Quartiles are moderately affected across \\n imputation methods\",\n",
    "        x='Imputation Method',\n",
    "        y='Quarter Earnings',\n",
    "        caption = 'Source: TX Wage Data'\n",
    "    ) +\n",
    "    theme(\n",
    "        legend.text = element_text(size=24), # legend text font size\n",
    "        legend.title = element_text(size=24), # legend title font size\n",
    "        axis.text.x = element_text(size=24), # x axis label font size\n",
    "        axis.title.x = element_text(size=24), # x axis title font size\n",
    "        axis.text.y = element_text(size=24), # y axis label font size\n",
    "        axis.title.y = element_text(size=24) # y axis title font size\n",
    "    )\n",
    "    \n"
   ]
  },
  {
   "cell_type": "markdown",
   "metadata": {},
   "source": [
    "We can also look at the differences in the earnings distribution by looking at side-by-side histograms. Instead of using the `geom_` layer `geom_boxplot()`, we will use `geom_histogram()`."
   ]
  },
  {
   "cell_type": "code",
   "execution_count": null,
   "metadata": {},
   "outputs": [],
   "source": [
    "all_methods %>%\n",
    "    ggplot(aes(x=tot_wages)) +\n",
    "    geom_histogram() + \n",
    "    facet_grid(method ~ .) +\n",
    "    labs(\n",
    "        title = 'Zero Imputation has a significant change on the overall earnings distribution',\n",
    "        y='Number of Workers',\n",
    "        x='Q1 After Graduation Wages',\n",
    "        caption = 'Source: TX Wage records data'\n",
    "    ) +\n",
    "    theme(\n",
    "        legend.text = element_text(size=24), # legend text font size\n",
    "        legend.title = element_text(size=24), # legend title font size\n",
    "        axis.text.x = element_text(size=24), # x axis label font size\n",
    "        axis.title.x = element_text(size=24), # x axis title font size\n",
    "        axis.text.y = element_text(size=24), # y axis label font size\n",
    "        axis.title.y = element_text(size=24) # y axis title font size\n",
    "    )"
   ]
  },
  {
   "cell_type": "markdown",
   "metadata": {},
   "source": [
    "## **(Optional) Advanced: Using machine learning to impute values**"
   ]
  },
  {
   "cell_type": "markdown",
   "metadata": {},
   "source": [
    "To impute values, we can also use machine learning algorithms such as `K-nearest Neighbors` and `Decision Trees`. The principle behind `K-nearest Neighbors` is quite simple: the missing values can be imputed by values of \"closest neighbors\" - as approximated by other, known, features. \n",
    "\n",
    "For example, if we had cases where the data on earnings of some graduates was completely missing, we could approximate their earnings by referring to other characteristics which could be shared by major group (their \"closest neighbors\" in terms of characteristics).\n",
    "\n",
    "The algorithm calculates the distance between the input values (the missing values) and helps to identify the nearest possible value based on other features (such as known characteristics of the closest major group). Imputing missing data using machine learning has become a research hotbed, and there are plenty of papers covering the various algorithms if you are curious."
   ]
  },
  {
   "cell_type": "markdown",
   "metadata": {},
   "source": [
    "## **References**\n",
    "\n",
    "Peugh, J. L., & Enders, C. K. (2004). Missing Data in Educational Research: A Review of Reporting Practices and Suggestions for Improvement. _Review of Educational Research_, 74(4), 525-556. doi: 10.3102/00346543074004525\n",
    "\n",
    "Rubin, D. B. (1976). Inference and Missing Data. _Biometrika_, 63(3), 581-592. doi:10.2307/2335739"
   ]
  }
 ],
 "metadata": {
  "kernelspec": {
   "display_name": "R",
   "language": "R",
   "name": "ir"
  },
  "language_info": {
   "codemirror_mode": "r",
   "file_extension": ".r",
   "mimetype": "text/x-r-source",
   "name": "R",
   "pygments_lexer": "r",
   "version": "4.0.3"
  }
 },
 "nbformat": 4,
 "nbformat_minor": 4
}
